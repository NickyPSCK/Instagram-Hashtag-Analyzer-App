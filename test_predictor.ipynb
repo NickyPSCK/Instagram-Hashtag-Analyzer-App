{
 "cells": [
  {
   "cell_type": "markdown",
   "metadata": {},
   "source": [
    "# Example of Class ClassificationPredictor"
   ]
  },
  {
   "cell_type": "code",
   "execution_count": 1,
   "metadata": {},
   "outputs": [],
   "source": [
    "from predictor import ClassificationPredictor"
   ]
  },
  {
   "cell_type": "code",
   "execution_count": 2,
   "metadata": {},
   "outputs": [
    {
     "name": "stdout",
     "output_type": "stream",
     "text": [
      "[[('Heightly Positive', 0.990144), ('Positive', 0.0045399326), ('Neutral', 0.0031595605)], [('Heightly Positive', 0.492251), ('Positive', 0.38778412), ('Neutral', 0.118599)], [('Positive', 0.9281218), ('Heightly Positive', 0.05747166), ('Neutral', 0.013531899)], [('Heightly Positive', 0.74404526), ('Positive', 0.14317319), ('Negative', 0.110825524)], [('Heightly Negative', 0.67225325), ('Heightly Positive', 0.27487963), ('Negative', 0.045444675)], [('Positive', 0.97473496), ('Heightly Negative', 0.007112248), ('Neutral', 0.006893141)], [('Heightly Positive', 0.8965044), ('Negative', 0.057121776), ('Neutral', 0.045257926)], [('Heightly Positive', 0.8410649), ('Positive', 0.082179196), ('Neutral', 0.048098586)], [('Positive', 0.7006412), ('Heightly Positive', 0.09853669), ('Negative', 0.09560681)], [('Heightly Positive', 0.9913747), ('Neutral', 0.0071394527), ('Positive', 0.0013657914)], [('Positive', 0.98631626), ('Heightly Positive', 0.0063679204), ('Negative', 0.0038383773)], [('Positive', 0.79733574), ('Heightly Positive', 0.2026362), ('Negative', 2.6049738e-05)]]\n"
     ]
    }
   ],
   "source": [
    "# Example\n",
    "from tensorflow.keras.applications.efficientnet import EfficientNetB7, preprocess_input, decode_predictions\n",
    "predictor = ClassificationPredictor( \n",
    "                                            model_path='model/sentiment_classification.h5', \n",
    "                                            preprocess_input=preprocess_input,\n",
    "                                            class_label=['Heightly Negative', 'Negative', 'Neutral', 'Positive', 'Heightly Positive']\n",
    "                                            )\n",
    "predictions, list_of_image_path = predictor.predict_form_path('static/downloads/hashtag/demo/demo3/*.jpg')\n",
    "\n",
    "print(predictor.decode_predictions(predictions, top=3))\n",
    "\n",
    "\n"
   ]
  },
  {
   "cell_type": "code",
   "execution_count": 3,
   "metadata": {},
   "outputs": [
    {
     "name": "stdout",
     "output_type": "stream",
     "text": [
      "[[('Bright', 0.9276178), ('Detailed', 0.05511031), ('Texture', 0.004409736)], [('Bright', 0.21488433), ('Detailed', 0.13734423), ('Horror', 0.08239359)], [('Bright', 0.5590329), ('Macro', 0.10137156), ('Depth_of_field', 0.06465641)], [('Bright', 0.6258374), ('Detailed', 0.12626041), ('Horror', 0.040075026)], [('Horror', 0.32814375), ('Bright', 0.1602191), ('Detailed', 0.11697655)], [('Bright', 0.3070475), ('Detailed', 0.23858066), ('Romantic', 0.17014425)], [('Horror', 0.15672955), ('Vintage', 0.15279524), ('Bright', 0.13886358)], [('Vintage', 0.29473042), ('Horror', 0.08896549), ('Pastel', 0.078510836)], [('Horror', 0.77807677), ('Bright', 0.13064791), ('Detailed', 0.038004786)], [('Bright', 0.23946849), ('Detailed', 0.20029245), ('Romantic', 0.15270096)], [('Bright', 0.29911897), ('Detailed', 0.101822115), ('Geometric_composition', 0.08584105)], [('Bright', 0.5095479), ('Detailed', 0.21782504), ('Horror', 0.06719037)]]\n"
     ]
    }
   ],
   "source": [
    "from tensorflow.keras.applications.efficientnet import EfficientNetB7, preprocess_input, decode_predictions\n",
    "predictor = ClassificationPredictor( \n",
    "                                            model_path='model/style_classification.h5', \n",
    "                                            preprocess_input=preprocess_input,\n",
    "                                            class_label=[  'Bokeh','Bright','Depth_of_field','Detailed','Ethereal',      \n",
    "                                            'Geometric_composition', 'Hazy', 'Hdr', 'Horror', 'Long_exposure', 'Macro', 'Melancholy', \n",
    "                                            'Minimal', 'Noir', 'Pastel', 'Romantic', 'Serene', 'Sunny', 'Texture','Vintage']   \n",
    "                                            )\n",
    "predictions, list_of_image_path = predictor.predict_form_path('static/downloads/hashtag/demo/demo3/*.jpg')\n",
    "\n",
    "print(predictor.decode_predictions(predictions, top=3))"
   ]
  },
  {
   "cell_type": "code",
   "execution_count": 4,
   "metadata": {},
   "outputs": [
    {
     "name": "stdout",
     "output_type": "stream",
     "text": [
      "[[('childs_room', 0.99172956), ('playroom', 0.0055451314), ('art_studio', 0.0008909177)], [('playroom', 0.64828783), ('nursery', 0.20528008), ('gift_shop', 0.048818126)], [('martial_arts_gym', 0.57329375), ('science_museum', 0.0646738), ('ballroom', 0.062308207)], [('playroom', 0.68009526), ('candy_store', 0.07698163), ('amusement_park', 0.07647928)], [('airplane_cabin', 0.26213238), ('jewelry_shop', 0.22934721), ('shoe_shop', 0.15839867)], [('childs_room', 0.9158845), ('water_park', 0.011231533), ('carrousel', 0.010077949)], [('childs_room', 0.42650962), ('shoe_shop', 0.17509948), ('gift_shop', 0.1189316)], [('shoe_shop', 0.3654777), ('beauty_salon', 0.0759288), ('jewelry_shop', 0.06677816)], [('physics_laboratory', 0.28802544), ('shoe_shop', 0.069567144), ('museum/indoor', 0.057442755)], [('swimming_pool/outdoor', 0.2927975), ('childs_room', 0.14336143), ('art_studio', 0.1386063)], [('atrium/public', 0.411709), ('shopping_mall/indoor', 0.13481773), ('discotheque', 0.0463472)], [('clothing_store', 0.24737456), ('igloo', 0.1361063), ('childs_room', 0.11929249)]]\n"
     ]
    }
   ],
   "source": [
    "predictor = ClassificationPredictor( \n",
    "                                            model_path='model/scence_classification.h5', \n",
    "                                            preprocess_input=None,\n",
    "                                            class_label=['airfield','airplane_cabin','airport_terminal','alcove','alley','amphitheater','amusement_arcade','amusement_park',\n",
    "                                                        'apartment_building/outdoor','aquarium','aqueduct','arcade','arch','archaelogical_excavation','archive','arena/hockey',\n",
    "                                                        'arena/performance','arena/rodeo','army_base','art_gallery','art_school','art_studio','artists_loft','assembly_line',\n",
    "                                                        'athletic_field/outdoor','atrium/public','attic','auditorium','auto_factory','auto_showroom','badlands','bakery/shop',\n",
    "                                                        'balcony/exterior','balcony/interior','ball_pit','ballroom','bamboo_forest','bank_vault','banquet_hall','bar','barn',\n",
    "                                                        'barndoor','baseball_field','basement','basketball_court/indoor','bathroom','bazaar/indoor','bazaar/outdoor','beach',\n",
    "                                                        'beach_house','beauty_salon','bedchamber','bedroom','beer_garden','beer_hall','berth','biology_laboratory','boardwalk',\n",
    "                                                        'boat_deck','boathouse','bookstore','booth/indoor','botanical_garden','bow_window/indoor','bowling_alley','boxing_ring',\n",
    "                                                        'bridge','building_facade','bullring','burial_chamber','bus_interior','bus_station/indoor','butchers_shop','butte',\n",
    "                                                        'cabin/outdoor','cafeteria','campsite','campus','canal/natural','canal/urban','candy_store','canyon','car_interior',\n",
    "                                                        'carrousel','castle','catacomb','cemetery','chalet','chemistry_lab','childs_room','church/indoor','church/outdoor',\n",
    "                                                        'classroom','clean_room','cliff','closet','clothing_store','coast','cockpit','coffee_shop','computer_room',\n",
    "                                                        'conference_center','conference_room','construction_site','corn_field','corral','corridor','cottage','courthouse',\n",
    "                                                        'courtyard','creek','crevasse','crosswalk','dam','delicatessen','department_store','desert/sand','desert/vegetation',\n",
    "                                                        'desert_road','diner/outdoor','dining_hall','dining_room','discotheque','doorway/outdoor','dorm_room','downtown',\n",
    "                                                        'dressing_room','driveway','drugstore','elevator/door','elevator_lobby','elevator_shaft','embassy','engine_room',\n",
    "                                                        'entrance_hall','escalator/indoor','excavation','fabric_store','farm','fastfood_restaurant','field/cultivated',\n",
    "                                                        'field/wild','field_road','fire_escape','fire_station','fishpond','flea_market/indoor','florist_shop/indoor',\n",
    "                                                        'food_court','football_field','forest/broadleaf','forest_path','forest_road','formal_garden','fountain','galley',\n",
    "                                                        'garage/indoor','garage/outdoor','gas_station','gazebo/exterior','general_store/indoor','general_store/outdoor',\n",
    "                                                        'gift_shop','glacier','golf_course','greenhouse/indoor','greenhouse/outdoor','grotto','gymnasium/indoor','hangar/indoor',\n",
    "                                                        'hangar/outdoor','harbor','hardware_store','hayfield','heliport','highway','home_office','home_theater','hospital',\n",
    "                                                        'hospital_room','hot_spring','hotel/outdoor','hotel_room','house','hunting_lodge/outdoor','ice_cream_parlor','ice_floe',\n",
    "                                                        'ice_shelf','ice_skating_rink/indoor','ice_skating_rink/outdoor','iceberg','igloo','industrial_area','inn/outdoor',\n",
    "                                                        'islet','jacuzzi/indoor','jail_cell','japanese_garden','jewelry_shop','junkyard','kasbah','kennel/outdoor',\n",
    "                                                        'kindergarden_classroom','kitchen','lagoon','lake/natural','landfill','landing_deck','laundromat','lawn','lecture_room',\n",
    "                                                        'legislative_chamber','library/indoor','library/outdoor','lighthouse','living_room','loading_dock','lobby',\n",
    "                                                        'lock_chamber','locker_room','mansion','manufactured_home','market/indoor','market/outdoor','marsh','martial_arts_gym',\n",
    "                                                        'mausoleum','medina','mezzanine','moat/water','mosque/outdoor','motel','mountain','mountain_path','mountain_snowy',\n",
    "                                                        'movie_theater/indoor','museum/indoor','museum/outdoor','music_studio','natural_history_museum','nursery',\n",
    "                                                        'nursing_home','oast_house','ocean','office','office_building','office_cubicles','oilrig','operating_room','orchard',\n",
    "                                                        'orchestra_pit','pagoda','palace','pantry','park','parking_garage/indoor','parking_garage/outdoor','parking_lot',\n",
    "                                                        'pasture','patio','pavilion','pet_shop','pharmacy','phone_booth','physics_laboratory','picnic_area','pier','pizzeria',\n",
    "                                                        'playground','playroom','plaza','pond','porch','promenade','pub/indoor','racecourse','raceway','raft','railroad_track',\n",
    "                                                        'rainforest','reception','recreation_room','repair_shop','residential_neighborhood','restaurant','restaurant_kitchen',\n",
    "                                                        'restaurant_patio','rice_paddy','river','rock_arch','roof_garden','rope_bridge','ruin','runway','sandbox','sauna',\n",
    "                                                        'schoolhouse','science_museum','server_room','shed','shoe_shop','shopfront','shopping_mall/indoor','shower',\n",
    "                                                        'ski_resort','ski_slope','sky','skyscraper','slum','snowfield','soccer_field','stable','stadium/baseball',\n",
    "                                                        'stadium/football','stadium/soccer','stage/indoor','stage/outdoor','staircase','storage_room','street',\n",
    "                                                        'subway_station/platform','supermarket','sushi_bar','swamp','swimming_hole','swimming_pool/indoor',\n",
    "                                                        'swimming_pool/outdoor','synagogue/outdoor','television_room','television_studio','temple/asia','throne_room',\n",
    "                                                        'ticket_booth','topiary_garden','tower','toyshop','train_interior','train_station/platform','tree_farm','tree_house',\n",
    "                                                        'trench','tundra','underwater/ocean_deep','utility_room','valley','vegetable_garden','veterinarians_office','viaduct',\n",
    "                                                        'village','vineyard','volcano','volleyball_court/outdoor','waiting_room','water_park','water_tower','waterfall',\n",
    "                                                        'watering_hole','wave','wet_bar','wheat_field','wind_farm','windmill','yard','youth_hostel','zen_garden']\n",
    "                                                                                                        )\n",
    "predictions, list_of_image_path = predictor.predict_form_path('static/downloads/hashtag/demo/demo3/*.jpg')\n",
    "\n",
    "print(predictor.decode_predictions(predictions, top=3))"
   ]
  }
 ],
 "metadata": {
  "kernelspec": {
   "display_name": "Python 3",
   "language": "python",
   "name": "python3"
  },
  "language_info": {
   "codemirror_mode": {
    "name": "ipython",
    "version": 3
   },
   "file_extension": ".py",
   "mimetype": "text/x-python",
   "name": "python",
   "nbconvert_exporter": "python",
   "pygments_lexer": "ipython3",
   "version": "3.8.5"
  }
 },
 "nbformat": 4,
 "nbformat_minor": 2
}
