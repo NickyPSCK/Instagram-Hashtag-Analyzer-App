{
 "metadata": {
  "language_info": {
   "codemirror_mode": {
    "name": "ipython",
    "version": 3
   },
   "file_extension": ".py",
   "mimetype": "text/x-python",
   "name": "python",
   "nbconvert_exporter": "python",
   "pygments_lexer": "ipython3",
   "version": "3.8.8"
  },
  "orig_nbformat": 2,
  "kernelspec": {
   "name": "python388jvsc74a57bd098e0e5a8360ea46c4d89f3d13cddee7b000a2354652bb761e304bf1406e0af16",
   "display_name": "Python 3.8.8 64-bit ('independent-study': conda)"
  }
 },
 "nbformat": 4,
 "nbformat_minor": 2,
 "cells": [
  {
   "cell_type": "code",
   "execution_count": 1,
   "metadata": {},
   "outputs": [],
   "source": [
    "import pandas as pd"
   ]
  },
  {
   "cell_type": "code",
   "execution_count": 2,
   "metadata": {},
   "outputs": [],
   "source": [
    "from association_analyzer import check_objects, summary_check_objects\n",
    "\n",
    "data = [('mouse', 'cup', 'laptop', 'keyboard', 'tv', 'laptop'),\n",
    " ('tie', 'person'),\n",
    " ('mouse', 'laptop', 'keyboard'),\n",
    " ('laptop', 'keyboard', 'mouse', 'chair', 'tv', 'keyboard'),\n",
    " ('dog',),\n",
    " ('dog',),\n",
    " tuple()]\n",
    "\n",
    "check_list = ['person', 'laptop']\n",
    "#check_list = []"
   ]
  },
  {
   "cell_type": "code",
   "execution_count": 3,
   "metadata": {},
   "outputs": [],
   "source": [
    "check_df = check_objects(data, check_list, count=False)"
   ]
  },
  {
   "cell_type": "code",
   "execution_count": 4,
   "metadata": {},
   "outputs": [
    {
     "output_type": "execute_result",
     "data": {
      "text/plain": [
       "   person  laptop\n",
       "0   False    True\n",
       "1    True   False\n",
       "2   False    True\n",
       "3   False    True\n",
       "4   False   False\n",
       "5   False   False\n",
       "6   False   False"
      ],
      "text/html": "<div>\n<style scoped>\n    .dataframe tbody tr th:only-of-type {\n        vertical-align: middle;\n    }\n\n    .dataframe tbody tr th {\n        vertical-align: top;\n    }\n\n    .dataframe thead th {\n        text-align: right;\n    }\n</style>\n<table border=\"1\" class=\"dataframe\">\n  <thead>\n    <tr style=\"text-align: right;\">\n      <th></th>\n      <th>person</th>\n      <th>laptop</th>\n    </tr>\n  </thead>\n  <tbody>\n    <tr>\n      <th>0</th>\n      <td>False</td>\n      <td>True</td>\n    </tr>\n    <tr>\n      <th>1</th>\n      <td>True</td>\n      <td>False</td>\n    </tr>\n    <tr>\n      <th>2</th>\n      <td>False</td>\n      <td>True</td>\n    </tr>\n    <tr>\n      <th>3</th>\n      <td>False</td>\n      <td>True</td>\n    </tr>\n    <tr>\n      <th>4</th>\n      <td>False</td>\n      <td>False</td>\n    </tr>\n    <tr>\n      <th>5</th>\n      <td>False</td>\n      <td>False</td>\n    </tr>\n    <tr>\n      <th>6</th>\n      <td>False</td>\n      <td>False</td>\n    </tr>\n  </tbody>\n</table>\n</div>"
     },
     "metadata": {},
     "execution_count": 4
    }
   ],
   "source": [
    "check_df"
   ]
  },
  {
   "cell_type": "code",
   "execution_count": 5,
   "metadata": {},
   "outputs": [
    {
     "output_type": "execute_result",
     "data": {
      "text/plain": [
       "        Number of Busket  Percent of Busket\n",
       "person                 1          14.285714\n",
       "laptop                 3          42.857143"
      ],
      "text/html": "<div>\n<style scoped>\n    .dataframe tbody tr th:only-of-type {\n        vertical-align: middle;\n    }\n\n    .dataframe tbody tr th {\n        vertical-align: top;\n    }\n\n    .dataframe thead th {\n        text-align: right;\n    }\n</style>\n<table border=\"1\" class=\"dataframe\">\n  <thead>\n    <tr style=\"text-align: right;\">\n      <th></th>\n      <th>Number of Busket</th>\n      <th>Percent of Busket</th>\n    </tr>\n  </thead>\n  <tbody>\n    <tr>\n      <th>person</th>\n      <td>1</td>\n      <td>14.285714</td>\n    </tr>\n    <tr>\n      <th>laptop</th>\n      <td>3</td>\n      <td>42.857143</td>\n    </tr>\n  </tbody>\n</table>\n</div>"
     },
     "metadata": {},
     "execution_count": 5
    }
   ],
   "source": [
    "summary_check_objects(check_df)"
   ]
  },
  {
   "cell_type": "code",
   "execution_count": 6,
   "metadata": {},
   "outputs": [
    {
     "output_type": "execute_result",
     "data": {
      "text/plain": [
       "   Width  Height  Channel Aspect Ratio Orientation\n",
       "0    850     510        3          5:3    Portrait\n",
       "1   1280     720        3         16:9    Portrait\n",
       "2   1280     853        3     1280:853    Portrait\n",
       "3   1080     720        3          3:2    Portrait\n",
       "4   1080     720        3          3:2    Portrait"
      ],
      "text/html": "<div>\n<style scoped>\n    .dataframe tbody tr th:only-of-type {\n        vertical-align: middle;\n    }\n\n    .dataframe tbody tr th {\n        vertical-align: top;\n    }\n\n    .dataframe thead th {\n        text-align: right;\n    }\n</style>\n<table border=\"1\" class=\"dataframe\">\n  <thead>\n    <tr style=\"text-align: right;\">\n      <th></th>\n      <th>Width</th>\n      <th>Height</th>\n      <th>Channel</th>\n      <th>Aspect Ratio</th>\n      <th>Orientation</th>\n    </tr>\n  </thead>\n  <tbody>\n    <tr>\n      <th>0</th>\n      <td>850</td>\n      <td>510</td>\n      <td>3</td>\n      <td>5:3</td>\n      <td>Portrait</td>\n    </tr>\n    <tr>\n      <th>1</th>\n      <td>1280</td>\n      <td>720</td>\n      <td>3</td>\n      <td>16:9</td>\n      <td>Portrait</td>\n    </tr>\n    <tr>\n      <th>2</th>\n      <td>1280</td>\n      <td>853</td>\n      <td>3</td>\n      <td>1280:853</td>\n      <td>Portrait</td>\n    </tr>\n    <tr>\n      <th>3</th>\n      <td>1080</td>\n      <td>720</td>\n      <td>3</td>\n      <td>3:2</td>\n      <td>Portrait</td>\n    </tr>\n    <tr>\n      <th>4</th>\n      <td>1080</td>\n      <td>720</td>\n      <td>3</td>\n      <td>3:2</td>\n      <td>Portrait</td>\n    </tr>\n  </tbody>\n</table>\n</div>"
     },
     "metadata": {},
     "execution_count": 6
    }
   ],
   "source": [
    "from predictor import load_images, get_imgs_properties\n",
    "img_glob_pathname = 'static/downloads/hashtag/demo/demo1/*.jpg'\n",
    "X, list_of_image_path = load_images(img_glob_pathname, color_mode='rgb')\n",
    "get_imgs_properties(X)"
   ]
  }
 ]
}