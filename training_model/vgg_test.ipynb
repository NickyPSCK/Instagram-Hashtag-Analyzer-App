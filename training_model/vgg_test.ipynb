{
 "metadata": {
  "language_info": {
   "codemirror_mode": {
    "name": "ipython",
    "version": 3
   },
   "file_extension": ".py",
   "mimetype": "text/x-python",
   "name": "python",
   "nbconvert_exporter": "python",
   "pygments_lexer": "ipython3",
   "version": "3.8.5-final"
  },
  "orig_nbformat": 2,
  "kernelspec": {
   "name": "python3",
   "display_name": "Python 3.8.5 64-bit ('is-gpu': conda)",
   "metadata": {
    "interpreter": {
     "hash": "a97b4bf053bb3655ac631f242aad20d774204afb54bd326bc62f622880a4c42c"
    }
   }
  }
 },
 "nbformat": 4,
 "nbformat_minor": 2,
 "cells": [
  {
   "cell_type": "code",
   "execution_count": 1,
   "metadata": {},
   "outputs": [
    {
     "output_type": "stream",
     "name": "stdout",
     "text": [
      "Predicted: [('n03666591', 'lighter', 0.49452022), ('n03492542', 'hard_disc', 0.07322268), ('n03777754', 'modem', 0.064837806)]\n"
     ]
    }
   ],
   "source": [
    "import numpy as np\n",
    "\n",
    "import glob\n",
    "from tensorflow.keras.applications.vgg16 import VGG16, preprocess_input, decode_predictions\n",
    "from tensorflow.keras.preprocessing import image\n",
    "\n",
    "\n",
    "vgg = VGG16(weights = \"imagenet\", include_top=True)\n",
    "#print(vgg.summary())\n",
    "\n",
    "img_path = '../downloads/hashtag/20210103_161432_UTC_apple/2021-01-03_16-14-06_UTC.jpg'\n",
    "img = image.load_img(img_path, target_size=(224, 224))   # load as PIL.Image.Image\n",
    "x = image.img_to_array(img)   # convert to numpy ndarray\n",
    "x = np.expand_dims(x, axis=0)\n",
    "x = preprocess_input(x)\n",
    "\n",
    "pred = vgg.predict( x )\n",
    "\n",
    "print('Predicted:', decode_predictions(pred, top=3)[0])"
   ]
  },
  {
   "cell_type": "code",
   "execution_count": 4,
   "metadata": {},
   "outputs": [
    {
     "output_type": "stream",
     "name": "stdout",
     "text": [
      "Predicted: [('n02992529', 'cellular_telephone', 0.32671088), ('n03777754', 'modem', 0.09391347), ('n03584254', 'iPod', 0.06508845)]\n"
     ]
    }
   ],
   "source": [
    "import numpy as np\n",
    "\n",
    "import glob\n",
    "from tensorflow.keras.applications.efficientnet import EfficientNetB0, preprocess_input, decode_predictions\n",
    "\n",
    "from tensorflow.keras.preprocessing import image\n",
    "\n",
    "\n",
    "eff = EfficientNetB0(weights = \"imagenet\", include_top=True)\n",
    "#print(vgg.summary())\n",
    "\n",
    "img_path = '../downloads/hashtag/20210103_161432_UTC_apple/2021-01-03_16-14-06_UTC.jpg'\n",
    "img = image.load_img(img_path, target_size=(224, 224))   # load as PIL.Image.Image\n",
    "x = image.img_to_array(img)   # convert to numpy ndarray\n",
    "x = np.expand_dims(x, axis=0)\n",
    "x = preprocess_input(x)\n",
    "\n",
    "pred = eff.predict( x )\n",
    "\n",
    "print('Predicted:', decode_predictions(pred, top=3)[0])"
   ]
  },
  {
   "cell_type": "code",
   "execution_count": 6,
   "metadata": {},
   "outputs": [
    {
     "output_type": "stream",
     "name": "stdout",
     "text": [
      "Downloading data from https://storage.googleapis.com/keras-applications/efficientnetb7.h5\n",
      "268328960/268326632 [==============================] - 70s 0us/step\n",
      "Predicted: [('n03584254', 'iPod', 0.7268272), ('n02992529', 'cellular_telephone', 0.038227864), ('n03908618', 'pencil_box', 0.011102997)]\n"
     ]
    }
   ],
   "source": [
    "import numpy as np\n",
    "\n",
    "import glob\n",
    "from tensorflow.keras.applications.efficientnet import EfficientNetB7, preprocess_input, decode_predictions\n",
    "\n",
    "from tensorflow.keras.preprocessing import image\n",
    "\n",
    "\n",
    "eff = EfficientNetB7(weights = \"imagenet\", include_top=True)\n",
    "#print(vgg.summary())\n",
    "\n",
    "img_path = '../downloads/hashtag/20210103_161432_UTC_apple/2021-01-03_16-14-06_UTC.jpg'\n",
    "img = image.load_img(img_path, target_size=(600, 600))   # load as PIL.Image.Image\n",
    "x = image.img_to_array(img)   # convert to numpy ndarray\n",
    "x = np.expand_dims(x, axis=0)\n",
    "x = preprocess_input(x)\n",
    "\n",
    "pred = eff.predict( x )\n",
    "\n",
    "print('Predicted:', decode_predictions(pred, top=3)[0])"
   ]
  }
 ]
}