{
 "metadata": {
  "language_info": {
   "codemirror_mode": {
    "name": "ipython",
    "version": 3
   },
   "file_extension": ".py",
   "mimetype": "text/x-python",
   "name": "python",
   "nbconvert_exporter": "python",
   "pygments_lexer": "ipython3",
   "version": "3.8.8"
  },
  "orig_nbformat": 2,
  "kernelspec": {
   "name": "python388jvsc74a57bd098e0e5a8360ea46c4d89f3d13cddee7b000a2354652bb761e304bf1406e0af16",
   "display_name": "Python 3.8.8 64-bit ('independent-study': conda)"
  }
 },
 "nbformat": 4,
 "nbformat_minor": 2,
 "cells": [
  {
   "source": [
    "# Example of Class ImageAnalyzer"
   ],
   "cell_type": "markdown",
   "metadata": {}
  },
  {
   "cell_type": "code",
   "execution_count": 1,
   "metadata": {},
   "outputs": [
    {
     "output_type": "execute_result",
     "data": {
      "text/plain": [
       "<config_loader.ConfigLoader at 0x24b796f2970>"
      ]
     },
     "metadata": {},
     "execution_count": 1
    }
   ],
   "source": [
    "from util.init_sys import InitSystem\n",
    "InitSystem().init()"
   ]
  },
  {
   "cell_type": "code",
   "execution_count": 2,
   "metadata": {},
   "outputs": [],
   "source": [
    "import tensorflow\n",
    "from image_analyzer import ImageAnalyzer"
   ]
  },
  {
   "cell_type": "code",
   "execution_count": 3,
   "metadata": {},
   "outputs": [],
   "source": [
    "import json\n",
    "with open('config/class.json', 'r') as f:\n",
    "    class_label = json.loads(f.read())"
   ]
  },
  {
   "cell_type": "code",
   "execution_count": 4,
   "metadata": {},
   "outputs": [],
   "source": [
    "\n",
    "ia = ImageAnalyzer(\n",
    "\n",
    "                    sentiment_classifier_path = 'model/sentiment_classification.h5',\n",
    "                    sentiment_classifier_pre_prep_func = tensorflow.keras.applications.efficientnet.preprocess_input,\n",
    "                    sentiment_classifier_class_label = class_label['sentiment_classification_label'],\n",
    "\n",
    "                    style_classifier_path = 'model/style_classification.h5',\n",
    "                    style_classifier_pre_prep_func = tensorflow.keras.applications.efficientnet.preprocess_input,\n",
    "                    style_classifier_class_label = class_label['style_classification_label'],                \n",
    "                    \n",
    "                    scene_classifier_path = 'model/scene_classification.h5',\n",
    "                    scene_classifier_pre_prep_func = None,\n",
    "                    scene_classifier_class_label = class_label['scene_classification_label'],  \n",
    "                    scene_classifier_cat_label = class_label['scene_classification_cat_label'],  \n",
    "\n",
    "                    object_detection_model_path = 'model/YOLO-COCO/yolov4.cfg',\n",
    "                    object_detection_model_weight_path = 'model/YOLO-COCO/yolov4.weights',\n",
    "                    object_detection_class_label  = class_label['object_detection_label'],\n",
    "                    object_detection_algorithm = 'yolo',\n",
    "\n",
    "                    frequent_itemsets_algorithm = 'apriori',\n",
    "                    min_support = 0.3,\n",
    "                    association_metric = 'confidence',\n",
    "                    association_min_threshold = 1\n",
    "                    )\n",
    "\n",
    "ia.load_image(img_glob_pathname = 'static/downloads/hashtag/demo/demo1/*.jpg')\n",
    "\n",
    "\n"
   ]
  },
  {
   "cell_type": "code",
   "execution_count": 10,
   "metadata": {
    "tags": []
   },
   "outputs": [],
   "source": [
    "results = ia.analyze(tracked_objs=['person'])"
   ]
  },
  {
   "cell_type": "code",
   "execution_count": 11,
   "metadata": {},
   "outputs": [
    {
     "output_type": "stream",
     "name": "stdout",
     "text": [
      "Raw Sentiment Analysis\n                                                path  Highly_Negative  \\\n0  static/downloads/hashtag/demo/demo1/messageIma...     3.252301e-05   \n1  static/downloads/hashtag/demo/demo1/messageIma...     1.796054e-05   \n2  static/downloads/hashtag/demo/demo1/messageIma...     1.114956e-06   \n3  static/downloads/hashtag/demo/demo1/messageIma...     1.000869e-06   \n4  static/downloads/hashtag/demo/demo1/messageIma...     3.061938e-07   \n\n       Negative   Neutral  Positive  Highly_Positive  \n0  5.245908e-05  0.001714  0.040448         0.957752  \n1  2.334661e-05  0.000049  0.665874         0.334036  \n2  2.873996e-03  0.000070  0.000708         0.996347  \n3  7.316031e-07  0.000048  0.000044         0.999906  \n4  1.412191e-05  0.000223  0.258617         0.741146  \nRaw Style Analysis\n                                                path     Bokeh    Bright  \\\n0  static/downloads/hashtag/demo/demo1/messageIma...  0.006899  0.003573   \n1  static/downloads/hashtag/demo/demo1/messageIma...  0.134162  0.107310   \n2  static/downloads/hashtag/demo/demo1/messageIma...  0.130191  0.031228   \n3  static/downloads/hashtag/demo/demo1/messageIma...  0.007724  0.001941   \n4  static/downloads/hashtag/demo/demo1/messageIma...  0.041197  0.335522   \n\n   Depth_of_field  Detailed  Ethereal  Geometric_composition      Hazy  \\\n0        0.003248  0.014351  0.002250           1.192771e-05  0.000129   \n1        0.073165  0.045765  0.041664           3.681916e-03  0.005636   \n2        0.073282  0.015278  0.035870           3.684553e-04  0.010137   \n3        0.002482  0.008689  0.003070           8.834033e-07  0.000043   \n4        0.045086  0.090950  0.005973           1.750584e-02  0.002513   \n\n        Hdr    Horror  ...     Macro  Melancholy       Minimal      Noir  \\\n0  0.000096  0.000363  ...  0.000006    0.001856  9.281306e-07  0.000004   \n1  0.012553  0.039759  ...  0.035592    0.031682  2.185840e-03  0.001544   \n2  0.004361  0.045863  ...  0.000847    0.086166  5.480648e-04  0.004188   \n3  0.000028  0.000196  ...  0.000005    0.000861  5.873331e-07  0.000001   \n4  0.060919  0.037092  ...  0.023552    0.013870  9.330971e-04  0.000340   \n\n     Pastel  Romantic    Serene     Sunny   Texture   Vintage  \n0  0.045820  0.912056  0.001606  0.000035  0.000551  0.007139  \n1  0.169390  0.095963  0.047822  0.006558  0.031911  0.110648  \n2  0.168058  0.267767  0.014970  0.004812  0.010727  0.094588  \n3  0.122399  0.844246  0.001781  0.000025  0.000150  0.006357  \n4  0.075421  0.065245  0.038757  0.003048  0.068339  0.053994  \n\n[5 rows x 21 columns]\nRaw Scene Analysis\n                                                path      airfield  \\\n0  static/downloads/hashtag/demo/demo1/messageIma...  1.465310e-06   \n1  static/downloads/hashtag/demo/demo1/messageIma...  9.655008e-07   \n2  static/downloads/hashtag/demo/demo1/messageIma...  1.438818e-05   \n3  static/downloads/hashtag/demo/demo1/messageIma...  8.398090e-06   \n4  static/downloads/hashtag/demo/demo1/messageIma...  4.177835e-06   \n\n   airplane_cabin  airport_terminal        alcove         alley  amphitheater  \\\n0        0.000005          0.000012  1.570747e-07  9.812914e-08  6.360955e-07   \n1        0.000001          0.000002  1.081003e-06  1.606801e-06  1.208036e-06   \n2        0.000101          0.000014  4.675224e-05  4.155675e-06  3.917358e-06   \n3        0.000057          0.000008  3.565341e-06  6.798258e-08  1.314267e-07   \n4        0.000006          0.000012  2.382855e-06  3.677949e-05  1.444906e-05   \n\n   amusement_arcade  amusement_park  apartment_building/outdoor  ...  \\\n0      8.904634e-07        0.000154                    0.000002  ...   \n1      3.969923e-05        0.000636                    0.000002  ...   \n2      2.940076e-05        0.000115                    0.000014  ...   \n3      7.538126e-07        0.000018                    0.000001  ...   \n4      1.266831e-05        0.000109                    0.000007  ...   \n\n      waterfall  watering_hole          wave   wet_bar  wheat_field  \\\n0  4.028608e-07   2.464228e-08  5.762743e-08  0.000005     0.000005   \n1  1.254570e-06   4.095598e-07  1.421059e-06  0.000063     0.000002   \n2  7.602113e-06   2.224124e-06  1.667475e-06  0.000031     0.000037   \n3  3.166181e-06   1.110411e-06  3.229836e-06  0.000031     0.000016   \n4  1.477871e-06   1.206679e-07  5.541194e-07  0.000018     0.000003   \n\n   wind_farm      windmill          yard  youth_hostel    zen_garden  \n0   0.000001  1.540312e-07  2.439190e-07  6.667736e-07  2.799236e-08  \n1   0.000001  4.195177e-06  6.871941e-06  1.648843e-06  1.183918e-07  \n2   0.000052  9.068068e-05  1.275051e-04  5.207358e-05  6.509251e-06  \n3   0.000008  2.836656e-06  8.475618e-07  4.213316e-06  2.155867e-07  \n4   0.000007  8.169372e-06  2.520597e-04  1.855233e-06  5.255501e-07  \n\n[5 rows x 366 columns]\nRaw Scene Cat Analysis\n                                                path    Indoor  \\\n0  static/downloads/hashtag/demo/demo1/messageIma...  0.816121   \n1  static/downloads/hashtag/demo/demo1/messageIma...  0.435480   \n2  static/downloads/hashtag/demo/demo1/messageIma...  0.354357   \n3  static/downloads/hashtag/demo/demo1/messageIma...  0.798247   \n4  static/downloads/hashtag/demo/demo1/messageIma...  0.203644   \n\n   Outdoor (Natural)  Outdoor (Man-Made)  Outdoor (Mixed)  \n0           0.034346            0.148465         0.001067  \n1           0.106837            0.043073         0.414609  \n2           0.138366            0.161258         0.346020  \n3           0.143343            0.056846         0.001563  \n4           0.109268            0.282579         0.404509  \nSummary Images Properties\n   Width  Height  Channel Aspect Ratio Orientation\n0    850     510        3          5:3    Portrait\n1   1280     720        3         16:9    Portrait\n2   1280     853        3     1280:853    Portrait\n3   1080     720        3          3:2    Portrait\n4   1080     720        3          3:2    Portrait\nSummary Sentiment Analysis\n             Class  Number of Image  Percentage of Image\n0  Highly_Positive                4                 80.0\n1         Positive                1                 20.0\nSummary Style Analysis\n      Class  Number of Image  Percentage of Image\n0  Romantic                3                 60.0\n1    Pastel                1                 20.0\n2    Bright                1                 20.0\nSummary Scene Analysis\n        Class  Number of Image  Percentage of Image\n0     toyshop                3                 60.0\n1  clean_room                2                 40.0\nSummary Scene Cat Analysis\n             Class  Number of Image  Percentage of Image\n0           Indoor                4                 80.0\n1  Outdoor (Mixed)                1                 20.0\nSummary Tracked Object Analysis\n        Number of Busket  Percent of Busket\nperson                 5              100.0\nSupport\n   Object  Number of Object  Number of Basket  Support: Object  \\\n0  person                 5                 8         0.833333   \n1     tie                 1                 1         0.166667   \n\n   Support: Basket  \n0              1.6  \n1              0.2  \nAssociation Rules\nEmpty DataFrame\nColumns: [antecedents, consequents, antecedent support, consequent support, support, confidence, lift, leverage, conviction]\nIndex: []\nimage_path\n['static/downloads/hashtag/demo/demo1/messageImage_1609941459207.jpg', 'static/downloads/hashtag/demo/demo1/messageImage_1610085845708.jpg', 'static/downloads/hashtag/demo/demo1/messageImage_1610085858589.jpg', 'static/downloads/hashtag/demo/demo1/messageImage_1610085885614.jpg', 'static/downloads/hashtag/demo/demo1/messageImage_1610085967064.jpg']\n"
     ]
    }
   ],
   "source": [
    "for result in results:\n",
    "    print(result)\n",
    "    print(results[result])"
   ]
  }
 ]
}