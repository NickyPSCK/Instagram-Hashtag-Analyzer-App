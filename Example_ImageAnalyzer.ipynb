{
 "metadata": {
  "language_info": {
   "codemirror_mode": {
    "name": "ipython",
    "version": 3
   },
   "file_extension": ".py",
   "mimetype": "text/x-python",
   "name": "python",
   "nbconvert_exporter": "python",
   "pygments_lexer": "ipython3",
   "version": "3.8.8"
  },
  "orig_nbformat": 2,
  "kernelspec": {
   "name": "python388jvsc74a57bd098e0e5a8360ea46c4d89f3d13cddee7b000a2354652bb761e304bf1406e0af16",
   "display_name": "Python 3.8.8 64-bit ('independent-study': conda)"
  }
 },
 "nbformat": 4,
 "nbformat_minor": 2,
 "cells": [
  {
   "source": [
    "# Example of Class ImageAnalyzer"
   ],
   "cell_type": "markdown",
   "metadata": {}
  },
  {
   "cell_type": "code",
   "execution_count": 1,
   "metadata": {},
   "outputs": [
    {
     "output_type": "execute_result",
     "data": {
      "text/plain": [
       "<config_loader.ConfigLoader at 0x276094b19a0>"
      ]
     },
     "metadata": {},
     "execution_count": 1
    }
   ],
   "source": [
    "from util.init_sys import InitSystem\n",
    "InitSystem().init()"
   ]
  },
  {
   "cell_type": "code",
   "execution_count": 2,
   "metadata": {},
   "outputs": [],
   "source": [
    "import tensorflow\n",
    "from image_analyzer import ImageAnalyzer"
   ]
  },
  {
   "cell_type": "code",
   "execution_count": 3,
   "metadata": {},
   "outputs": [],
   "source": [
    "import json\n",
    "with open('config/class.json', 'r') as f:\n",
    "    class_label = json.loads(f.read())"
   ]
  },
  {
   "cell_type": "code",
   "execution_count": 4,
   "metadata": {},
   "outputs": [],
   "source": [
    "\n",
    "ia = ImageAnalyzer(\n",
    "\n",
    "                    sentiment_classifier_path = 'model/sentiment_classification.h5',\n",
    "                    sentiment_classifier_pre_prep_func = tensorflow.keras.applications.efficientnet.preprocess_input,\n",
    "                    sentiment_classifier_class_label = class_label['sentiment_classification_label'],\n",
    "\n",
    "                    style_classifier_path = 'model/style_classification.h5',\n",
    "                    style_classifier_pre_prep_func = tensorflow.keras.applications.efficientnet.preprocess_input,\n",
    "                    style_classifier_class_label = class_label['style_classification_label'],                \n",
    "                    \n",
    "                    scence_classifier_path = 'model/scence_classification.h5',\n",
    "                    scence_classifier_pre_prep_func = None,\n",
    "                    scence_classifier_class_label = class_label['scence_classification_label'],  \n",
    "\n",
    "                    object_detection_model_path = 'model/YOLO-COCO/yolov4.cfg',\n",
    "                    object_detection_model_weight_path = 'model/YOLO-COCO/yolov4.weights',\n",
    "                    object_detection_class_label  = class_label['object_detection_label'],\n",
    "                    object_detection_algorithm = 'yolo',\n",
    "\n",
    "                    frequent_itemsets_algorithm = 'apriori',\n",
    "                    min_support = 0.3,\n",
    "                    association_metric = 'confidence',\n",
    "                    association_min_threshold = 1\n",
    "                    )\n",
    "\n",
    "ia.load_image(img_glob_pathname = 'static/downloads/hashtag/demo/demo2/*.jpg')\n",
    "\n",
    "\n"
   ]
  },
  {
   "cell_type": "code",
   "execution_count": 5,
   "metadata": {},
   "outputs": [],
   "source": [
    "results = ia.analyze()"
   ]
  },
  {
   "cell_type": "code",
   "execution_count": 6,
   "metadata": {},
   "outputs": [
    {
     "output_type": "stream",
     "name": "stdout",
     "text": [
      "Raw Sentiment Analysis\n                                                path  Highly_Negative  \\\n0  static/downloads/hashtag/demo/demo2/image_test...         0.004001   \n1  static/downloads/hashtag/demo/demo2/image_test...         0.000033   \n2  static/downloads/hashtag/demo/demo2/image_test...         0.000027   \n3  static/downloads/hashtag/demo/demo2/image_test...         0.000016   \n4  static/downloads/hashtag/demo/demo2/image_test...         0.000056   \n5  static/downloads/hashtag/demo/demo2/image_test...         0.000013   \n\n   Negative   Neutral  Positive  Highly_Positive  \n0  0.000695  0.010784  0.086209         0.898311  \n1  0.000052  0.001714  0.040448         0.957752  \n2  0.958912  0.006466  0.021088         0.013506  \n3  0.001188  0.005782  0.192519         0.800495  \n4  0.000543  0.000057  0.140077         0.859266  \n5  0.000012  0.000017  0.006760         0.993198  \nRaw Style Analysis\n                                                path     Bokeh    Bright  \\\n0  static/downloads/hashtag/demo/demo2/image_test...  0.062011  0.072675   \n1  static/downloads/hashtag/demo/demo2/image_test...  0.006899  0.003573   \n2  static/downloads/hashtag/demo/demo2/image_test...  0.055675  0.049945   \n3  static/downloads/hashtag/demo/demo2/image_test...  0.029672  0.085875   \n4  static/downloads/hashtag/demo/demo2/image_test...  0.141012  0.046165   \n5  static/downloads/hashtag/demo/demo2/image_test...  0.130688  0.049185   \n\n   Depth_of_field  Detailed  Ethereal  Geometric_composition      Hazy  \\\n0        0.056054  0.131369  0.009262               0.076696  0.032326   \n1        0.003248  0.014351  0.002250               0.000012  0.000129   \n2        0.055277  0.036172  0.004429               0.256557  0.010276   \n3        0.032962  0.074351  0.008304               0.190257  0.014599   \n4        0.109831  0.055976  0.016897               0.017631  0.034957   \n5        0.101296  0.058142  0.022879               0.039350  0.018446   \n\n        Hdr    Horror  ...     Macro  Melancholy       Minimal      Noir  \\\n0  0.051434  0.022746  ...  0.029171    0.030341  5.494550e-02  0.018700   \n1  0.000096  0.000363  ...  0.000006    0.001856  9.281306e-07  0.000004   \n2  0.015114  0.009562  ...  0.011331    0.035889  1.788829e-01  0.034001   \n3  0.017307  0.006888  ...  0.022754    0.034384  1.474151e-01  0.019736   \n4  0.039313  0.036713  ...  0.017936    0.047743  7.576046e-03  0.021026   \n5  0.031569  0.026004  ...  0.056228    0.039154  4.647380e-02  0.019171   \n\n     Pastel  Romantic    Serene     Sunny   Texture   Vintage  \n0  0.047850  0.057325  0.058895  0.018426  0.076748  0.055380  \n1  0.045820  0.912056  0.001606  0.000035  0.000551  0.007139  \n2  0.049052  0.024382  0.032958  0.004622  0.073610  0.056875  \n3  0.066067  0.032924  0.041913  0.008454  0.082181  0.077039  \n4  0.100985  0.069812  0.054317  0.021805  0.049818  0.101171  \n5  0.085879  0.052443  0.057343  0.013081  0.061219  0.078923  \n\n[6 rows x 21 columns]\nRaw Scence Analysis\n                                                path  airfield  \\\n0  static/downloads/hashtag/demo/demo2/image_test...  0.062011   \n1  static/downloads/hashtag/demo/demo2/image_test...  0.006899   \n2  static/downloads/hashtag/demo/demo2/image_test...  0.055675   \n3  static/downloads/hashtag/demo/demo2/image_test...  0.029672   \n4  static/downloads/hashtag/demo/demo2/image_test...  0.141012   \n5  static/downloads/hashtag/demo/demo2/image_test...  0.130688   \n\n   airplane_cabin  airport_terminal    alcove     alley  amphitheater  \\\n0        0.072675          0.056054  0.131369  0.009262      0.076696   \n1        0.003573          0.003248  0.014351  0.002250      0.000012   \n2        0.049945          0.055277  0.036172  0.004429      0.256557   \n3        0.085875          0.032962  0.074351  0.008304      0.190257   \n4        0.046165          0.109831  0.055976  0.016897      0.017631   \n5        0.049185          0.101296  0.058142  0.022879      0.039350   \n\n   amusement_arcade  amusement_park  apartment_building/outdoor  ...  \\\n0          0.032326        0.051434                    0.022746  ...   \n1          0.000129        0.000096                    0.000363  ...   \n2          0.010276        0.015114                    0.009562  ...   \n3          0.014599        0.017307                    0.006888  ...   \n4          0.034957        0.039313                    0.036713  ...   \n5          0.018446        0.031569                    0.026004  ...   \n\n   aqueduct    arcade          arch  archaelogical_excavation   archive  \\\n0  0.029171  0.030341  5.494550e-02                  0.018700  0.047850   \n1  0.000006  0.001856  9.281306e-07                  0.000004  0.045820   \n2  0.011331  0.035889  1.788829e-01                  0.034001  0.049052   \n3  0.022754  0.034384  1.474151e-01                  0.019736  0.066067   \n4  0.017936  0.047743  7.576046e-03                  0.021026  0.100985   \n5  0.056228  0.039154  4.647380e-02                  0.019171  0.085879   \n\n     hockey  performance     rodeo  army_base  art_gallery  \n0  0.057325     0.058895  0.018426   0.076748     0.055380  \n1  0.912056     0.001606  0.000035   0.000551     0.007139  \n2  0.024382     0.032958  0.004622   0.073610     0.056875  \n3  0.032924     0.041913  0.008454   0.082181     0.077039  \n4  0.069812     0.054317  0.021805   0.049818     0.101171  \n5  0.052443     0.057343  0.013081   0.061219     0.078923  \n\n[6 rows x 21 columns]\nSummary Sentiment Analysis\n             Class  Number of Image  Percentage of Image\n0  Highly_Positive                5            83.333333\n1         Negative                1            16.666667\nSummary Style Analysis\n                   Class  Number of Image  Percentage of Image\n0  Geometric_composition                2            33.333333\n1                  Bokeh                2            33.333333\n2               Romantic                1            16.666667\n3               Detailed                1            16.666667\nSummary Scence Analysis\n          Class  Number of Image  Percentage of Image\n0      airfield                2            33.333333\n1  amphitheater                2            33.333333\n2        alcove                1            16.666667\n3        hockey                1            16.666667\nSupport\n     Object  Number of Object  Number of Basket  Support: Object  \\\n0        tv                 2                 2         0.117647   \n1     mouse                 3                 3         0.176471   \n2  keyboard                 3                 4         0.176471   \n3    laptop                 3                 4         0.176471   \n4       cup                 1                 1         0.058824   \n5    person                 1                 1         0.058824   \n6       tie                 1                 1         0.058824   \n7     chair                 1                 1         0.058824   \n8       dog                 2                 2         0.117647   \n\n   Support: Basket  \n0         0.333333  \n1         0.500000  \n2         0.666667  \n3         0.666667  \n4         0.166667  \n5         0.166667  \n6         0.166667  \n7         0.166667  \n8         0.333333  \nAssociation Rules\n               antecedents                consequents  antecedent support  \\\n0               [keyboard]                   [laptop]            0.500000   \n1       [keyboard, laptop]                    [mouse]            0.500000   \n2                 [laptop]                 [keyboard]            0.500000   \n3                  [mouse]         [keyboard, laptop]            0.500000   \n4                 [laptop]          [keyboard, mouse]            0.500000   \n5               [keyboard]            [laptop, mouse]            0.500000   \n6          [laptop, mouse]                 [keyboard]            0.500000   \n7        [keyboard, mouse]                   [laptop]            0.500000   \n8                  [mouse]                   [laptop]            0.500000   \n9                 [laptop]                    [mouse]            0.500000   \n10                 [mouse]                 [keyboard]            0.500000   \n11              [keyboard]                    [mouse]            0.500000   \n12          [tv, keyboard]            [laptop, mouse]            0.333333   \n13            [tv, laptop]          [keyboard, mouse]            0.333333   \n14            [tv, laptop]                    [mouse]            0.333333   \n15             [tv, mouse]         [keyboard, laptop]            0.333333   \n16     [tv, laptop, mouse]                 [keyboard]            0.333333   \n17   [tv, keyboard, mouse]                   [laptop]            0.333333   \n18  [tv, keyboard, laptop]                    [mouse]            0.333333   \n19                    [tv]            [laptop, mouse]            0.333333   \n20             [tv, mouse]                   [laptop]            0.333333   \n21          [tv, keyboard]                   [laptop]            0.333333   \n22                    [tv]          [keyboard, mouse]            0.333333   \n23             [tv, mouse]                 [keyboard]            0.333333   \n24          [tv, keyboard]                    [mouse]            0.333333   \n25                    [tv]         [keyboard, laptop]            0.333333   \n26            [tv, laptop]                 [keyboard]            0.333333   \n27                    [tv]                    [mouse]            0.333333   \n28                    [tv]                   [laptop]            0.333333   \n29                    [tv]                 [keyboard]            0.333333   \n30                    [tv]  [keyboard, laptop, mouse]            0.333333   \n\n    consequent support   support  confidence  lift  leverage  conviction  \n0                  0.5  0.500000         1.0   2.0  0.250000         inf  \n1                  0.5  0.500000         1.0   2.0  0.250000         inf  \n2                  0.5  0.500000         1.0   2.0  0.250000         inf  \n3                  0.5  0.500000         1.0   2.0  0.250000         inf  \n4                  0.5  0.500000         1.0   2.0  0.250000         inf  \n5                  0.5  0.500000         1.0   2.0  0.250000         inf  \n6                  0.5  0.500000         1.0   2.0  0.250000         inf  \n7                  0.5  0.500000         1.0   2.0  0.250000         inf  \n8                  0.5  0.500000         1.0   2.0  0.250000         inf  \n9                  0.5  0.500000         1.0   2.0  0.250000         inf  \n10                 0.5  0.500000         1.0   2.0  0.250000         inf  \n11                 0.5  0.500000         1.0   2.0  0.250000         inf  \n12                 0.5  0.333333         1.0   2.0  0.166667         inf  \n13                 0.5  0.333333         1.0   2.0  0.166667         inf  \n14                 0.5  0.333333         1.0   2.0  0.166667         inf  \n15                 0.5  0.333333         1.0   2.0  0.166667         inf  \n16                 0.5  0.333333         1.0   2.0  0.166667         inf  \n17                 0.5  0.333333         1.0   2.0  0.166667         inf  \n18                 0.5  0.333333         1.0   2.0  0.166667         inf  \n19                 0.5  0.333333         1.0   2.0  0.166667         inf  \n20                 0.5  0.333333         1.0   2.0  0.166667         inf  \n21                 0.5  0.333333         1.0   2.0  0.166667         inf  \n22                 0.5  0.333333         1.0   2.0  0.166667         inf  \n23                 0.5  0.333333         1.0   2.0  0.166667         inf  \n24                 0.5  0.333333         1.0   2.0  0.166667         inf  \n25                 0.5  0.333333         1.0   2.0  0.166667         inf  \n26                 0.5  0.333333         1.0   2.0  0.166667         inf  \n27                 0.5  0.333333         1.0   2.0  0.166667         inf  \n28                 0.5  0.333333         1.0   2.0  0.166667         inf  \n29                 0.5  0.333333         1.0   2.0  0.166667         inf  \n30                 0.5  0.333333         1.0   2.0  0.166667         inf  \nimage_path\n['static/downloads/hashtag/demo/demo2/image_test.jpg', 'static/downloads/hashtag/demo/demo2/image_test1.jpg', 'static/downloads/hashtag/demo/demo2/image_test2.jpg', 'static/downloads/hashtag/demo/demo2/image_test3.jpg', 'static/downloads/hashtag/demo/demo2/image_test4.jpg', 'static/downloads/hashtag/demo/demo2/image_test5.jpg']\n"
     ]
    }
   ],
   "source": [
    "for result in results:\n",
    "    print(result)\n",
    "    print(results[result])"
   ]
  },
  {
   "cell_type": "code",
   "execution_count": 7,
   "metadata": {},
   "outputs": [
    {
     "output_type": "execute_result",
     "data": {
      "text/plain": [
       "               antecedents                consequents  antecedent support  \\\n",
       "0               [keyboard]                   [laptop]            0.500000   \n",
       "1       [keyboard, laptop]                    [mouse]            0.500000   \n",
       "2                 [laptop]                 [keyboard]            0.500000   \n",
       "3                  [mouse]         [keyboard, laptop]            0.500000   \n",
       "4                 [laptop]          [keyboard, mouse]            0.500000   \n",
       "5               [keyboard]            [laptop, mouse]            0.500000   \n",
       "6          [laptop, mouse]                 [keyboard]            0.500000   \n",
       "7        [keyboard, mouse]                   [laptop]            0.500000   \n",
       "8                  [mouse]                   [laptop]            0.500000   \n",
       "9                 [laptop]                    [mouse]            0.500000   \n",
       "10                 [mouse]                 [keyboard]            0.500000   \n",
       "11              [keyboard]                    [mouse]            0.500000   \n",
       "12          [tv, keyboard]            [laptop, mouse]            0.333333   \n",
       "13            [tv, laptop]          [keyboard, mouse]            0.333333   \n",
       "14            [tv, laptop]                    [mouse]            0.333333   \n",
       "15             [tv, mouse]         [keyboard, laptop]            0.333333   \n",
       "16     [tv, laptop, mouse]                 [keyboard]            0.333333   \n",
       "17   [tv, keyboard, mouse]                   [laptop]            0.333333   \n",
       "18  [tv, keyboard, laptop]                    [mouse]            0.333333   \n",
       "19                    [tv]            [laptop, mouse]            0.333333   \n",
       "20             [tv, mouse]                   [laptop]            0.333333   \n",
       "21          [tv, keyboard]                   [laptop]            0.333333   \n",
       "22                    [tv]          [keyboard, mouse]            0.333333   \n",
       "23             [tv, mouse]                 [keyboard]            0.333333   \n",
       "24          [tv, keyboard]                    [mouse]            0.333333   \n",
       "25                    [tv]         [keyboard, laptop]            0.333333   \n",
       "26            [tv, laptop]                 [keyboard]            0.333333   \n",
       "27                    [tv]                    [mouse]            0.333333   \n",
       "28                    [tv]                   [laptop]            0.333333   \n",
       "29                    [tv]                 [keyboard]            0.333333   \n",
       "30                    [tv]  [keyboard, laptop, mouse]            0.333333   \n",
       "\n",
       "    consequent support   support  confidence  lift  leverage  conviction  \n",
       "0                  0.5  0.500000         1.0   2.0  0.250000         inf  \n",
       "1                  0.5  0.500000         1.0   2.0  0.250000         inf  \n",
       "2                  0.5  0.500000         1.0   2.0  0.250000         inf  \n",
       "3                  0.5  0.500000         1.0   2.0  0.250000         inf  \n",
       "4                  0.5  0.500000         1.0   2.0  0.250000         inf  \n",
       "5                  0.5  0.500000         1.0   2.0  0.250000         inf  \n",
       "6                  0.5  0.500000         1.0   2.0  0.250000         inf  \n",
       "7                  0.5  0.500000         1.0   2.0  0.250000         inf  \n",
       "8                  0.5  0.500000         1.0   2.0  0.250000         inf  \n",
       "9                  0.5  0.500000         1.0   2.0  0.250000         inf  \n",
       "10                 0.5  0.500000         1.0   2.0  0.250000         inf  \n",
       "11                 0.5  0.500000         1.0   2.0  0.250000         inf  \n",
       "12                 0.5  0.333333         1.0   2.0  0.166667         inf  \n",
       "13                 0.5  0.333333         1.0   2.0  0.166667         inf  \n",
       "14                 0.5  0.333333         1.0   2.0  0.166667         inf  \n",
       "15                 0.5  0.333333         1.0   2.0  0.166667         inf  \n",
       "16                 0.5  0.333333         1.0   2.0  0.166667         inf  \n",
       "17                 0.5  0.333333         1.0   2.0  0.166667         inf  \n",
       "18                 0.5  0.333333         1.0   2.0  0.166667         inf  \n",
       "19                 0.5  0.333333         1.0   2.0  0.166667         inf  \n",
       "20                 0.5  0.333333         1.0   2.0  0.166667         inf  \n",
       "21                 0.5  0.333333         1.0   2.0  0.166667         inf  \n",
       "22                 0.5  0.333333         1.0   2.0  0.166667         inf  \n",
       "23                 0.5  0.333333         1.0   2.0  0.166667         inf  \n",
       "24                 0.5  0.333333         1.0   2.0  0.166667         inf  \n",
       "25                 0.5  0.333333         1.0   2.0  0.166667         inf  \n",
       "26                 0.5  0.333333         1.0   2.0  0.166667         inf  \n",
       "27                 0.5  0.333333         1.0   2.0  0.166667         inf  \n",
       "28                 0.5  0.333333         1.0   2.0  0.166667         inf  \n",
       "29                 0.5  0.333333         1.0   2.0  0.166667         inf  \n",
       "30                 0.5  0.333333         1.0   2.0  0.166667         inf  "
      ],
      "text/html": "<div>\n<style scoped>\n    .dataframe tbody tr th:only-of-type {\n        vertical-align: middle;\n    }\n\n    .dataframe tbody tr th {\n        vertical-align: top;\n    }\n\n    .dataframe thead th {\n        text-align: right;\n    }\n</style>\n<table border=\"1\" class=\"dataframe\">\n  <thead>\n    <tr style=\"text-align: right;\">\n      <th></th>\n      <th>antecedents</th>\n      <th>consequents</th>\n      <th>antecedent support</th>\n      <th>consequent support</th>\n      <th>support</th>\n      <th>confidence</th>\n      <th>lift</th>\n      <th>leverage</th>\n      <th>conviction</th>\n    </tr>\n  </thead>\n  <tbody>\n    <tr>\n      <th>0</th>\n      <td>[keyboard]</td>\n      <td>[laptop]</td>\n      <td>0.500000</td>\n      <td>0.5</td>\n      <td>0.500000</td>\n      <td>1.0</td>\n      <td>2.0</td>\n      <td>0.250000</td>\n      <td>inf</td>\n    </tr>\n    <tr>\n      <th>1</th>\n      <td>[keyboard, laptop]</td>\n      <td>[mouse]</td>\n      <td>0.500000</td>\n      <td>0.5</td>\n      <td>0.500000</td>\n      <td>1.0</td>\n      <td>2.0</td>\n      <td>0.250000</td>\n      <td>inf</td>\n    </tr>\n    <tr>\n      <th>2</th>\n      <td>[laptop]</td>\n      <td>[keyboard]</td>\n      <td>0.500000</td>\n      <td>0.5</td>\n      <td>0.500000</td>\n      <td>1.0</td>\n      <td>2.0</td>\n      <td>0.250000</td>\n      <td>inf</td>\n    </tr>\n    <tr>\n      <th>3</th>\n      <td>[mouse]</td>\n      <td>[keyboard, laptop]</td>\n      <td>0.500000</td>\n      <td>0.5</td>\n      <td>0.500000</td>\n      <td>1.0</td>\n      <td>2.0</td>\n      <td>0.250000</td>\n      <td>inf</td>\n    </tr>\n    <tr>\n      <th>4</th>\n      <td>[laptop]</td>\n      <td>[keyboard, mouse]</td>\n      <td>0.500000</td>\n      <td>0.5</td>\n      <td>0.500000</td>\n      <td>1.0</td>\n      <td>2.0</td>\n      <td>0.250000</td>\n      <td>inf</td>\n    </tr>\n    <tr>\n      <th>5</th>\n      <td>[keyboard]</td>\n      <td>[laptop, mouse]</td>\n      <td>0.500000</td>\n      <td>0.5</td>\n      <td>0.500000</td>\n      <td>1.0</td>\n      <td>2.0</td>\n      <td>0.250000</td>\n      <td>inf</td>\n    </tr>\n    <tr>\n      <th>6</th>\n      <td>[laptop, mouse]</td>\n      <td>[keyboard]</td>\n      <td>0.500000</td>\n      <td>0.5</td>\n      <td>0.500000</td>\n      <td>1.0</td>\n      <td>2.0</td>\n      <td>0.250000</td>\n      <td>inf</td>\n    </tr>\n    <tr>\n      <th>7</th>\n      <td>[keyboard, mouse]</td>\n      <td>[laptop]</td>\n      <td>0.500000</td>\n      <td>0.5</td>\n      <td>0.500000</td>\n      <td>1.0</td>\n      <td>2.0</td>\n      <td>0.250000</td>\n      <td>inf</td>\n    </tr>\n    <tr>\n      <th>8</th>\n      <td>[mouse]</td>\n      <td>[laptop]</td>\n      <td>0.500000</td>\n      <td>0.5</td>\n      <td>0.500000</td>\n      <td>1.0</td>\n      <td>2.0</td>\n      <td>0.250000</td>\n      <td>inf</td>\n    </tr>\n    <tr>\n      <th>9</th>\n      <td>[laptop]</td>\n      <td>[mouse]</td>\n      <td>0.500000</td>\n      <td>0.5</td>\n      <td>0.500000</td>\n      <td>1.0</td>\n      <td>2.0</td>\n      <td>0.250000</td>\n      <td>inf</td>\n    </tr>\n    <tr>\n      <th>10</th>\n      <td>[mouse]</td>\n      <td>[keyboard]</td>\n      <td>0.500000</td>\n      <td>0.5</td>\n      <td>0.500000</td>\n      <td>1.0</td>\n      <td>2.0</td>\n      <td>0.250000</td>\n      <td>inf</td>\n    </tr>\n    <tr>\n      <th>11</th>\n      <td>[keyboard]</td>\n      <td>[mouse]</td>\n      <td>0.500000</td>\n      <td>0.5</td>\n      <td>0.500000</td>\n      <td>1.0</td>\n      <td>2.0</td>\n      <td>0.250000</td>\n      <td>inf</td>\n    </tr>\n    <tr>\n      <th>12</th>\n      <td>[tv, keyboard]</td>\n      <td>[laptop, mouse]</td>\n      <td>0.333333</td>\n      <td>0.5</td>\n      <td>0.333333</td>\n      <td>1.0</td>\n      <td>2.0</td>\n      <td>0.166667</td>\n      <td>inf</td>\n    </tr>\n    <tr>\n      <th>13</th>\n      <td>[tv, laptop]</td>\n      <td>[keyboard, mouse]</td>\n      <td>0.333333</td>\n      <td>0.5</td>\n      <td>0.333333</td>\n      <td>1.0</td>\n      <td>2.0</td>\n      <td>0.166667</td>\n      <td>inf</td>\n    </tr>\n    <tr>\n      <th>14</th>\n      <td>[tv, laptop]</td>\n      <td>[mouse]</td>\n      <td>0.333333</td>\n      <td>0.5</td>\n      <td>0.333333</td>\n      <td>1.0</td>\n      <td>2.0</td>\n      <td>0.166667</td>\n      <td>inf</td>\n    </tr>\n    <tr>\n      <th>15</th>\n      <td>[tv, mouse]</td>\n      <td>[keyboard, laptop]</td>\n      <td>0.333333</td>\n      <td>0.5</td>\n      <td>0.333333</td>\n      <td>1.0</td>\n      <td>2.0</td>\n      <td>0.166667</td>\n      <td>inf</td>\n    </tr>\n    <tr>\n      <th>16</th>\n      <td>[tv, laptop, mouse]</td>\n      <td>[keyboard]</td>\n      <td>0.333333</td>\n      <td>0.5</td>\n      <td>0.333333</td>\n      <td>1.0</td>\n      <td>2.0</td>\n      <td>0.166667</td>\n      <td>inf</td>\n    </tr>\n    <tr>\n      <th>17</th>\n      <td>[tv, keyboard, mouse]</td>\n      <td>[laptop]</td>\n      <td>0.333333</td>\n      <td>0.5</td>\n      <td>0.333333</td>\n      <td>1.0</td>\n      <td>2.0</td>\n      <td>0.166667</td>\n      <td>inf</td>\n    </tr>\n    <tr>\n      <th>18</th>\n      <td>[tv, keyboard, laptop]</td>\n      <td>[mouse]</td>\n      <td>0.333333</td>\n      <td>0.5</td>\n      <td>0.333333</td>\n      <td>1.0</td>\n      <td>2.0</td>\n      <td>0.166667</td>\n      <td>inf</td>\n    </tr>\n    <tr>\n      <th>19</th>\n      <td>[tv]</td>\n      <td>[laptop, mouse]</td>\n      <td>0.333333</td>\n      <td>0.5</td>\n      <td>0.333333</td>\n      <td>1.0</td>\n      <td>2.0</td>\n      <td>0.166667</td>\n      <td>inf</td>\n    </tr>\n    <tr>\n      <th>20</th>\n      <td>[tv, mouse]</td>\n      <td>[laptop]</td>\n      <td>0.333333</td>\n      <td>0.5</td>\n      <td>0.333333</td>\n      <td>1.0</td>\n      <td>2.0</td>\n      <td>0.166667</td>\n      <td>inf</td>\n    </tr>\n    <tr>\n      <th>21</th>\n      <td>[tv, keyboard]</td>\n      <td>[laptop]</td>\n      <td>0.333333</td>\n      <td>0.5</td>\n      <td>0.333333</td>\n      <td>1.0</td>\n      <td>2.0</td>\n      <td>0.166667</td>\n      <td>inf</td>\n    </tr>\n    <tr>\n      <th>22</th>\n      <td>[tv]</td>\n      <td>[keyboard, mouse]</td>\n      <td>0.333333</td>\n      <td>0.5</td>\n      <td>0.333333</td>\n      <td>1.0</td>\n      <td>2.0</td>\n      <td>0.166667</td>\n      <td>inf</td>\n    </tr>\n    <tr>\n      <th>23</th>\n      <td>[tv, mouse]</td>\n      <td>[keyboard]</td>\n      <td>0.333333</td>\n      <td>0.5</td>\n      <td>0.333333</td>\n      <td>1.0</td>\n      <td>2.0</td>\n      <td>0.166667</td>\n      <td>inf</td>\n    </tr>\n    <tr>\n      <th>24</th>\n      <td>[tv, keyboard]</td>\n      <td>[mouse]</td>\n      <td>0.333333</td>\n      <td>0.5</td>\n      <td>0.333333</td>\n      <td>1.0</td>\n      <td>2.0</td>\n      <td>0.166667</td>\n      <td>inf</td>\n    </tr>\n    <tr>\n      <th>25</th>\n      <td>[tv]</td>\n      <td>[keyboard, laptop]</td>\n      <td>0.333333</td>\n      <td>0.5</td>\n      <td>0.333333</td>\n      <td>1.0</td>\n      <td>2.0</td>\n      <td>0.166667</td>\n      <td>inf</td>\n    </tr>\n    <tr>\n      <th>26</th>\n      <td>[tv, laptop]</td>\n      <td>[keyboard]</td>\n      <td>0.333333</td>\n      <td>0.5</td>\n      <td>0.333333</td>\n      <td>1.0</td>\n      <td>2.0</td>\n      <td>0.166667</td>\n      <td>inf</td>\n    </tr>\n    <tr>\n      <th>27</th>\n      <td>[tv]</td>\n      <td>[mouse]</td>\n      <td>0.333333</td>\n      <td>0.5</td>\n      <td>0.333333</td>\n      <td>1.0</td>\n      <td>2.0</td>\n      <td>0.166667</td>\n      <td>inf</td>\n    </tr>\n    <tr>\n      <th>28</th>\n      <td>[tv]</td>\n      <td>[laptop]</td>\n      <td>0.333333</td>\n      <td>0.5</td>\n      <td>0.333333</td>\n      <td>1.0</td>\n      <td>2.0</td>\n      <td>0.166667</td>\n      <td>inf</td>\n    </tr>\n    <tr>\n      <th>29</th>\n      <td>[tv]</td>\n      <td>[keyboard]</td>\n      <td>0.333333</td>\n      <td>0.5</td>\n      <td>0.333333</td>\n      <td>1.0</td>\n      <td>2.0</td>\n      <td>0.166667</td>\n      <td>inf</td>\n    </tr>\n    <tr>\n      <th>30</th>\n      <td>[tv]</td>\n      <td>[keyboard, laptop, mouse]</td>\n      <td>0.333333</td>\n      <td>0.5</td>\n      <td>0.333333</td>\n      <td>1.0</td>\n      <td>2.0</td>\n      <td>0.166667</td>\n      <td>inf</td>\n    </tr>\n  </tbody>\n</table>\n</div>"
     },
     "metadata": {},
     "execution_count": 7
    }
   ],
   "source": [
    "results['Association Rules']"
   ]
  }
 ]
}