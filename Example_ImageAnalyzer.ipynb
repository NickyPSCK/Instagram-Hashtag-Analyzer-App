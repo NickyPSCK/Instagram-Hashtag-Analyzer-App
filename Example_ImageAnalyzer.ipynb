{
 "metadata": {
  "language_info": {
   "codemirror_mode": {
    "name": "ipython",
    "version": 3
   },
   "file_extension": ".py",
   "mimetype": "text/x-python",
   "name": "python",
   "nbconvert_exporter": "python",
   "pygments_lexer": "ipython3",
   "version": "3.8.8"
  },
  "orig_nbformat": 2,
  "kernelspec": {
   "name": "python388jvsc74a57bd098e0e5a8360ea46c4d89f3d13cddee7b000a2354652bb761e304bf1406e0af16",
   "display_name": "Python 3.8.8 64-bit ('independent-study': conda)"
  }
 },
 "nbformat": 4,
 "nbformat_minor": 2,
 "cells": [
  {
   "source": [
    "# Example of Class ImageAnalyzer"
   ],
   "cell_type": "markdown",
   "metadata": {}
  },
  {
   "cell_type": "code",
   "execution_count": 1,
   "metadata": {},
   "outputs": [
    {
     "output_type": "execute_result",
     "data": {
      "text/plain": [
       "<config_loader.ConfigLoader at 0x197d0322c10>"
      ]
     },
     "metadata": {},
     "execution_count": 1
    }
   ],
   "source": [
    "from util.init_sys import InitSystem\n",
    "InitSystem().init()"
   ]
  },
  {
   "cell_type": "code",
   "execution_count": 2,
   "metadata": {},
   "outputs": [],
   "source": [
    "import tensorflow\n",
    "from image_analyzer import ImageAnalyzer"
   ]
  },
  {
   "cell_type": "code",
   "execution_count": 3,
   "metadata": {},
   "outputs": [],
   "source": [
    "import json\n",
    "with open('config/class.json', 'r') as f:\n",
    "    class_label = json.loads(f.read())"
   ]
  },
  {
   "cell_type": "code",
   "execution_count": 4,
   "metadata": {},
   "outputs": [],
   "source": [
    "\n",
    "ia = ImageAnalyzer(\n",
    "\n",
    "                    sentiment_classifier_path = 'model/sentiment_classification.h5',\n",
    "                    sentiment_classifier_pre_prep_func = tensorflow.keras.applications.efficientnet.preprocess_input,\n",
    "                    sentiment_classifier_class_label = class_label['sentiment_classification_label'],\n",
    "\n",
    "                    style_classifier_path = 'model/style_classification.h5',\n",
    "                    style_classifier_pre_prep_func = tensorflow.keras.applications.efficientnet.preprocess_input,\n",
    "                    style_classifier_class_label = class_label['style_classification_label'],                \n",
    "                    \n",
    "                    scene_classifier_path = 'model/scene_classification.h5',\n",
    "                    scene_classifier_pre_prep_func = None,\n",
    "                    scene_classifier_class_label = class_label['scene_classification_label'],  \n",
    "                    scene_classifier_cat_label = class_label['scene_classification_cat_label'],  \n",
    "\n",
    "                    object_detection_model_path = 'model/YOLO-COCO/yolov4.cfg',\n",
    "                    object_detection_model_weight_path = 'model/YOLO-COCO/yolov4.weights',\n",
    "                    object_detection_class_label  = class_label['object_detection_label'],\n",
    "                    object_detection_algorithm = 'yolo',\n",
    "\n",
    "                    frequent_itemsets_algorithm = 'apriori',\n",
    "                    min_support = 0.3,\n",
    "                    association_metric = 'confidence',\n",
    "                    association_min_threshold = 1\n",
    "                    )\n",
    "\n",
    "ia.load_image(img_glob_pathname = 'static/downloads/hashtag/demo/demo1/*.jpg')\n",
    "\n",
    "# ia.load_image(img_glob_pathname = 'static/downloads/hashtag/instagram/20210527_154826_UTC_earthpatravee/*.jpg')\n",
    "\n",
    "\n"
   ]
  },
  {
   "cell_type": "code",
   "execution_count": 5,
   "metadata": {
    "tags": []
   },
   "outputs": [],
   "source": [
    "results = ia.analyze(tracked_objs=['person'])"
   ]
  },
  {
   "cell_type": "code",
   "execution_count": 6,
   "metadata": {},
   "outputs": [
    {
     "output_type": "stream",
     "name": "stdout",
     "text": [
      "Single Image View\n                                                path  width  height  channel  \\\n0  static/downloads/hashtag/instagram/20210527_15...   1125    1406        3   \n1  static/downloads/hashtag/instagram/20210527_15...   1440    1799        3   \n2  static/downloads/hashtag/instagram/20210527_15...   1440     960        3   \n3  static/downloads/hashtag/instagram/20210527_15...   1440     958        3   \n4  static/downloads/hashtag/instagram/20210527_15...   1440     958        3   \n5  static/downloads/hashtag/instagram/20210527_15...   1440    1800        3   \n6  static/downloads/hashtag/instagram/20210527_15...   1440    1800        3   \n7  static/downloads/hashtag/instagram/20210527_15...   1440    1800        3   \n8  static/downloads/hashtag/instagram/20210527_15...   1440     958        3   \n\n  aspect ratio orientation        sentiment    style             scence  \\\n0    1125:1406   Landscape         Positive     Noir        childs_room   \n1    1440:1799   Landscape  Highly_Positive  Vintage  bow_window/indoor   \n2          3:2    Portrait  Highly_Positive   Horror      dressing_room   \n3      720:479    Portrait  Highly_Positive     Noir           bathroom   \n4      720:479    Portrait         Positive     Noir             shower   \n5          4:5   Landscape  Highly_Positive   Pastel             shower   \n6          4:5   Landscape  Highly_Positive   Pastel            nursery   \n7          4:5   Landscape  Highly_Positive   Pastel            bedroom   \n8      720:479    Portrait  Highly_Positive  Vintage        home_office   \n\n       indoor/outdoor                                            objects  \\\n0              Indoor                      (person, chair, potted plant)   \n1              Indoor                                                 ()   \n2              Indoor                                          (person,)   \n3              Indoor                                          (person,)   \n4  Outdoor (Man-Made)                                                 ()   \n5  Outdoor (Man-Made)                             (person, potted plant)   \n6  Outdoor (Man-Made)                                          (person,)   \n7              Indoor                             (person, potted plant)   \n8   Outdoor (Natural)  (person, keyboard, potted plant, potted plant,...   \n\n   detected_person  \n0             True  \n1            False  \n2             True  \n3             True  \n4            False  \n5             True  \n6             True  \n7             True  \n8             True  \nProb Sentiment Analysis\n                                                path  Highly_Negative  \\\n0  static/downloads/hashtag/instagram/20210527_15...     1.850520e-03   \n1  static/downloads/hashtag/instagram/20210527_15...     4.813240e-07   \n2  static/downloads/hashtag/instagram/20210527_15...     1.126283e-01   \n3  static/downloads/hashtag/instagram/20210527_15...     6.773179e-03   \n4  static/downloads/hashtag/instagram/20210527_15...     1.294521e-02   \n5  static/downloads/hashtag/instagram/20210527_15...     4.375089e-04   \n6  static/downloads/hashtag/instagram/20210527_15...     1.331917e-03   \n7  static/downloads/hashtag/instagram/20210527_15...     2.450827e-02   \n8  static/downloads/hashtag/instagram/20210527_15...     3.672813e-07   \n\n       Negative       Neutral      Positive  Highly_Positive  \n0  2.414425e-02  3.335514e-03  6.593047e-01         0.311365  \n1  3.537532e-05  5.019642e-04  3.236284e-03         0.996226  \n2  3.230408e-02  1.072269e-02  1.947678e-02         0.824868  \n3  3.665239e-02  1.295068e-01  8.464585e-02         0.742422  \n4  3.936859e-02  1.541006e-01  7.591664e-01         0.034419  \n5  7.938398e-02  4.505412e-05  7.119338e-04         0.919422  \n6  4.990801e-02  6.007125e-03  2.117231e-02         0.921581  \n7  4.666997e-03  1.789849e-02  1.363563e-03         0.951563  \n8  4.079895e-12  6.198625e-07  1.172881e-07         0.999999  \nProb Style Analysis\n                                                path     Bokeh    Bright  \\\n0  static/downloads/hashtag/instagram/20210527_15...  0.050486  0.010374   \n1  static/downloads/hashtag/instagram/20210527_15...  0.081993  0.029771   \n2  static/downloads/hashtag/instagram/20210527_15...  0.016869  0.037518   \n3  static/downloads/hashtag/instagram/20210527_15...  0.016074  0.000057   \n4  static/downloads/hashtag/instagram/20210527_15...  0.048321  0.019889   \n5  static/downloads/hashtag/instagram/20210527_15...  0.081174  0.037147   \n6  static/downloads/hashtag/instagram/20210527_15...  0.061045  0.041474   \n7  static/downloads/hashtag/instagram/20210527_15...  0.085780  0.041985   \n8  static/downloads/hashtag/instagram/20210527_15...  0.085227  0.008849   \n\n   Depth_of_field  Detailed  Ethereal  Geometric_composition      Hazy  \\\n0        0.043749  0.012762  0.002275               0.033252  0.024851   \n1        0.056566  0.040340  0.037269               0.017412  0.058993   \n2        0.024404  0.005624  0.013734               0.001867  0.014103   \n3        0.009318  0.000194  0.000077               0.000893  0.000450   \n4        0.042752  0.015313  0.004816               0.054154  0.036568   \n5        0.061094  0.022024  0.065370               0.006430  0.059578   \n6        0.054600  0.031582  0.096249               0.012367  0.045681   \n7        0.067218  0.029939  0.093941               0.005042  0.044736   \n8        0.053288  0.015104  0.007564               0.002254  0.005649   \n\n        Hdr    Horror  ...         Macro  Melancholy   Minimal      Noir  \\\n0  0.028385  0.045027  ...  1.736694e-05    0.047706  0.002739  0.406628   \n1  0.021268  0.020874  ...  3.804434e-03    0.070989  0.020998  0.021655   \n2  0.014394  0.484795  ...  4.920815e-05    0.135731  0.000727  0.010007   \n3  0.000268  0.020287  ...  3.463926e-08    0.019330  0.000070  0.878788   \n4  0.016943  0.078493  ...  2.268150e-04    0.046657  0.018859  0.400441   \n5  0.024851  0.058917  ...  3.596022e-03    0.103393  0.019635  0.031695   \n6  0.040487  0.094585  ...  1.036263e-02    0.075486  0.012883  0.044169   \n7  0.027971  0.068502  ...  1.112709e-02    0.080170  0.009548  0.022725   \n8  0.007394  0.130992  ...  7.087825e-05    0.140575  0.001730  0.049162   \n\n     Pastel  Romantic    Serene     Sunny   Texture   Vintage  \n0  0.017110  0.063619  0.026069  0.039196  0.032424  0.103274  \n1  0.133976  0.111474  0.052884  0.040420  0.027290  0.145235  \n2  0.078175  0.041986  0.013092  0.004384  0.011044  0.087693  \n3  0.000876  0.010734  0.000736  0.000146  0.003051  0.038562  \n4  0.015296  0.034591  0.019670  0.028960  0.018709  0.050563  \n5  0.117215  0.092486  0.035190  0.040856  0.025560  0.104233  \n6  0.097997  0.065024  0.040704  0.024768  0.046659  0.091236  \n7  0.124458  0.096675  0.038299  0.020694  0.033561  0.089231  \n8  0.066292  0.139255  0.012997  0.005054  0.016092  0.251667  \n\n[9 rows x 21 columns]\nProb Scene Analysis\n                                                path      airfield  \\\n0  static/downloads/hashtag/instagram/20210527_15...  6.758343e-06   \n1  static/downloads/hashtag/instagram/20210527_15...  2.832939e-09   \n2  static/downloads/hashtag/instagram/20210527_15...  4.986783e-06   \n3  static/downloads/hashtag/instagram/20210527_15...  4.495223e-03   \n4  static/downloads/hashtag/instagram/20210527_15...  5.289263e-05   \n5  static/downloads/hashtag/instagram/20210527_15...  1.294209e-07   \n6  static/downloads/hashtag/instagram/20210527_15...  5.841009e-07   \n7  static/downloads/hashtag/instagram/20210527_15...  1.656009e-07   \n8  static/downloads/hashtag/instagram/20210527_15...  2.219791e-07   \n\n   airplane_cabin  airport_terminal    alcove         alley  amphitheater  \\\n0    1.008736e-04      1.773056e-05  0.001438  1.406527e-06  2.816693e-07   \n1    2.465127e-07      4.393116e-06  0.000035  5.692465e-08  1.589441e-08   \n2    1.545391e-03      8.571974e-05  0.000459  5.812849e-03  5.806208e-04   \n3    1.360767e-01      2.595394e-03  0.000710  7.959762e-07  1.494323e-05   \n4    6.616865e-05      2.380435e-04  0.000460  2.165289e-06  1.376007e-07   \n5    3.802499e-06      9.919218e-06  0.007299  1.499447e-05  7.570196e-06   \n6    8.959502e-06      7.592027e-06  0.014015  6.878733e-06  1.262527e-06   \n7    5.861939e-06      2.843829e-07  0.007649  3.095299e-05  5.584048e-07   \n8    8.172765e-07      2.633965e-06  0.000038  1.482077e-07  4.295594e-08   \n\n   amusement_arcade  amusement_park  apartment_building/outdoor  ...  \\\n0      6.088182e-06    1.090715e-05                9.779430e-07  ...   \n1      1.325213e-07    4.417957e-07                4.690727e-08  ...   \n2      1.092704e-05    2.634513e-05                2.923219e-03  ...   \n3      2.234105e-05    2.924326e-05                2.989108e-06  ...   \n4      2.069502e-06    6.783215e-06                6.693924e-07  ...   \n5      1.120111e-06    2.755082e-06                6.522925e-06  ...   \n6      9.525710e-07    1.583121e-05                1.213588e-06  ...   \n7      1.112140e-07    1.702361e-06                3.975894e-07  ...   \n8      2.141525e-06    2.394661e-07                6.899191e-07  ...   \n\n      waterfall  watering_hole          wave       wet_bar   wheat_field  \\\n0  1.680457e-06   4.983202e-07  7.640017e-07  5.903629e-05  1.528570e-05   \n1  2.940129e-07   7.508044e-10  4.320303e-08  1.070744e-07  2.761737e-08   \n2  3.602816e-06   1.736295e-08  3.750127e-07  4.976001e-05  1.576980e-06   \n3  1.192792e-05   6.103285e-06  3.869275e-06  7.262775e-04  2.909924e-05   \n4  1.258799e-06   1.538929e-06  4.011438e-07  9.526728e-04  3.952997e-06   \n5  4.543052e-06   2.467829e-06  5.126212e-07  2.160789e-03  2.231137e-07   \n6  3.819075e-07   6.915818e-08  1.077998e-06  3.301413e-04  7.749557e-07   \n7  1.737088e-06   1.311412e-07  2.162716e-07  4.647701e-05  6.431333e-07   \n8  1.682122e-07   1.267288e-07  5.664781e-07  1.953219e-05  7.839930e-07   \n\n      wind_farm      windmill          yard  youth_hostel    zen_garden  \n0  1.026189e-05  4.472406e-06  9.390913e-05  2.718325e-03  1.256546e-06  \n1  9.787952e-09  2.839279e-09  7.441784e-08  8.016382e-07  5.785647e-09  \n2  1.200031e-05  9.404384e-06  5.865505e-05  6.980759e-04  4.766122e-05  \n3  1.317668e-03  4.236224e-05  1.673423e-06  3.397313e-06  7.798199e-06  \n4  6.537258e-04  5.340023e-05  7.566039e-06  6.280017e-07  1.281230e-07  \n5  2.902000e-07  1.021983e-07  1.052460e-04  1.955225e-03  2.871485e-04  \n6  3.023080e-07  1.926522e-07  2.125784e-05  5.621376e-04  1.437185e-04  \n7  1.126851e-07  8.573973e-08  2.396414e-05  6.249373e-03  3.140938e-05  \n8  5.554070e-07  1.170806e-06  6.838660e-06  8.104750e-05  5.770364e-07  \n\n[9 rows x 366 columns]\nProb Scene Cat Analysis\n                                                path    Indoor  \\\n0  static/downloads/hashtag/instagram/20210527_15...  0.479851   \n1  static/downloads/hashtag/instagram/20210527_15...  0.998332   \n2  static/downloads/hashtag/instagram/20210527_15...  0.608891   \n3  static/downloads/hashtag/instagram/20210527_15...  0.582771   \n4  static/downloads/hashtag/instagram/20210527_15...  0.160379   \n5  static/downloads/hashtag/instagram/20210527_15...  0.307399   \n6  static/downloads/hashtag/instagram/20210527_15...  0.379568   \n7  static/downloads/hashtag/instagram/20210527_15...  0.581194   \n8  static/downloads/hashtag/instagram/20210527_15...  0.256992   \n\n   Outdoor (Natural)  Outdoor (Man-Made)  Outdoor (Mixed)  \n0           0.196069            0.312997         0.011083  \n1           0.000164            0.001435         0.000071  \n2           0.032163            0.356950         0.001997  \n3           0.104085            0.307714         0.005430  \n4           0.015557            0.813359         0.010705  \n5           0.298734            0.375815         0.018052  \n6           0.029849            0.587997         0.002586  \n7           0.194415            0.216773         0.007618  \n8           0.414923            0.319290         0.008795  \nSupport\n         Object  Number of Object  Number of Basket  Support: Object  \\\n0  potted plant                 4                 6           0.2500   \n1        person                 7                 7           0.4375   \n2         chair                 2                 2           0.1250   \n3      keyboard                 1                 3           0.0625   \n4            tv                 1                 1           0.0625   \n5          vase                 1                 1           0.0625   \n\n   Support: Basket  \n0         0.666667  \n1         0.777778  \n2         0.222222  \n3         0.333333  \n4         0.111111  \n5         0.111111  \nAssociation Rules\n      antecedents consequents  antecedent support  consequent support  \\\n0  [potted plant]    [person]            0.444444            0.777778   \n\n    support  confidence      lift  leverage  conviction  \n0  0.444444         1.0  1.285714  0.098765         inf  \nimage_path\n['static/downloads/hashtag/instagram/20210527_154826_UTC_earthpatravee/2021-05-12_11-29-29_UTC.jpg', 'static/downloads/hashtag/instagram/20210527_154826_UTC_earthpatravee/2021-05-13_16-36-52_UTC.jpg', 'static/downloads/hashtag/instagram/20210527_154826_UTC_earthpatravee/2021-05-20_15-03-53_UTC_1.jpg', 'static/downloads/hashtag/instagram/20210527_154826_UTC_earthpatravee/2021-05-20_15-03-53_UTC_2.jpg', 'static/downloads/hashtag/instagram/20210527_154826_UTC_earthpatravee/2021-05-20_15-03-53_UTC_3.jpg', 'static/downloads/hashtag/instagram/20210527_154826_UTC_earthpatravee/2021-05-21_03-05-35_UTC_1.jpg', 'static/downloads/hashtag/instagram/20210527_154826_UTC_earthpatravee/2021-05-21_03-05-35_UTC_2.jpg', 'static/downloads/hashtag/instagram/20210527_154826_UTC_earthpatravee/2021-05-21_03-05-35_UTC_3.jpg', 'static/downloads/hashtag/instagram/20210527_154826_UTC_earthpatravee/2021-05-24_13-23-55_UTC.jpg']\n"
     ]
    }
   ],
   "source": [
    "for result in results:\n",
    "    print(result)\n",
    "    print(results[result])"
   ]
  },
  {
   "cell_type": "code",
   "execution_count": 7,
   "metadata": {},
   "outputs": [
    {
     "output_type": "execute_result",
     "data": {
      "text/plain": [
       "                                                path  width  height  channel  \\\n",
       "0  static/downloads/hashtag/instagram/20210527_15...   1125    1406        3   \n",
       "1  static/downloads/hashtag/instagram/20210527_15...   1440    1799        3   \n",
       "2  static/downloads/hashtag/instagram/20210527_15...   1440     960        3   \n",
       "3  static/downloads/hashtag/instagram/20210527_15...   1440     958        3   \n",
       "4  static/downloads/hashtag/instagram/20210527_15...   1440     958        3   \n",
       "5  static/downloads/hashtag/instagram/20210527_15...   1440    1800        3   \n",
       "6  static/downloads/hashtag/instagram/20210527_15...   1440    1800        3   \n",
       "7  static/downloads/hashtag/instagram/20210527_15...   1440    1800        3   \n",
       "8  static/downloads/hashtag/instagram/20210527_15...   1440     958        3   \n",
       "\n",
       "  aspect ratio orientation        sentiment    style             scence  \\\n",
       "0    1125:1406   Landscape         Positive     Noir        childs_room   \n",
       "1    1440:1799   Landscape  Highly_Positive  Vintage  bow_window/indoor   \n",
       "2          3:2    Portrait  Highly_Positive   Horror      dressing_room   \n",
       "3      720:479    Portrait  Highly_Positive     Noir           bathroom   \n",
       "4      720:479    Portrait         Positive     Noir             shower   \n",
       "5          4:5   Landscape  Highly_Positive   Pastel             shower   \n",
       "6          4:5   Landscape  Highly_Positive   Pastel            nursery   \n",
       "7          4:5   Landscape  Highly_Positive   Pastel            bedroom   \n",
       "8      720:479    Portrait  Highly_Positive  Vintage        home_office   \n",
       "\n",
       "       indoor/outdoor                                            objects  \\\n",
       "0              Indoor                      (person, chair, potted plant)   \n",
       "1              Indoor                                                 ()   \n",
       "2              Indoor                                          (person,)   \n",
       "3              Indoor                                          (person,)   \n",
       "4  Outdoor (Man-Made)                                                 ()   \n",
       "5  Outdoor (Man-Made)                             (person, potted plant)   \n",
       "6  Outdoor (Man-Made)                                          (person,)   \n",
       "7              Indoor                             (person, potted plant)   \n",
       "8   Outdoor (Natural)  (person, keyboard, potted plant, potted plant,...   \n",
       "\n",
       "   detected_person  \n",
       "0             True  \n",
       "1            False  \n",
       "2             True  \n",
       "3             True  \n",
       "4            False  \n",
       "5             True  \n",
       "6             True  \n",
       "7             True  \n",
       "8             True  "
      ],
      "text/html": "<div>\n<style scoped>\n    .dataframe tbody tr th:only-of-type {\n        vertical-align: middle;\n    }\n\n    .dataframe tbody tr th {\n        vertical-align: top;\n    }\n\n    .dataframe thead th {\n        text-align: right;\n    }\n</style>\n<table border=\"1\" class=\"dataframe\">\n  <thead>\n    <tr style=\"text-align: right;\">\n      <th></th>\n      <th>path</th>\n      <th>width</th>\n      <th>height</th>\n      <th>channel</th>\n      <th>aspect ratio</th>\n      <th>orientation</th>\n      <th>sentiment</th>\n      <th>style</th>\n      <th>scence</th>\n      <th>indoor/outdoor</th>\n      <th>objects</th>\n      <th>detected_person</th>\n    </tr>\n  </thead>\n  <tbody>\n    <tr>\n      <th>0</th>\n      <td>static/downloads/hashtag/instagram/20210527_15...</td>\n      <td>1125</td>\n      <td>1406</td>\n      <td>3</td>\n      <td>1125:1406</td>\n      <td>Landscape</td>\n      <td>Positive</td>\n      <td>Noir</td>\n      <td>childs_room</td>\n      <td>Indoor</td>\n      <td>(person, chair, potted plant)</td>\n      <td>True</td>\n    </tr>\n    <tr>\n      <th>1</th>\n      <td>static/downloads/hashtag/instagram/20210527_15...</td>\n      <td>1440</td>\n      <td>1799</td>\n      <td>3</td>\n      <td>1440:1799</td>\n      <td>Landscape</td>\n      <td>Highly_Positive</td>\n      <td>Vintage</td>\n      <td>bow_window/indoor</td>\n      <td>Indoor</td>\n      <td>()</td>\n      <td>False</td>\n    </tr>\n    <tr>\n      <th>2</th>\n      <td>static/downloads/hashtag/instagram/20210527_15...</td>\n      <td>1440</td>\n      <td>960</td>\n      <td>3</td>\n      <td>3:2</td>\n      <td>Portrait</td>\n      <td>Highly_Positive</td>\n      <td>Horror</td>\n      <td>dressing_room</td>\n      <td>Indoor</td>\n      <td>(person,)</td>\n      <td>True</td>\n    </tr>\n    <tr>\n      <th>3</th>\n      <td>static/downloads/hashtag/instagram/20210527_15...</td>\n      <td>1440</td>\n      <td>958</td>\n      <td>3</td>\n      <td>720:479</td>\n      <td>Portrait</td>\n      <td>Highly_Positive</td>\n      <td>Noir</td>\n      <td>bathroom</td>\n      <td>Indoor</td>\n      <td>(person,)</td>\n      <td>True</td>\n    </tr>\n    <tr>\n      <th>4</th>\n      <td>static/downloads/hashtag/instagram/20210527_15...</td>\n      <td>1440</td>\n      <td>958</td>\n      <td>3</td>\n      <td>720:479</td>\n      <td>Portrait</td>\n      <td>Positive</td>\n      <td>Noir</td>\n      <td>shower</td>\n      <td>Outdoor (Man-Made)</td>\n      <td>()</td>\n      <td>False</td>\n    </tr>\n    <tr>\n      <th>5</th>\n      <td>static/downloads/hashtag/instagram/20210527_15...</td>\n      <td>1440</td>\n      <td>1800</td>\n      <td>3</td>\n      <td>4:5</td>\n      <td>Landscape</td>\n      <td>Highly_Positive</td>\n      <td>Pastel</td>\n      <td>shower</td>\n      <td>Outdoor (Man-Made)</td>\n      <td>(person, potted plant)</td>\n      <td>True</td>\n    </tr>\n    <tr>\n      <th>6</th>\n      <td>static/downloads/hashtag/instagram/20210527_15...</td>\n      <td>1440</td>\n      <td>1800</td>\n      <td>3</td>\n      <td>4:5</td>\n      <td>Landscape</td>\n      <td>Highly_Positive</td>\n      <td>Pastel</td>\n      <td>nursery</td>\n      <td>Outdoor (Man-Made)</td>\n      <td>(person,)</td>\n      <td>True</td>\n    </tr>\n    <tr>\n      <th>7</th>\n      <td>static/downloads/hashtag/instagram/20210527_15...</td>\n      <td>1440</td>\n      <td>1800</td>\n      <td>3</td>\n      <td>4:5</td>\n      <td>Landscape</td>\n      <td>Highly_Positive</td>\n      <td>Pastel</td>\n      <td>bedroom</td>\n      <td>Indoor</td>\n      <td>(person, potted plant)</td>\n      <td>True</td>\n    </tr>\n    <tr>\n      <th>8</th>\n      <td>static/downloads/hashtag/instagram/20210527_15...</td>\n      <td>1440</td>\n      <td>958</td>\n      <td>3</td>\n      <td>720:479</td>\n      <td>Portrait</td>\n      <td>Highly_Positive</td>\n      <td>Vintage</td>\n      <td>home_office</td>\n      <td>Outdoor (Natural)</td>\n      <td>(person, keyboard, potted plant, potted plant,...</td>\n      <td>True</td>\n    </tr>\n  </tbody>\n</table>\n</div>"
     },
     "metadata": {},
     "execution_count": 7
    }
   ],
   "source": [
    "results['Single Image View']"
   ]
  },
  {
   "cell_type": "code",
   "execution_count": 8,
   "metadata": {},
   "outputs": [
    {
     "output_type": "execute_result",
     "data": {
      "text/plain": [
       "     style  Count          %\n",
       "0   Horror      1  11.111111\n",
       "1     Noir      3  33.333333\n",
       "2   Pastel      3  33.333333\n",
       "3  Vintage      2  22.222222"
      ],
      "text/html": "<div>\n<style scoped>\n    .dataframe tbody tr th:only-of-type {\n        vertical-align: middle;\n    }\n\n    .dataframe tbody tr th {\n        vertical-align: top;\n    }\n\n    .dataframe thead th {\n        text-align: right;\n    }\n</style>\n<table border=\"1\" class=\"dataframe\">\n  <thead>\n    <tr style=\"text-align: right;\">\n      <th></th>\n      <th>style</th>\n      <th>Count</th>\n      <th>%</th>\n    </tr>\n  </thead>\n  <tbody>\n    <tr>\n      <th>0</th>\n      <td>Horror</td>\n      <td>1</td>\n      <td>11.111111</td>\n    </tr>\n    <tr>\n      <th>1</th>\n      <td>Noir</td>\n      <td>3</td>\n      <td>33.333333</td>\n    </tr>\n    <tr>\n      <th>2</th>\n      <td>Pastel</td>\n      <td>3</td>\n      <td>33.333333</td>\n    </tr>\n    <tr>\n      <th>3</th>\n      <td>Vintage</td>\n      <td>2</td>\n      <td>22.222222</td>\n    </tr>\n  </tbody>\n</table>\n</div>"
     },
     "metadata": {},
     "execution_count": 8
    }
   ],
   "source": [
    "\n",
    "\n",
    "def single_view_summary(single_view_df, key:list):\n",
    "    selected_col = ['path'] + key\n",
    "    summary_df = single_view_df[selected_col].groupby(key).count().reset_index()\n",
    "    summary_df['%'] = 100*summary_df['path']/summary_df['path'].sum()\n",
    "    summary_df = summary_df.rename(columns = {'path': 'Count'})\n",
    "    return summary_df\n",
    "\n",
    "\n",
    "single_view_summary(results['Single Image View'], key=['style'])\n",
    "\n",
    "\n"
   ]
  },
  {
   "cell_type": "code",
   "execution_count": 9,
   "metadata": {},
   "outputs": [
    {
     "output_type": "execute_result",
     "data": {
      "text/plain": [
       "   width  height  Count          %\n",
       "0   1125    1406      1  11.111111\n",
       "1   1440     958      3  33.333333\n",
       "2   1440     960      1  11.111111\n",
       "3   1440    1799      1  11.111111\n",
       "4   1440    1800      3  33.333333"
      ],
      "text/html": "<div>\n<style scoped>\n    .dataframe tbody tr th:only-of-type {\n        vertical-align: middle;\n    }\n\n    .dataframe tbody tr th {\n        vertical-align: top;\n    }\n\n    .dataframe thead th {\n        text-align: right;\n    }\n</style>\n<table border=\"1\" class=\"dataframe\">\n  <thead>\n    <tr style=\"text-align: right;\">\n      <th></th>\n      <th>width</th>\n      <th>height</th>\n      <th>Count</th>\n      <th>%</th>\n    </tr>\n  </thead>\n  <tbody>\n    <tr>\n      <th>0</th>\n      <td>1125</td>\n      <td>1406</td>\n      <td>1</td>\n      <td>11.111111</td>\n    </tr>\n    <tr>\n      <th>1</th>\n      <td>1440</td>\n      <td>958</td>\n      <td>3</td>\n      <td>33.333333</td>\n    </tr>\n    <tr>\n      <th>2</th>\n      <td>1440</td>\n      <td>960</td>\n      <td>1</td>\n      <td>11.111111</td>\n    </tr>\n    <tr>\n      <th>3</th>\n      <td>1440</td>\n      <td>1799</td>\n      <td>1</td>\n      <td>11.111111</td>\n    </tr>\n    <tr>\n      <th>4</th>\n      <td>1440</td>\n      <td>1800</td>\n      <td>3</td>\n      <td>33.333333</td>\n    </tr>\n  </tbody>\n</table>\n</div>"
     },
     "metadata": {},
     "execution_count": 9
    }
   ],
   "source": [
    "single_view_summary(results['Single Image View'], key=['width', 'height'])"
   ]
  },
  {
   "cell_type": "code",
   "execution_count": 14,
   "metadata": {},
   "outputs": [
    {
     "output_type": "execute_result",
     "data": {
      "text/plain": [
       "['path',\n",
       " 'Highly_Negative',\n",
       " 'Negative',\n",
       " 'Neutral',\n",
       " 'Positive',\n",
       " 'Highly_Positive']"
      ]
     },
     "metadata": {},
     "execution_count": 14
    }
   ],
   "source": []
  },
  {
   "cell_type": "code",
   "execution_count": 10,
   "metadata": {},
   "outputs": [
    {
     "output_type": "execute_result",
     "data": {
      "text/plain": [
       "                                                path  Highly_Negative  \\\n",
       "0  static/downloads/hashtag/instagram/20210527_15...     1.850520e-03   \n",
       "1  static/downloads/hashtag/instagram/20210527_15...     4.813240e-07   \n",
       "2  static/downloads/hashtag/instagram/20210527_15...     1.126283e-01   \n",
       "3  static/downloads/hashtag/instagram/20210527_15...     6.773179e-03   \n",
       "4  static/downloads/hashtag/instagram/20210527_15...     1.294521e-02   \n",
       "5  static/downloads/hashtag/instagram/20210527_15...     4.375089e-04   \n",
       "6  static/downloads/hashtag/instagram/20210527_15...     1.331917e-03   \n",
       "7  static/downloads/hashtag/instagram/20210527_15...     2.450827e-02   \n",
       "8  static/downloads/hashtag/instagram/20210527_15...     3.672813e-07   \n",
       "\n",
       "       Negative       Neutral      Positive  Highly_Positive  \n",
       "0  2.414425e-02  3.335514e-03  6.593047e-01         0.311365  \n",
       "1  3.537532e-05  5.019642e-04  3.236284e-03         0.996226  \n",
       "2  3.230408e-02  1.072269e-02  1.947678e-02         0.824868  \n",
       "3  3.665239e-02  1.295068e-01  8.464585e-02         0.742422  \n",
       "4  3.936859e-02  1.541006e-01  7.591664e-01         0.034419  \n",
       "5  7.938398e-02  4.505412e-05  7.119338e-04         0.919422  \n",
       "6  4.990801e-02  6.007125e-03  2.117231e-02         0.921581  \n",
       "7  4.666997e-03  1.789849e-02  1.363563e-03         0.951563  \n",
       "8  4.079895e-12  6.198625e-07  1.172881e-07         0.999999  "
      ],
      "text/html": "<div>\n<style scoped>\n    .dataframe tbody tr th:only-of-type {\n        vertical-align: middle;\n    }\n\n    .dataframe tbody tr th {\n        vertical-align: top;\n    }\n\n    .dataframe thead th {\n        text-align: right;\n    }\n</style>\n<table border=\"1\" class=\"dataframe\">\n  <thead>\n    <tr style=\"text-align: right;\">\n      <th></th>\n      <th>path</th>\n      <th>Highly_Negative</th>\n      <th>Negative</th>\n      <th>Neutral</th>\n      <th>Positive</th>\n      <th>Highly_Positive</th>\n    </tr>\n  </thead>\n  <tbody>\n    <tr>\n      <th>0</th>\n      <td>static/downloads/hashtag/instagram/20210527_15...</td>\n      <td>1.850520e-03</td>\n      <td>2.414425e-02</td>\n      <td>3.335514e-03</td>\n      <td>6.593047e-01</td>\n      <td>0.311365</td>\n    </tr>\n    <tr>\n      <th>1</th>\n      <td>static/downloads/hashtag/instagram/20210527_15...</td>\n      <td>4.813240e-07</td>\n      <td>3.537532e-05</td>\n      <td>5.019642e-04</td>\n      <td>3.236284e-03</td>\n      <td>0.996226</td>\n    </tr>\n    <tr>\n      <th>2</th>\n      <td>static/downloads/hashtag/instagram/20210527_15...</td>\n      <td>1.126283e-01</td>\n      <td>3.230408e-02</td>\n      <td>1.072269e-02</td>\n      <td>1.947678e-02</td>\n      <td>0.824868</td>\n    </tr>\n    <tr>\n      <th>3</th>\n      <td>static/downloads/hashtag/instagram/20210527_15...</td>\n      <td>6.773179e-03</td>\n      <td>3.665239e-02</td>\n      <td>1.295068e-01</td>\n      <td>8.464585e-02</td>\n      <td>0.742422</td>\n    </tr>\n    <tr>\n      <th>4</th>\n      <td>static/downloads/hashtag/instagram/20210527_15...</td>\n      <td>1.294521e-02</td>\n      <td>3.936859e-02</td>\n      <td>1.541006e-01</td>\n      <td>7.591664e-01</td>\n      <td>0.034419</td>\n    </tr>\n    <tr>\n      <th>5</th>\n      <td>static/downloads/hashtag/instagram/20210527_15...</td>\n      <td>4.375089e-04</td>\n      <td>7.938398e-02</td>\n      <td>4.505412e-05</td>\n      <td>7.119338e-04</td>\n      <td>0.919422</td>\n    </tr>\n    <tr>\n      <th>6</th>\n      <td>static/downloads/hashtag/instagram/20210527_15...</td>\n      <td>1.331917e-03</td>\n      <td>4.990801e-02</td>\n      <td>6.007125e-03</td>\n      <td>2.117231e-02</td>\n      <td>0.921581</td>\n    </tr>\n    <tr>\n      <th>7</th>\n      <td>static/downloads/hashtag/instagram/20210527_15...</td>\n      <td>2.450827e-02</td>\n      <td>4.666997e-03</td>\n      <td>1.789849e-02</td>\n      <td>1.363563e-03</td>\n      <td>0.951563</td>\n    </tr>\n    <tr>\n      <th>8</th>\n      <td>static/downloads/hashtag/instagram/20210527_15...</td>\n      <td>3.672813e-07</td>\n      <td>4.079895e-12</td>\n      <td>6.198625e-07</td>\n      <td>1.172881e-07</td>\n      <td>0.999999</td>\n    </tr>\n  </tbody>\n</table>\n</div>"
     },
     "metadata": {},
     "execution_count": 10
    }
   ],
   "source": [
    "results['Prob Sentiment Analysis']"
   ]
  },
  {
   "cell_type": "code",
   "execution_count": 11,
   "metadata": {},
   "outputs": [
    {
     "output_type": "execute_result",
     "data": {
      "text/plain": [
       "                                                path  width  height  channel  \\\n",
       "0  static/downloads/hashtag/instagram/20210527_15...   1125    1406        3   \n",
       "1  static/downloads/hashtag/instagram/20210527_15...   1440    1799        3   \n",
       "2  static/downloads/hashtag/instagram/20210527_15...   1440     960        3   \n",
       "3  static/downloads/hashtag/instagram/20210527_15...   1440     958        3   \n",
       "4  static/downloads/hashtag/instagram/20210527_15...   1440     958        3   \n",
       "5  static/downloads/hashtag/instagram/20210527_15...   1440    1800        3   \n",
       "6  static/downloads/hashtag/instagram/20210527_15...   1440    1800        3   \n",
       "7  static/downloads/hashtag/instagram/20210527_15...   1440    1800        3   \n",
       "8  static/downloads/hashtag/instagram/20210527_15...   1440     958        3   \n",
       "\n",
       "  aspect ratio orientation        sentiment    style             scence  \\\n",
       "0    1125:1406   Landscape         Positive     Noir        childs_room   \n",
       "1    1440:1799   Landscape  Highly_Positive  Vintage  bow_window/indoor   \n",
       "2          3:2    Portrait  Highly_Positive   Horror      dressing_room   \n",
       "3      720:479    Portrait  Highly_Positive     Noir           bathroom   \n",
       "4      720:479    Portrait         Positive     Noir             shower   \n",
       "5          4:5   Landscape  Highly_Positive   Pastel             shower   \n",
       "6          4:5   Landscape  Highly_Positive   Pastel            nursery   \n",
       "7          4:5   Landscape  Highly_Positive   Pastel            bedroom   \n",
       "8      720:479    Portrait  Highly_Positive  Vintage        home_office   \n",
       "\n",
       "       indoor/outdoor  detected_person  \n",
       "0              Indoor             True  \n",
       "1              Indoor            False  \n",
       "2              Indoor             True  \n",
       "3              Indoor             True  \n",
       "4  Outdoor (Man-Made)            False  \n",
       "5  Outdoor (Man-Made)             True  \n",
       "6  Outdoor (Man-Made)             True  \n",
       "7              Indoor             True  \n",
       "8   Outdoor (Natural)             True  "
      ],
      "text/html": "<div>\n<style scoped>\n    .dataframe tbody tr th:only-of-type {\n        vertical-align: middle;\n    }\n\n    .dataframe tbody tr th {\n        vertical-align: top;\n    }\n\n    .dataframe thead th {\n        text-align: right;\n    }\n</style>\n<table border=\"1\" class=\"dataframe\">\n  <thead>\n    <tr style=\"text-align: right;\">\n      <th></th>\n      <th>path</th>\n      <th>width</th>\n      <th>height</th>\n      <th>channel</th>\n      <th>aspect ratio</th>\n      <th>orientation</th>\n      <th>sentiment</th>\n      <th>style</th>\n      <th>scence</th>\n      <th>indoor/outdoor</th>\n      <th>detected_person</th>\n    </tr>\n  </thead>\n  <tbody>\n    <tr>\n      <th>0</th>\n      <td>static/downloads/hashtag/instagram/20210527_15...</td>\n      <td>1125</td>\n      <td>1406</td>\n      <td>3</td>\n      <td>1125:1406</td>\n      <td>Landscape</td>\n      <td>Positive</td>\n      <td>Noir</td>\n      <td>childs_room</td>\n      <td>Indoor</td>\n      <td>True</td>\n    </tr>\n    <tr>\n      <th>1</th>\n      <td>static/downloads/hashtag/instagram/20210527_15...</td>\n      <td>1440</td>\n      <td>1799</td>\n      <td>3</td>\n      <td>1440:1799</td>\n      <td>Landscape</td>\n      <td>Highly_Positive</td>\n      <td>Vintage</td>\n      <td>bow_window/indoor</td>\n      <td>Indoor</td>\n      <td>False</td>\n    </tr>\n    <tr>\n      <th>2</th>\n      <td>static/downloads/hashtag/instagram/20210527_15...</td>\n      <td>1440</td>\n      <td>960</td>\n      <td>3</td>\n      <td>3:2</td>\n      <td>Portrait</td>\n      <td>Highly_Positive</td>\n      <td>Horror</td>\n      <td>dressing_room</td>\n      <td>Indoor</td>\n      <td>True</td>\n    </tr>\n    <tr>\n      <th>3</th>\n      <td>static/downloads/hashtag/instagram/20210527_15...</td>\n      <td>1440</td>\n      <td>958</td>\n      <td>3</td>\n      <td>720:479</td>\n      <td>Portrait</td>\n      <td>Highly_Positive</td>\n      <td>Noir</td>\n      <td>bathroom</td>\n      <td>Indoor</td>\n      <td>True</td>\n    </tr>\n    <tr>\n      <th>4</th>\n      <td>static/downloads/hashtag/instagram/20210527_15...</td>\n      <td>1440</td>\n      <td>958</td>\n      <td>3</td>\n      <td>720:479</td>\n      <td>Portrait</td>\n      <td>Positive</td>\n      <td>Noir</td>\n      <td>shower</td>\n      <td>Outdoor (Man-Made)</td>\n      <td>False</td>\n    </tr>\n    <tr>\n      <th>5</th>\n      <td>static/downloads/hashtag/instagram/20210527_15...</td>\n      <td>1440</td>\n      <td>1800</td>\n      <td>3</td>\n      <td>4:5</td>\n      <td>Landscape</td>\n      <td>Highly_Positive</td>\n      <td>Pastel</td>\n      <td>shower</td>\n      <td>Outdoor (Man-Made)</td>\n      <td>True</td>\n    </tr>\n    <tr>\n      <th>6</th>\n      <td>static/downloads/hashtag/instagram/20210527_15...</td>\n      <td>1440</td>\n      <td>1800</td>\n      <td>3</td>\n      <td>4:5</td>\n      <td>Landscape</td>\n      <td>Highly_Positive</td>\n      <td>Pastel</td>\n      <td>nursery</td>\n      <td>Outdoor (Man-Made)</td>\n      <td>True</td>\n    </tr>\n    <tr>\n      <th>7</th>\n      <td>static/downloads/hashtag/instagram/20210527_15...</td>\n      <td>1440</td>\n      <td>1800</td>\n      <td>3</td>\n      <td>4:5</td>\n      <td>Landscape</td>\n      <td>Highly_Positive</td>\n      <td>Pastel</td>\n      <td>bedroom</td>\n      <td>Indoor</td>\n      <td>True</td>\n    </tr>\n    <tr>\n      <th>8</th>\n      <td>static/downloads/hashtag/instagram/20210527_15...</td>\n      <td>1440</td>\n      <td>958</td>\n      <td>3</td>\n      <td>720:479</td>\n      <td>Portrait</td>\n      <td>Highly_Positive</td>\n      <td>Vintage</td>\n      <td>home_office</td>\n      <td>Outdoor (Natural)</td>\n      <td>True</td>\n    </tr>\n  </tbody>\n</table>\n</div>"
     },
     "metadata": {},
     "execution_count": 11
    }
   ],
   "source": [
    "def check_objects_from_df(result_df, basket_col:str='objects', objects:list=None, count:bool=False, prefix:str=''):\n",
    "    \n",
    "    # result_df = result_df[[basket_col]].copy()\n",
    "\n",
    "    if count:\n",
    "        for obj in objects:\n",
    "            result_df[prefix+obj] = result_df[basket_col].apply(lambda basket: basket.count(obj))\n",
    "    else:\n",
    "        for obj in objects:\n",
    "            result_df[prefix+obj] = result_df[basket_col].apply(lambda basket: obj in basket)\n",
    "\n",
    "    result_df = result_df.drop([basket_col], axis=1)\n",
    "\n",
    "    return result_df\n",
    "\n",
    "check_objects_from_df(results['Single Image View'], basket_col='objects', objects=['person'], count=False, prefix='detected_')\n",
    "\n",
    "\n",
    "\n"
   ]
  }
 ]
}