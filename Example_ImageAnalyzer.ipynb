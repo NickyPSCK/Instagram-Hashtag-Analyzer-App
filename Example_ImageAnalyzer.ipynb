{
 "metadata": {
  "language_info": {
   "codemirror_mode": {
    "name": "ipython",
    "version": 3
   },
   "file_extension": ".py",
   "mimetype": "text/x-python",
   "name": "python",
   "nbconvert_exporter": "python",
   "pygments_lexer": "ipython3",
   "version": "3.8.5"
  },
  "orig_nbformat": 2,
  "kernelspec": {
   "name": "python385jvsc74a57bd098e0e5a8360ea46c4d89f3d13cddee7b000a2354652bb761e304bf1406e0af16",
   "display_name": "Python 3.8.5 64-bit ('INDEPENDENT-STUDY': conda)"
  }
 },
 "nbformat": 4,
 "nbformat_minor": 2,
 "cells": [
  {
   "source": [
    "# Example of Class ImageAnalyzer"
   ],
   "cell_type": "markdown",
   "metadata": {}
  },
  {
   "cell_type": "code",
   "execution_count": 1,
   "metadata": {},
   "outputs": [
    {
     "output_type": "execute_result",
     "data": {
      "text/plain": [
       "<config_loader.ConfigLoader at 0x1817ca94460>"
      ]
     },
     "metadata": {},
     "execution_count": 1
    }
   ],
   "source": [
    "from util.init_sys import InitSystem\n",
    "InitSystem().init()"
   ]
  },
  {
   "cell_type": "code",
   "execution_count": 2,
   "metadata": {},
   "outputs": [],
   "source": [
    "import tensorflow\n",
    "from image_analyzer import ImageAnalyzer"
   ]
  },
  {
   "cell_type": "code",
   "execution_count": 3,
   "metadata": {},
   "outputs": [],
   "source": [
    "import json\n",
    "with open('config/class.json', 'r') as f:\n",
    "    class_label = json.loads(f.read())"
   ]
  },
  {
   "cell_type": "code",
   "execution_count": 4,
   "metadata": {},
   "outputs": [],
   "source": [
    "\n",
    "ia = ImageAnalyzer(\n",
    "\n",
    "                    sentiment_classifier_path = 'model/sentiment_classification.h5',\n",
    "                    sentiment_classifier_pre_prep_func = tensorflow.keras.applications.efficientnet.preprocess_input,\n",
    "                    sentiment_classifier_class_label = class_label['sentiment_classification_label'],\n",
    "\n",
    "                    style_classifier_path = 'model/style_classification.h5',\n",
    "                    style_classifier_pre_prep_func = tensorflow.keras.applications.efficientnet.preprocess_input,\n",
    "                    style_classifier_class_label = class_label['style_classification_label'],                \n",
    "                    \n",
    "                    scence_classifier_path = 'model/scence_classification.h5',\n",
    "                    scence_classifier_pre_prep_func = None,\n",
    "                    scence_classifier_class_label = class_label['scence_classification_label'],  \n",
    "\n",
    "                    object_detection_model_path = 'model/YOLO-COCO/yolov4.cfg',\n",
    "                    object_detection_model_weight_path = 'model/YOLO-COCO/yolov4.weights',\n",
    "                    object_detection_class_label  =class_label['object_detection_label'],\n",
    "                    object_detection_algorithm = 'yolo',\n",
    "\n",
    "                    frequent_itemsets_algorithm = 'apriori',\n",
    "                    min_support = 0.3,\n",
    "                    association_metric = 'confidence',\n",
    "                    association_min_threshold = 1\n",
    "                    )\n",
    "\n",
    "ia.load_image(img_glob_pathname = 'static/downloads/hashtag/demo/demo1/*.jpg')\n",
    "\n",
    "\n"
   ]
  },
  {
   "cell_type": "code",
   "execution_count": 5,
   "metadata": {},
   "outputs": [],
   "source": [
    "results = ia.analyze()"
   ]
  },
  {
   "cell_type": "code",
   "execution_count": 6,
   "metadata": {},
   "outputs": [
    {
     "output_type": "stream",
     "name": "stdout",
     "text": [
      "raw_result_sentiment\n                                                path  Highly_Negative  \\\n0  static/downloads/hashtag/demo/demo1/messageIma...     1.548636e-05   \n1  static/downloads/hashtag/demo/demo1/messageIma...     2.645135e-05   \n2  static/downloads/hashtag/demo/demo1/messageIma...     1.050238e-06   \n3  static/downloads/hashtag/demo/demo1/messageIma...     5.604191e-07   \n4  static/downloads/hashtag/demo/demo1/messageIma...     2.699658e-07   \n\n       Negative   Neutral  Positive  Highly_Positive  \n0  4.511407e-05  0.000847  0.026571         0.972521  \n1  2.489860e-05  0.000058  0.653892         0.345999  \n2  3.008737e-03  0.000065  0.001077         0.995848  \n3  2.698374e-07  0.000025  0.000022         0.999952  \n4  3.630425e-05  0.000427  0.204876         0.794660  \nraw_result_style\n                                                path     Bokeh    Bright  \\\n0  static/downloads/hashtag/demo/demo1/messageIma...  0.005867  0.003295   \n1  static/downloads/hashtag/demo/demo1/messageIma...  0.133034  0.094731   \n2  static/downloads/hashtag/demo/demo1/messageIma...  0.128102  0.029138   \n3  static/downloads/hashtag/demo/demo1/messageIma...  0.006845  0.001793   \n4  static/downloads/hashtag/demo/demo1/messageIma...  0.045066  0.264676   \n\n   Depth_of_field  Detailed  Ethereal  Geometric_composition      Hazy  \\\n0        0.002791  0.012872  0.002000           9.586255e-06  0.000108   \n1        0.072296  0.042884  0.046835           3.050631e-03  0.005778   \n2        0.070880  0.015259  0.037807           3.609233e-04  0.010505   \n3        0.002329  0.008864  0.002843           9.489597e-07  0.000043   \n4        0.045633  0.082605  0.009964           2.065855e-02  0.004367   \n\n        Hdr    Horror  ...     Macro  Melancholy       Minimal          Noir  \\\n0  0.000074  0.000301  ...  0.000005    0.001625  7.133537e-07  3.211523e-06   \n1  0.011947  0.046233  ...  0.032968    0.035009  2.026428e-03  1.694264e-03   \n2  0.004103  0.043801  ...  0.000873    0.088355  5.900183e-04  4.378255e-03   \n3  0.000027  0.000172  ...  0.000004    0.000762  4.790122e-07  8.546468e-07   \n4  0.063543  0.049530  ...  0.022969    0.018199  1.654371e-03  8.376378e-04   \n\n     Pastel  Romantic    Serene     Sunny   Texture   Vintage  \n0  0.042244  0.920298  0.001401  0.000029  0.000467  0.006607  \n1  0.175564  0.102340  0.043406  0.005887  0.032670  0.109024  \n2  0.168163  0.273427  0.014829  0.004823  0.010165  0.093727  \n3  0.115533  0.852777  0.001692  0.000021  0.000148  0.006144  \n4  0.092967  0.074466  0.039897  0.005207  0.070905  0.065279  \n\n[5 rows x 21 columns]\nraw_result_scence\n                                                path  airfield  \\\n0  static/downloads/hashtag/demo/demo1/messageIma...  0.005867   \n1  static/downloads/hashtag/demo/demo1/messageIma...  0.133034   \n2  static/downloads/hashtag/demo/demo1/messageIma...  0.128102   \n3  static/downloads/hashtag/demo/demo1/messageIma...  0.006845   \n4  static/downloads/hashtag/demo/demo1/messageIma...  0.045066   \n\n   airplane_cabin  airport_terminal    alcove     alley  amphitheater  \\\n0        0.003295          0.002791  0.012872  0.002000  9.586255e-06   \n1        0.094731          0.072296  0.042884  0.046835  3.050631e-03   \n2        0.029138          0.070880  0.015259  0.037807  3.609233e-04   \n3        0.001793          0.002329  0.008864  0.002843  9.489597e-07   \n4        0.264676          0.045633  0.082605  0.009964  2.065855e-02   \n\n   amusement_arcade  amusement_park  apartment_building/outdoor  ...  \\\n0          0.000108        0.000074                    0.000301  ...   \n1          0.005778        0.011947                    0.046233  ...   \n2          0.010505        0.004103                    0.043801  ...   \n3          0.000043        0.000027                    0.000172  ...   \n4          0.004367        0.063543                    0.049530  ...   \n\n   aqueduct    arcade          arch  archaelogical_excavation   archive  \\\n0  0.000005  0.001625  7.133537e-07              3.211523e-06  0.042244   \n1  0.032968  0.035009  2.026428e-03              1.694264e-03  0.175564   \n2  0.000873  0.088355  5.900183e-04              4.378255e-03  0.168163   \n3  0.000004  0.000762  4.790122e-07              8.546468e-07  0.115533   \n4  0.022969  0.018199  1.654371e-03              8.376378e-04  0.092967   \n\n     hockey  performance     rodeo  army_base  art_gallery  \n0  0.920298     0.001401  0.000029   0.000467     0.006607  \n1  0.102340     0.043406  0.005887   0.032670     0.109024  \n2  0.273427     0.014829  0.004823   0.010165     0.093727  \n3  0.852777     0.001692  0.000021   0.000148     0.006144  \n4  0.074466     0.039897  0.005207   0.070905     0.065279  \n\n[5 rows x 21 columns]\nsummary_result_sentiment\n             Class  Number of Image  Percentage of Image\n0  Highly_Positive                4                 80.0\n1         Positive                1                 20.0\nsummary_result_style\n      Class  Number of Image  Percentage of Image\n0  Romantic                3                 60.0\n1    Bright                1                 20.0\n2    Pastel                1                 20.0\nsummary_result_scence\n            Class  Number of Image  Percentage of Image\n0          hockey                3                 60.0\n1  airplane_cabin                1                 20.0\n2         archive                1                 20.0\nsingle_support_result\n   Object  Number of Object  Number of Basket  Support: Object  \\\n0  person                 5                 7         0.833333   \n1     tie                 1                 1         0.166667   \n\n   Support: Basket  \n0              1.4  \n1              0.2  \nassociation_rules_result\nEmpty DataFrame\nColumns: [antecedents, consequents, antecedent support, consequent support, support, confidence, lift, leverage, conviction]\nIndex: []\n"
     ]
    }
   ],
   "source": [
    "for result in results:\n",
    "    print(result)\n",
    "    print(results[result])"
   ]
  }
 ]
}