{
 "metadata": {
  "language_info": {
   "codemirror_mode": {
    "name": "ipython",
    "version": 3
   },
   "file_extension": ".py",
   "mimetype": "text/x-python",
   "name": "python",
   "nbconvert_exporter": "python",
   "pygments_lexer": "ipython3",
   "version": "3.8.5"
  },
  "orig_nbformat": 2,
  "kernelspec": {
   "name": "python385jvsc74a57bd098e0e5a8360ea46c4d89f3d13cddee7b000a2354652bb761e304bf1406e0af16",
   "display_name": "Python 3.8.5 64-bit ('INDEPENDENT-STUDY': conda)"
  }
 },
 "nbformat": 4,
 "nbformat_minor": 2,
 "cells": [
  {
   "source": [
    "# Example of Class ImageAnalyzer"
   ],
   "cell_type": "markdown",
   "metadata": {}
  },
  {
   "cell_type": "code",
   "execution_count": null,
   "metadata": {},
   "outputs": [],
   "source": [
    "from util.init_sys import InitSystem\n",
    "InitSystem().init()"
   ]
  },
  {
   "cell_type": "code",
   "execution_count": 1,
   "metadata": {},
   "outputs": [],
   "source": [
    "import tensorflow\n",
    "from image_analyzer import ImageAnalyzer"
   ]
  },
  {
   "cell_type": "code",
   "execution_count": 2,
   "metadata": {},
   "outputs": [],
   "source": [
    "import json\n",
    "with open('config/class.json', 'r') as f:\n",
    "    class_label = json.loads(f.read())"
   ]
  },
  {
   "cell_type": "code",
   "execution_count": 3,
   "metadata": {},
   "outputs": [],
   "source": [
    "\n",
    "ia = ImageAnalyzer(\n",
    "\n",
    "                    sentiment_classifier_path='model/sentiment_classification.h5',\n",
    "                    sentiment_classifier_pre_prep_func = tensorflow.keras.applications.efficientnet.preprocess_input,\n",
    "                    sentiment_classifier_class_label = class_label['sentiment_classification_label'],\n",
    "\n",
    "                    style_classifier_path='model/style_classification.h5',\n",
    "                    style_classifier_pre_prep_func = tensorflow.keras.applications.efficientnet.preprocess_input,\n",
    "                    style_classifier_class_label = class_label['style_classification_label']                  \n",
    "                    )\n",
    "\n",
    "ia.load_image(img_glob_pathname = 'static/downloads/hashtag/demo/demo1/*.jpg')\n",
    "\n",
    "result_sentiment_df, result_style_df, summary_frequent_object_table_df, freq_items_set_df = ia.analyze()\n"
   ]
  },
  {
   "cell_type": "code",
   "execution_count": 4,
   "metadata": {},
   "outputs": [
    {
     "output_type": "execute_result",
     "data": {
      "text/plain": [
       "                                                path  Highly_Negative  \\\n",
       "0  static/downloads/hashtag/demo/demo1/messageIma...     1.548646e-05   \n",
       "1  static/downloads/hashtag/demo/demo1/messageIma...     2.645149e-05   \n",
       "2  static/downloads/hashtag/demo/demo1/messageIma...     1.050196e-06   \n",
       "3  static/downloads/hashtag/demo/demo1/messageIma...     5.604095e-07   \n",
       "4  static/downloads/hashtag/demo/demo1/messageIma...     2.699678e-07   \n",
       "\n",
       "       Negative   Neutral  Positive  Highly_Positive  \n",
       "0  4.511454e-05  0.000848  0.026571         0.972521  \n",
       "1  2.489831e-05  0.000058  0.653893         0.345998  \n",
       "2  3.008643e-03  0.000065  0.001077         0.995848  \n",
       "3  2.698307e-07  0.000025  0.000022         0.999952  \n",
       "4  3.630507e-05  0.000427  0.204876         0.794660  "
      ],
      "text/html": "<div>\n<style scoped>\n    .dataframe tbody tr th:only-of-type {\n        vertical-align: middle;\n    }\n\n    .dataframe tbody tr th {\n        vertical-align: top;\n    }\n\n    .dataframe thead th {\n        text-align: right;\n    }\n</style>\n<table border=\"1\" class=\"dataframe\">\n  <thead>\n    <tr style=\"text-align: right;\">\n      <th></th>\n      <th>path</th>\n      <th>Highly_Negative</th>\n      <th>Negative</th>\n      <th>Neutral</th>\n      <th>Positive</th>\n      <th>Highly_Positive</th>\n    </tr>\n  </thead>\n  <tbody>\n    <tr>\n      <th>0</th>\n      <td>static/downloads/hashtag/demo/demo1/messageIma...</td>\n      <td>1.548646e-05</td>\n      <td>4.511454e-05</td>\n      <td>0.000848</td>\n      <td>0.026571</td>\n      <td>0.972521</td>\n    </tr>\n    <tr>\n      <th>1</th>\n      <td>static/downloads/hashtag/demo/demo1/messageIma...</td>\n      <td>2.645149e-05</td>\n      <td>2.489831e-05</td>\n      <td>0.000058</td>\n      <td>0.653893</td>\n      <td>0.345998</td>\n    </tr>\n    <tr>\n      <th>2</th>\n      <td>static/downloads/hashtag/demo/demo1/messageIma...</td>\n      <td>1.050196e-06</td>\n      <td>3.008643e-03</td>\n      <td>0.000065</td>\n      <td>0.001077</td>\n      <td>0.995848</td>\n    </tr>\n    <tr>\n      <th>3</th>\n      <td>static/downloads/hashtag/demo/demo1/messageIma...</td>\n      <td>5.604095e-07</td>\n      <td>2.698307e-07</td>\n      <td>0.000025</td>\n      <td>0.000022</td>\n      <td>0.999952</td>\n    </tr>\n    <tr>\n      <th>4</th>\n      <td>static/downloads/hashtag/demo/demo1/messageIma...</td>\n      <td>2.699678e-07</td>\n      <td>3.630507e-05</td>\n      <td>0.000427</td>\n      <td>0.204876</td>\n      <td>0.794660</td>\n    </tr>\n  </tbody>\n</table>\n</div>"
     },
     "metadata": {},
     "execution_count": 4
    }
   ],
   "source": [
    "result_sentiment_df"
   ]
  },
  {
   "cell_type": "code",
   "execution_count": 5,
   "metadata": {},
   "outputs": [
    {
     "output_type": "execute_result",
     "data": {
      "text/plain": [
       "                                                path     Bokeh    Bright  \\\n",
       "0  static/downloads/hashtag/demo/demo1/messageIma...  0.005867  0.003295   \n",
       "1  static/downloads/hashtag/demo/demo1/messageIma...  0.133034  0.094732   \n",
       "2  static/downloads/hashtag/demo/demo1/messageIma...  0.128102  0.029139   \n",
       "3  static/downloads/hashtag/demo/demo1/messageIma...  0.006845  0.001793   \n",
       "4  static/downloads/hashtag/demo/demo1/messageIma...  0.045066  0.264676   \n",
       "\n",
       "   Depth_of_field  Detailed  Ethereal  Geometric_composition      Hazy  \\\n",
       "0        0.002791  0.012872  0.002000           9.586158e-06  0.000108   \n",
       "1        0.072296  0.042884  0.046834           3.050649e-03  0.005778   \n",
       "2        0.070880  0.015259  0.037807           3.609197e-04  0.010505   \n",
       "3        0.002329  0.008864  0.002843           9.489451e-07  0.000043   \n",
       "4        0.045633  0.082605  0.009964           2.065860e-02  0.004367   \n",
       "\n",
       "        Hdr    Horror  ...     Macro  Melancholy       Minimal          Noir  \\\n",
       "0  0.000074  0.000301  ...  0.000005    0.001625  7.133471e-07  3.211509e-06   \n",
       "1  0.011947  0.046233  ...  0.032968    0.035009  2.026426e-03  1.694256e-03   \n",
       "2  0.004103  0.043801  ...  0.000873    0.088354  5.900126e-04  4.378213e-03   \n",
       "3  0.000027  0.000172  ...  0.000004    0.000762  4.790061e-07  8.546352e-07   \n",
       "4  0.063543  0.049529  ...  0.022969    0.018199  1.654384e-03  8.376446e-04   \n",
       "\n",
       "     Pastel  Romantic    Serene     Sunny   Texture   Vintage  \n",
       "0  0.042244  0.920298  0.001401  0.000029  0.000467  0.006607  \n",
       "1  0.175565  0.102340  0.043406  0.005887  0.032670  0.109024  \n",
       "2  0.168164  0.273428  0.014829  0.004823  0.010165  0.093727  \n",
       "3  0.115533  0.852777  0.001692  0.000021  0.000148  0.006144  \n",
       "4  0.092967  0.074466  0.039897  0.005207  0.070905  0.065279  \n",
       "\n",
       "[5 rows x 21 columns]"
      ],
      "text/html": "<div>\n<style scoped>\n    .dataframe tbody tr th:only-of-type {\n        vertical-align: middle;\n    }\n\n    .dataframe tbody tr th {\n        vertical-align: top;\n    }\n\n    .dataframe thead th {\n        text-align: right;\n    }\n</style>\n<table border=\"1\" class=\"dataframe\">\n  <thead>\n    <tr style=\"text-align: right;\">\n      <th></th>\n      <th>path</th>\n      <th>Bokeh</th>\n      <th>Bright</th>\n      <th>Depth_of_field</th>\n      <th>Detailed</th>\n      <th>Ethereal</th>\n      <th>Geometric_composition</th>\n      <th>Hazy</th>\n      <th>Hdr</th>\n      <th>Horror</th>\n      <th>...</th>\n      <th>Macro</th>\n      <th>Melancholy</th>\n      <th>Minimal</th>\n      <th>Noir</th>\n      <th>Pastel</th>\n      <th>Romantic</th>\n      <th>Serene</th>\n      <th>Sunny</th>\n      <th>Texture</th>\n      <th>Vintage</th>\n    </tr>\n  </thead>\n  <tbody>\n    <tr>\n      <th>0</th>\n      <td>static/downloads/hashtag/demo/demo1/messageIma...</td>\n      <td>0.005867</td>\n      <td>0.003295</td>\n      <td>0.002791</td>\n      <td>0.012872</td>\n      <td>0.002000</td>\n      <td>9.586158e-06</td>\n      <td>0.000108</td>\n      <td>0.000074</td>\n      <td>0.000301</td>\n      <td>...</td>\n      <td>0.000005</td>\n      <td>0.001625</td>\n      <td>7.133471e-07</td>\n      <td>3.211509e-06</td>\n      <td>0.042244</td>\n      <td>0.920298</td>\n      <td>0.001401</td>\n      <td>0.000029</td>\n      <td>0.000467</td>\n      <td>0.006607</td>\n    </tr>\n    <tr>\n      <th>1</th>\n      <td>static/downloads/hashtag/demo/demo1/messageIma...</td>\n      <td>0.133034</td>\n      <td>0.094732</td>\n      <td>0.072296</td>\n      <td>0.042884</td>\n      <td>0.046834</td>\n      <td>3.050649e-03</td>\n      <td>0.005778</td>\n      <td>0.011947</td>\n      <td>0.046233</td>\n      <td>...</td>\n      <td>0.032968</td>\n      <td>0.035009</td>\n      <td>2.026426e-03</td>\n      <td>1.694256e-03</td>\n      <td>0.175565</td>\n      <td>0.102340</td>\n      <td>0.043406</td>\n      <td>0.005887</td>\n      <td>0.032670</td>\n      <td>0.109024</td>\n    </tr>\n    <tr>\n      <th>2</th>\n      <td>static/downloads/hashtag/demo/demo1/messageIma...</td>\n      <td>0.128102</td>\n      <td>0.029139</td>\n      <td>0.070880</td>\n      <td>0.015259</td>\n      <td>0.037807</td>\n      <td>3.609197e-04</td>\n      <td>0.010505</td>\n      <td>0.004103</td>\n      <td>0.043801</td>\n      <td>...</td>\n      <td>0.000873</td>\n      <td>0.088354</td>\n      <td>5.900126e-04</td>\n      <td>4.378213e-03</td>\n      <td>0.168164</td>\n      <td>0.273428</td>\n      <td>0.014829</td>\n      <td>0.004823</td>\n      <td>0.010165</td>\n      <td>0.093727</td>\n    </tr>\n    <tr>\n      <th>3</th>\n      <td>static/downloads/hashtag/demo/demo1/messageIma...</td>\n      <td>0.006845</td>\n      <td>0.001793</td>\n      <td>0.002329</td>\n      <td>0.008864</td>\n      <td>0.002843</td>\n      <td>9.489451e-07</td>\n      <td>0.000043</td>\n      <td>0.000027</td>\n      <td>0.000172</td>\n      <td>...</td>\n      <td>0.000004</td>\n      <td>0.000762</td>\n      <td>4.790061e-07</td>\n      <td>8.546352e-07</td>\n      <td>0.115533</td>\n      <td>0.852777</td>\n      <td>0.001692</td>\n      <td>0.000021</td>\n      <td>0.000148</td>\n      <td>0.006144</td>\n    </tr>\n    <tr>\n      <th>4</th>\n      <td>static/downloads/hashtag/demo/demo1/messageIma...</td>\n      <td>0.045066</td>\n      <td>0.264676</td>\n      <td>0.045633</td>\n      <td>0.082605</td>\n      <td>0.009964</td>\n      <td>2.065860e-02</td>\n      <td>0.004367</td>\n      <td>0.063543</td>\n      <td>0.049529</td>\n      <td>...</td>\n      <td>0.022969</td>\n      <td>0.018199</td>\n      <td>1.654384e-03</td>\n      <td>8.376446e-04</td>\n      <td>0.092967</td>\n      <td>0.074466</td>\n      <td>0.039897</td>\n      <td>0.005207</td>\n      <td>0.070905</td>\n      <td>0.065279</td>\n    </tr>\n  </tbody>\n</table>\n<p>5 rows × 21 columns</p>\n</div>"
     },
     "metadata": {},
     "execution_count": 5
    }
   ],
   "source": [
    "result_style_df"
   ]
  },
  {
   "cell_type": "code",
   "execution_count": 6,
   "metadata": {},
   "outputs": [],
   "source": [
    "\n",
    "def summary_classification_result(result_df):\n",
    "    idmax_result_df = result_df.iloc[:,1:].idxmax(axis=\"columns\")\n",
    "    idmax_result_df = idmax_result_df.value_counts().to_frame()\n",
    "    idmax_result_df.columns = ['Number of Image']\n",
    "    idmax_result_df['Percentage of Image'] = idmax_result_df['Number of Image']/result_df.count()\n",
    "    idmax_result_df.sort_values(by='Number of Image', ascending=False, inplace = True)\n",
    "    idmax_result_df = idmax_result_df.reset_index()\n",
    "    idmax_result_df.columns = ['Class', 'Number of Image', 'Percentage of Image']\n",
    "    idmax_result_df['Percentage of Image'] = idmax_result_df['Percentage of Image'].apply(lambda x: round(float(x), 4))\n",
    "    return idmax_result_df\n"
   ]
  },
  {
   "cell_type": "code",
   "execution_count": 7,
   "metadata": {},
   "outputs": [
    {
     "output_type": "execute_result",
     "data": {
      "text/plain": [
       "             Class  Number of Image  Percentage of Image\n",
       "0  Highly_Positive                4                  0.8\n",
       "1         Positive                1                  0.2"
      ],
      "text/html": "<div>\n<style scoped>\n    .dataframe tbody tr th:only-of-type {\n        vertical-align: middle;\n    }\n\n    .dataframe tbody tr th {\n        vertical-align: top;\n    }\n\n    .dataframe thead th {\n        text-align: right;\n    }\n</style>\n<table border=\"1\" class=\"dataframe\">\n  <thead>\n    <tr style=\"text-align: right;\">\n      <th></th>\n      <th>Class</th>\n      <th>Number of Image</th>\n      <th>Percentage of Image</th>\n    </tr>\n  </thead>\n  <tbody>\n    <tr>\n      <th>0</th>\n      <td>Highly_Positive</td>\n      <td>4</td>\n      <td>0.8</td>\n    </tr>\n    <tr>\n      <th>1</th>\n      <td>Positive</td>\n      <td>1</td>\n      <td>0.2</td>\n    </tr>\n  </tbody>\n</table>\n</div>"
     },
     "metadata": {},
     "execution_count": 7
    }
   ],
   "source": [
    "summary_classification_result(result_sentiment_df)"
   ]
  },
  {
   "cell_type": "code",
   "execution_count": 8,
   "metadata": {},
   "outputs": [
    {
     "output_type": "execute_result",
     "data": {
      "text/plain": [
       "      Class  Number of Image  Percentage of Image\n",
       "0  Romantic                3                  0.6\n",
       "1    Pastel                1                  0.2\n",
       "2    Bright                1                  0.2"
      ],
      "text/html": "<div>\n<style scoped>\n    .dataframe tbody tr th:only-of-type {\n        vertical-align: middle;\n    }\n\n    .dataframe tbody tr th {\n        vertical-align: top;\n    }\n\n    .dataframe thead th {\n        text-align: right;\n    }\n</style>\n<table border=\"1\" class=\"dataframe\">\n  <thead>\n    <tr style=\"text-align: right;\">\n      <th></th>\n      <th>Class</th>\n      <th>Number of Image</th>\n      <th>Percentage of Image</th>\n    </tr>\n  </thead>\n  <tbody>\n    <tr>\n      <th>0</th>\n      <td>Romantic</td>\n      <td>3</td>\n      <td>0.6</td>\n    </tr>\n    <tr>\n      <th>1</th>\n      <td>Pastel</td>\n      <td>1</td>\n      <td>0.2</td>\n    </tr>\n    <tr>\n      <th>2</th>\n      <td>Bright</td>\n      <td>1</td>\n      <td>0.2</td>\n    </tr>\n  </tbody>\n</table>\n</div>"
     },
     "metadata": {},
     "execution_count": 8
    }
   ],
   "source": [
    "summary_classification_result(result_style_df)"
   ]
  },
  {
   "cell_type": "code",
   "execution_count": 9,
   "metadata": {},
   "outputs": [
    {
     "output_type": "execute_result",
     "data": {
      "text/plain": [
       "   Object  CountAll  CountImg  SupportAll  SupportImg\n",
       "0  person        23         5    0.851852         1.0\n",
       "1     tie         4         1    0.148148         0.2"
      ],
      "text/html": "<div>\n<style scoped>\n    .dataframe tbody tr th:only-of-type {\n        vertical-align: middle;\n    }\n\n    .dataframe tbody tr th {\n        vertical-align: top;\n    }\n\n    .dataframe thead th {\n        text-align: right;\n    }\n</style>\n<table border=\"1\" class=\"dataframe\">\n  <thead>\n    <tr style=\"text-align: right;\">\n      <th></th>\n      <th>Object</th>\n      <th>CountAll</th>\n      <th>CountImg</th>\n      <th>SupportAll</th>\n      <th>SupportImg</th>\n    </tr>\n  </thead>\n  <tbody>\n    <tr>\n      <th>0</th>\n      <td>person</td>\n      <td>23</td>\n      <td>5</td>\n      <td>0.851852</td>\n      <td>1.0</td>\n    </tr>\n    <tr>\n      <th>1</th>\n      <td>tie</td>\n      <td>4</td>\n      <td>1</td>\n      <td>0.148148</td>\n      <td>0.2</td>\n    </tr>\n  </tbody>\n</table>\n</div>"
     },
     "metadata": {},
     "execution_count": 9
    }
   ],
   "source": [
    "summary_frequent_object_table_df"
   ]
  },
  {
   "cell_type": "code",
   "execution_count": 10,
   "metadata": {},
   "outputs": [
    {
     "output_type": "execute_result",
     "data": {
      "text/plain": [
       "Empty DataFrame\n",
       "Columns: [Antecedents, Consequents, Support, Confidence, Lift]\n",
       "Index: []"
      ],
      "text/html": "<div>\n<style scoped>\n    .dataframe tbody tr th:only-of-type {\n        vertical-align: middle;\n    }\n\n    .dataframe tbody tr th {\n        vertical-align: top;\n    }\n\n    .dataframe thead th {\n        text-align: right;\n    }\n</style>\n<table border=\"1\" class=\"dataframe\">\n  <thead>\n    <tr style=\"text-align: right;\">\n      <th></th>\n      <th>Antecedents</th>\n      <th>Consequents</th>\n      <th>Support</th>\n      <th>Confidence</th>\n      <th>Lift</th>\n    </tr>\n  </thead>\n  <tbody>\n  </tbody>\n</table>\n</div>"
     },
     "metadata": {},
     "execution_count": 10
    }
   ],
   "source": [
    "freq_items_set_df"
   ]
  }
 ]
}