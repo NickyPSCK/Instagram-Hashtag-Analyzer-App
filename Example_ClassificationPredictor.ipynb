{
 "cells": [
  {
   "cell_type": "markdown",
   "metadata": {},
   "source": [
    "# Example of Class ClassificationPredictor"
   ]
  },
  {
   "cell_type": "code",
   "execution_count": 1,
   "metadata": {},
   "outputs": [
    {
     "output_type": "execute_result",
     "data": {
      "text/plain": [
       "<config_loader.ConfigLoader at 0x178b3ad7f10>"
      ]
     },
     "metadata": {},
     "execution_count": 1
    }
   ],
   "source": [
    "from util.init_sys import InitSystem\n",
    "InitSystem().init()"
   ]
  },
  {
   "cell_type": "code",
   "execution_count": 2,
   "metadata": {},
   "outputs": [],
   "source": [
    "from predictor import ClassificationPredictor"
   ]
  },
  {
   "cell_type": "code",
   "execution_count": 3,
   "metadata": {},
   "outputs": [],
   "source": [
    "import json\n",
    "with open('config/class.json', 'r') as f:\n",
    "    class_label = json.loads(f.read())"
   ]
  },
  {
   "cell_type": "code",
   "execution_count": 4,
   "metadata": {},
   "outputs": [
    {
     "output_type": "stream",
     "name": "stdout",
     "text": [
      "[[('Highly_Positive', 0.9901439), ('Positive', 0.004539969), ('Neutral', 0.0031595887)], [('Highly_Positive', 0.49224502), ('Positive', 0.38779116), ('Neutral', 0.11859803)], [('Positive', 0.9281215), ('Highly_Positive', 0.057471845), ('Neutral', 0.01353203)], [('Highly_Positive', 0.74404705), ('Positive', 0.14317335), ('Negative', 0.11082362)], [('Highly_Negative', 0.6722537), ('Highly_Positive', 0.2748799), ('Negative', 0.04544422)], [('Positive', 0.9747342), ('Highly_Negative', 0.0071124863), ('Neutral', 0.0068932115)], [('Highly_Positive', 0.8965056), ('Negative', 0.057120323), ('Neutral', 0.04525826)], [('Highly_Positive', 0.8410634), ('Positive', 0.08217963), ('Neutral', 0.048099242)], [('Positive', 0.70064014), ('Highly_Positive', 0.0985364), ('Negative', 0.0956084)], [('Highly_Positive', 0.99137443), ('Neutral', 0.0071395496), ('Positive', 0.0013658172)], [('Positive', 0.98631626), ('Highly_Positive', 0.006367948), ('Negative', 0.0038383445)], [('Positive', 0.79726183), ('Highly_Positive', 0.20270991), ('Negative', 2.6068099e-05)]]\n"
     ]
    }
   ],
   "source": [
    "from tensorflow.keras.applications.efficientnet import EfficientNetB7, preprocess_input, decode_predictions\n",
    "predictor = ClassificationPredictor( \n",
    "                                            model_path = 'model/sentiment_classification.h5', \n",
    "                                            preprocess_input = preprocess_input,\n",
    "                                            class_label = class_label['sentiment_classification_label']\n",
    "                                            )\n",
    "predictions, list_of_image_path = predictor.predict_form_path('static/downloads/hashtag/demo/demo3/*.jpg')\n",
    "\n",
    "print(predictor.decode_predictions(predictions, top=3))"
   ]
  },
  {
   "cell_type": "code",
   "execution_count": 5,
   "metadata": {},
   "outputs": [
    {
     "output_type": "stream",
     "name": "stdout",
     "text": [
      "[[('Bright', 0.9276174), ('Detailed', 0.055110432), ('Texture', 0.0044097994)], [('Bright', 0.21488622), ('Detailed', 0.13734479), ('Horror', 0.082390115)], [('Bright', 0.55903393), ('Macro', 0.10137183), ('Depth_of_field', 0.064656384)], [('Bright', 0.62583923), ('Detailed', 0.12626016), ('Horror', 0.040074673)], [('Horror', 0.32814467), ('Bright', 0.16021873), ('Detailed', 0.11697652)], [('Bright', 0.3070446), ('Detailed', 0.23857886), ('Romantic', 0.1701453)], [('Horror', 0.15672913), ('Vintage', 0.15279444), ('Bright', 0.13886452)], [('Vintage', 0.29473025), ('Horror', 0.08896544), ('Pastel', 0.07851083)], [('Horror', 0.7780784), ('Bright', 0.13064611), ('Detailed', 0.038004685)], [('Bright', 0.2394678), ('Detailed', 0.20029205), ('Romantic', 0.15270121)], [('Bright', 0.2991173), ('Detailed', 0.10182235), ('Geometric_composition', 0.08584107)], [('Bright', 0.5095378), ('Detailed', 0.21782117), ('Horror', 0.06719432)]]\n"
     ]
    }
   ],
   "source": [
    "from tensorflow.keras.applications.efficientnet import EfficientNetB7, preprocess_input, decode_predictions\n",
    "predictor = ClassificationPredictor( \n",
    "                                            model_path = 'model/style_classification.h5', \n",
    "                                            preprocess_input = preprocess_input,\n",
    "                                            class_label = class_label['style_classification_label']    \n",
    "                                            )\n",
    "predictions, list_of_image_path = predictor.predict_form_path('static/downloads/hashtag/demo/demo3/*.jpg')\n",
    "\n",
    "print(predictor.decode_predictions(predictions, top=3))"
   ]
  },
  {
   "cell_type": "code",
   "execution_count": 6,
   "metadata": {},
   "outputs": [
    {
     "output_type": "stream",
     "name": "stdout",
     "text": [
      "[[('childs_room', 0.99173087), ('playroom', 0.005545054), ('art_studio', 0.0008909147)], [('playroom', 0.6482898), ('nursery', 0.20527913), ('gift_shop', 0.048817806)], [('martial_arts_gym', 0.57329154), ('science_museum', 0.064674415), ('ballroom', 0.06230839)], [('playroom', 0.6800974), ('candy_store', 0.07698165), ('amusement_park', 0.076477915)], [('airplane_cabin', 0.26213017), ('jewelry_shop', 0.22934768), ('shoe_shop', 0.1584005)], [('childs_room', 0.9158847), ('water_park', 0.011231438), ('carrousel', 0.010077864)], [('childs_room', 0.4265093), ('shoe_shop', 0.17509916), ('gift_shop', 0.11893197)], [('shoe_shop', 0.3654786), ('beauty_salon', 0.07592834), ('jewelry_shop', 0.06677827)], [('physics_laboratory', 0.2880252), ('shoe_shop', 0.06956739), ('museum/indoor', 0.057442356)], [('swimming_pool/outdoor', 0.29279655), ('childs_room', 0.14336179), ('art_studio', 0.13860585)], [('atrium/public', 0.41171145), ('shopping_mall/indoor', 0.13481854), ('discotheque', 0.04634668)], [('clothing_store', 0.24737564), ('igloo', 0.1361069), ('childs_room', 0.11929153)]]\n"
     ]
    }
   ],
   "source": [
    "predictor = ClassificationPredictor( \n",
    "                                            model_path = 'model/scence_classification.h5', \n",
    "                                            preprocess_input = None,\n",
    "                                            class_label = class_label['scence_classification_label']\n",
    "                                                                                                        )\n",
    "predictions, list_of_image_path = predictor.predict_form_path('static/downloads/hashtag/demo/demo3/*.jpg')\n",
    "\n",
    "print(predictor.decode_predictions(predictions, top=3))"
   ]
  }
 ],
 "metadata": {
  "kernelspec": {
   "display_name": "Python 3",
   "language": "python",
   "name": "python3"
  },
  "language_info": {
   "codemirror_mode": {
    "name": "ipython",
    "version": 3
   },
   "file_extension": ".py",
   "mimetype": "text/x-python",
   "name": "python",
   "nbconvert_exporter": "python",
   "pygments_lexer": "ipython3",
   "version": "3.8.5"
  }
 },
 "nbformat": 4,
 "nbformat_minor": 2
}