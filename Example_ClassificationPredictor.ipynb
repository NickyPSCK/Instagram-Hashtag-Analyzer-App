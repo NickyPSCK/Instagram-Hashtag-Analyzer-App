{
 "cells": [
  {
   "cell_type": "markdown",
   "metadata": {},
   "source": [
    "# Example of Class ClassificationPredictor"
   ]
  },
  {
   "cell_type": "code",
   "execution_count": 1,
   "metadata": {},
   "outputs": [],
   "source": [
    "from util.init_sys import InitSystem\n",
    "from predictor import ClassificationPredictor, load_images\n",
    "import json"
   ]
  },
  {
   "cell_type": "code",
   "execution_count": 2,
   "metadata": {},
   "outputs": [],
   "source": [
    "InitSystem().init()\n",
    "\n",
    "with open('config/class.json', 'r') as f:\n",
    "    class_label = json.loads(f.read())\n",
    "\n",
    "X, path = load_images('static/downloads/hashtag/demo/demo1/*.jpg', color_mode='rgb', target_size=None)"
   ]
  },
  {
   "cell_type": "code",
   "execution_count": 3,
   "metadata": {},
   "outputs": [
    {
     "output_type": "stream",
     "name": "stdout",
     "text": [
      "[[('Highly_Positive', 0.9577522), ('Positive', 0.040448457), ('Neutral', 0.0017142711)], [('Positive', 0.6658753), ('Highly_Positive', 0.3340348), ('Neutral', 4.851715e-05)], [('Highly_Positive', 0.9963468), ('Negative', 0.002873986), ('Positive', 0.0007084334)], [('Highly_Positive', 0.9999058), ('Neutral', 4.800245e-05), ('Positive', 4.4430293e-05)], [('Highly_Positive', 0.74114484), ('Positive', 0.258618), ('Neutral', 0.00022270705)]]\n"
     ]
    }
   ],
   "source": [
    "from tensorflow.keras.applications.efficientnet import EfficientNetB7, preprocess_input, decode_predictions\n",
    "predictor = ClassificationPredictor( \n",
    "                                            model_path = 'model/sentiment_classification.h5', \n",
    "                                            preprocess_input = preprocess_input,\n",
    "                                            class_label = class_label['sentiment_classification_label']\n",
    "                                            )\n",
    "predictions = predictor.predict(X)\n",
    "\n",
    "print(predictor.decode_predictions(predictions, top=3))"
   ]
  },
  {
   "cell_type": "code",
   "execution_count": 4,
   "metadata": {},
   "outputs": [
    {
     "output_type": "stream",
     "name": "stdout",
     "text": [
      "[[('Romantic', 0.9120562), ('Pastel', 0.045820177), ('Detailed', 0.01435056)], [('Pastel', 0.16939001), ('Bokeh', 0.13416214), ('Vintage', 0.110647716)], [('Romantic', 0.26776758), ('Pastel', 0.16805768), ('Bokeh', 0.13019061)], [('Romantic', 0.8442457), ('Pastel', 0.1223992), ('Detailed', 0.008688943)], [('Bright', 0.3355208), ('Detailed', 0.09095011), ('Pastel', 0.075421385)]]\n"
     ]
    }
   ],
   "source": [
    "from tensorflow.keras.applications.efficientnet import EfficientNetB7, preprocess_input, decode_predictions\n",
    "predictor = ClassificationPredictor( \n",
    "                                            model_path = 'model/style_classification.h5', \n",
    "                                            preprocess_input = preprocess_input,\n",
    "                                            class_label = class_label['style_classification_label']    \n",
    "                                            )\n",
    "predictions = predictor.predict(X)\n",
    "\n",
    "print(predictor.decode_predictions(predictions, top=3))"
   ]
  },
  {
   "cell_type": "code",
   "execution_count": 5,
   "metadata": {},
   "outputs": [
    {
     "output_type": "stream",
     "name": "stdout",
     "text": [
      "[[('clean_room', 0.5327862), ('dressing_room', 0.25379717), ('operating_room', 0.11666985)], [('toyshop', 0.41417715), ('candy_store', 0.15842888), ('art_studio', 0.10841553)], [('toyshop', 0.34138975), ('clean_room', 0.18742579), ('gift_shop', 0.05689932)], [('clean_room', 0.5704248), ('childs_room', 0.06137945), ('beauty_salon', 0.040619705)], [('toyshop', 0.4036998), ('pet_shop', 0.23464209), ('candy_store', 0.11175295)]]\n"
     ]
    }
   ],
   "source": [
    "predictor = ClassificationPredictor( \n",
    "                                            model_path = 'model/scence_classification.h5', \n",
    "                                            preprocess_input = None,\n",
    "                                            class_label = class_label['scence_classification_label']\n",
    "                                                                                                        )\n",
    "predictions = predictor.predict(X)\n",
    "\n",
    "print(predictor.decode_predictions(predictions, top=3))"
   ]
  }
 ],
 "metadata": {
  "kernelspec": {
   "display_name": "Python 3",
   "language": "python",
   "name": "python3"
  },
  "language_info": {
   "codemirror_mode": {
    "name": "ipython",
    "version": 3
   },
   "file_extension": ".py",
   "mimetype": "text/x-python",
   "name": "python",
   "nbconvert_exporter": "python",
   "pygments_lexer": "ipython3",
   "version": "3.8.5"
  }
 },
 "nbformat": 4,
 "nbformat_minor": 2
}