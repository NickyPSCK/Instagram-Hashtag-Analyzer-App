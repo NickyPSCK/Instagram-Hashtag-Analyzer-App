{
 "cells": [
  {
   "cell_type": "code",
   "execution_count": null,
   "metadata": {},
   "outputs": [
    {
     "name": "stdout",
     "output_type": "stream",
     "text": [
      "ad_dataset/20210226_142039_ขายของออนไลน์/2021-02-26_14-20-37_UTC.jpg [🎉Flash Sale 650 โทนสี ขายเพีย…] json \n",
      "[⭐New store opening⭐ ♥️ร้านขาย…] json \n",
      "ad_dataset/20210226_142039_ขายของออนไลน์/2021-02-26_14-19-58_UTC.jpg [#MK5976 หน้าปัด 43 มม😡 3,390ฟ…] geo json \n",
      "ad_dataset/20210226_142039_ขายของออนไลน์/2021-02-26_14-19-21_UTC.jpg [📣ขายไอจีราคาถูก ◆ฟอลไทยล้วน ไ…] json \n",
      "ad_dataset/20210226_142039_ขายของออนไลน์/2021-02-26_14-19-14_UTC.jpg [📣ขายไอจีราคาถูก ◆ฟอลไทยล้วน ไ…] json \n",
      "ad_dataset/20210226_142039_ขายของออนไลน์/2021-02-26_14-19-07_UTC_1.jpg ad_dataset/20210226_142039_ขายของออนไลน์/2021-02-26_14-19-07_UTC_2.jpg [Origins Ginzing Oil-Free Ener…] json \n",
      "ad_dataset/20210226_142039_ขายของออนไลน์/2021-02-26_14-19-06_UTC.jpg [📣ขายไอจีราคาถูก ◆ฟอลไทยล้วน ไ…] json \n",
      "ad_dataset/20210226_142039_ขายของออนไลน์/2021-02-26_14-18-58_UTC.jpg [📣ขายไอจีราคาถูก ◆ฟอลไทยล้วน ไ…] comments json \n",
      "ad_dataset/20210226_142039_ขายของออนไลน์/2021-02-26_14-18-47_UTC.jpg [หอม หอม อยาก อยู่ ใกล้ 💟  🧺 ก…] comments json \n",
      "ad_dataset/20210226_142039_ขายของออนไลน์/2021-02-26_14-18-41_UTC.jpg [📣ขายไอจีราคาถูก ◆ฟอลไทยล้วน ไ…] json \n",
      "ad_dataset/20210226_142039_ขายของออนไลน์/2021-02-26_14-18-30_UTC.jpg [📣ขายไอจีราคาถูก ◆ฟอลไทยล้วน ไ…] json \n",
      "ad_dataset/20210226_142039_ขายของออนไลน์/2021-02-26_14-18-21_UTC.jpg [🎉Flash Sale 650 โทนสี ขายเพีย…] comments json \n",
      "ad_dataset/20210226_142039_ขายของออนไลน์/2021-02-26_14-18-16_UTC.jpg [📣ขายไอจีราคาถูก ◆ฟอลไทยล้วน ไ…] comments json \n",
      "ad_dataset/20210226_142039_ขายของออนไลน์/2021-02-26_14-18-08_UTC.jpg [📣ขายไอจีราคาถูก ◆ฟอลไทยล้วน ไ…] json \n",
      "ad_dataset/20210226_142039_ขายของออนไลน์/2021-02-26_14-18-01_UTC.jpg [📣ขายไอจีราคาถูก ◆ฟอลไทยล้วน ไ…] json \n",
      "ad_dataset/20210226_142039_ขายของออนไลน์/2021-02-26_14-17-50_UTC.jpg [📣ขายไอจีราคาถูก ◆ฟอลไทยล้วน ไ…] json \n",
      "ad_dataset/20210226_142039_ขายของออนไลน์/2021-02-26_14-17-39_UTC.jpg [📣ขายไอจีราคาถูก ◆ฟอลไทยล้วน ไ…] json \n",
      "ad_dataset/20210226_142039_ขายของออนไลน์/2021-02-26_14-17-31_UTC.jpg [🎉Flash Sale 650 โทนสี ขายเพีย…] comments json \n",
      "ad_dataset/20210226_142039_ขายของออนไลน์/2021-02-26_14-17-28_UTC.jpg [📣ขายไอจีราคาถูก ◆ฟอลไทยล้วน ไ…] comments json \n",
      "ad_dataset/20210226_142039_ขายของออนไลน์/2021-02-26_14-16-27_UTC.jpg [🎉Flash Sale 650 โทนสี ขายเพีย…] json \n",
      "ad_dataset/20210226_142039_ขายของออนไลน์/2021-02-26_14-15-08_UTC_1.jpg ad_dataset/20210226_142039_ขายของออนไลน์/2021-02-26_14-15-08_UTC_2.jpg [Origins Make A Difference Plu…] comments json \n",
      "ad_dataset/20210226_142039_ขายของออนไลน์/2021-02-26_14-14-17_UTC.jpg [มีงานที่ได้เงินชัวทันใจมาแนะน…] json \n",
      "ad_dataset/20210226_142039_ขายของออนไลน์/2021-02-26_14-13-37_UTC.jpg [🐳🌊✨ ＊┈┈┈┈＊┈┈┈┈＊┈┈┈┈ 🌷 สติ๊กเก…] comments json \n",
      "ad_dataset/20210226_142039_ขายของออนไลน์/2021-02-26_14-13-29_UTC.jpg [มีงานที่ได้เงินชัวทันใจมาแนะน…] comments json \n",
      "ad_dataset/20210226_142039_ขายของออนไลน์/2021-02-26_14-11-07_UTC.jpg [📣ขายไอจีราคาถูก ◆ฟอลไทยล้วน ไ…] comments json \n",
      "ad_dataset/20210226_142039_ขายของออนไลน์/2021-02-26_14-10-59_UTC.jpg [📣ขายไอจีราคาถูก ◆ฟอลไทยล้วน ไ…] json \n",
      "ad_dataset/20210226_142039_ขายของออนไลน์/2021-02-26_14-10-53_UTC.jpg [เนื้อเจลฉ่ำใสน่าใช้มาก 🥣✨  🥳แ…] comments json \n",
      "ad_dataset/20210226_142039_ขายของออนไลน์/2021-02-26_14-10-49_UTC.jpg [📣ขายไอจีราคาถูก ◆ฟอลไทยล้วน ไ…] comments json \n",
      "ad_dataset/20210226_142039_ขายของออนไลน์/2021-02-26_14-10-36_UTC.jpg [📣ขายไอจีราคาถูก ◆ฟอลไทยล้วน ไ…] json \n",
      "ad_dataset/20210226_142039_ขายของออนไลน์/2021-02-26_14-10-29_UTC.jpg [📣ขายไอจีราคาถูก ◆ฟอลไทยล้วน ไ…] json \n",
      "ad_dataset/20210226_142039_ขายของออนไลน์/2021-02-26_14-10-22_UTC.jpg [📣ขายไอจีราคาถูก ◆ฟอลไทยล้วน ไ…] json \n",
      "[พบกับรายการ THE INJEXTION TIM…] json \n",
      "ad_dataset/20210226_142039_ขายของออนไลน์/2021-02-26_14-09-38_UTC.jpg [สนใจทักได้ค่ะ 5 บาท 💜💚 เทียนห…] "
     ]
    }
   ],
   "source": [
    "from config_loader import ConfigLoader\n",
    "from instagram_scraper import InstagramScraper\n",
    "from datetime import datetime, timezone\n",
    "\n",
    "cl = ConfigLoader()\n",
    "user = cl.get('login', 'user', data_type=str)\n",
    "password = cl.get('login', 'password', data_type=str)\n",
    "insta = InstagramScraper(user=user, password=password)\n",
    "\n",
    "prefix = datetime.now(timezone.utc).strftime(\"%Y%m%d_%H%M%S\")\n",
    "insta.download_from_hashtag(hashtag='ขายของออนไลน์', path='ad_dataset/', prefix=prefix, limit=1000)"
   ]
  }
 ],
 "metadata": {
  "kernelspec": {
   "display_name": "Python 3",
   "language": "python",
   "name": "python3"
  },
  "language_info": {
   "codemirror_mode": {
    "name": "ipython",
    "version": 3
   },
   "file_extension": ".py",
   "mimetype": "text/x-python",
   "name": "python",
   "nbconvert_exporter": "python",
   "pygments_lexer": "ipython3",
   "version": "3.7.3"
  }
 },
 "nbformat": 4,
 "nbformat_minor": 5
}
