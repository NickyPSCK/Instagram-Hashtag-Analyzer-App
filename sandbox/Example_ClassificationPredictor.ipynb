{
 "cells": [
  {
   "cell_type": "markdown",
   "metadata": {},
   "source": [
    "# Example of Class ClassificationPredictor"
   ]
  },
  {
   "cell_type": "code",
   "execution_count": 1,
   "metadata": {},
   "outputs": [],
   "source": [
    "from util.init_sys import InitSystem\n",
    "from predictor import ClassificationPredictor, load_images\n",
    "import json"
   ]
  },
  {
   "cell_type": "code",
   "execution_count": 2,
   "metadata": {},
   "outputs": [],
   "source": [
    "InitSystem().init()\n",
    "\n",
    "with open('config/class.json', 'r') as f:\n",
    "    class_label = json.loads(f.read())\n",
    "\n",
    "X, path = load_images('static/downloads/hashtag/demo/demo1/*.jpg', color_mode='rgb', target_size=None)"
   ]
  },
  {
   "cell_type": "code",
   "execution_count": 3,
   "metadata": {},
   "outputs": [
    {
     "output_type": "stream",
     "name": "stdout",
     "text": [
      "[[('Highly_Positive', 0.95775247), ('Positive', 0.040448327), ('Neutral', 0.0017142659)], [('Positive', 0.6658738), ('Highly_Positive', 0.3340363), ('Neutral', 4.8516904e-05)], [('Highly_Positive', 0.9963468), ('Negative', 0.0028739958), ('Positive', 0.0007084378)], [('Highly_Positive', 0.9999058), ('Neutral', 4.8002406e-05), ('Positive', 4.4430337e-05)], [('Highly_Positive', 0.7411456), ('Positive', 0.25861725), ('Neutral', 0.000222706)]]\n"
     ]
    }
   ],
   "source": [
    "from tensorflow.keras.applications.efficientnet import EfficientNetB7, preprocess_input, decode_predictions\n",
    "predictor = ClassificationPredictor( \n",
    "                                            model_path = 'model/sentiment_classification.h5', \n",
    "                                            preprocess_input = preprocess_input,\n",
    "                                            class_label = class_label['sentiment_classification_label']\n",
    "                                            )\n",
    "predictions = predictor.predict(X)\n",
    "\n",
    "print(predictor.decode_predictions(predictions, top=3))"
   ]
  },
  {
   "cell_type": "code",
   "execution_count": 4,
   "metadata": {},
   "outputs": [
    {
     "output_type": "stream",
     "name": "stdout",
     "text": [
      "[[('Romantic', 0.9120559), ('Pastel', 0.045820314), ('Detailed', 0.014350638)], [('Pastel', 0.16939002), ('Bokeh', 0.1341622), ('Vintage', 0.11064767)], [('Romantic', 0.26776734), ('Pastel', 0.1680577), ('Bokeh', 0.13019064)], [('Romantic', 0.84424555), ('Pastel', 0.1223993), ('Detailed', 0.008688968)], [('Bright', 0.33552164), ('Detailed', 0.09095014), ('Pastel', 0.07542138)]]\n"
     ]
    }
   ],
   "source": [
    "from tensorflow.keras.applications.efficientnet import EfficientNetB7, preprocess_input, decode_predictions\n",
    "predictor = ClassificationPredictor( \n",
    "                                            model_path = 'model/style_classification.h5', \n",
    "                                            preprocess_input = preprocess_input,\n",
    "                                            class_label = class_label['style_classification_label']    \n",
    "                                            )\n",
    "predictions = predictor.predict(X)\n",
    "\n",
    "print(predictor.decode_predictions(predictions, top=3))"
   ]
  },
  {
   "cell_type": "code",
   "execution_count": 5,
   "metadata": {
    "tags": []
   },
   "outputs": [
    {
     "output_type": "stream",
     "name": "stdout",
     "text": [
      "[[('Indoor', 0.53278655), ('Indoor', 0.25379688), ('Outdoor (Man-Made)', 0.11666981)], [('Outdoor (Mixed)', 0.4141771), ('Indoor', 0.15842886), ('Indoor', 0.108415514)], [('Outdoor (Mixed)', 0.34138972), ('Indoor', 0.18742578), ('Outdoor (Natural)', 0.05689934)], [('Indoor', 0.5704247), ('Indoor', 0.0613795), ('Indoor', 0.040619735)], [('Outdoor (Mixed)', 0.4036999), ('Outdoor (Man-Made)', 0.23464194), ('Indoor', 0.11175298)]]\n"
     ]
    }
   ],
   "source": [
    "predictor = ClassificationPredictor( \n",
    "                                            model_path = 'model/scene_classification.h5', \n",
    "                                            preprocess_input = None,\n",
    "                                            class_label = class_label['scene_classification_cat_label']\n",
    "                                                                                                        )\n",
    "predictions = predictor.predict(X)\n",
    "\n",
    "print(predictor.decode_predictions(predictions, top=3))"
   ]
  }
 ],
 "metadata": {
  "kernelspec": {
   "name": "python388jvsc74a57bd098e0e5a8360ea46c4d89f3d13cddee7b000a2354652bb761e304bf1406e0af16",
   "display_name": "Python 3.8.8 64-bit ('independent-study': conda)"
  },
  "language_info": {
   "codemirror_mode": {
    "name": "ipython",
    "version": 3
   },
   "file_extension": ".py",
   "mimetype": "text/x-python",
   "name": "python",
   "nbconvert_exporter": "python",
   "pygments_lexer": "ipython3",
   "version": "3.8.8"
  }
 },
 "nbformat": 4,
 "nbformat_minor": 2
}