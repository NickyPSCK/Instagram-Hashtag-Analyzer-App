{
 "cells": [
  {
   "source": [
    "# Example of Class YOLOPrediction\n"
   ],
   "cell_type": "markdown",
   "metadata": {}
  },
  {
   "cell_type": "code",
   "execution_count": 1,
   "metadata": {},
   "outputs": [],
   "source": [
    "from util.init_sys import InitSystem\n",
    "from predictor import YOLOPrediction, load_images\n",
    "import json"
   ]
  },
  {
   "cell_type": "code",
   "execution_count": 2,
   "metadata": {},
   "outputs": [],
   "source": [
    "InitSystem().init()\n",
    "\n",
    "with open('config/class.json', 'r') as f:\n",
    "    class_label = json.loads(f.read())\n",
    "\n",
    "X, path = load_images('static/downloads/hashtag/demo/demo2/*.jpg', color_mode='rgb', target_size=None)"
   ]
  },
  {
   "cell_type": "code",
   "execution_count": 3,
   "metadata": {},
   "outputs": [
    {
     "output_type": "stream",
     "name": "stdout",
     "text": [
      "[('mouse', 'cup', 'laptop', 'keyboard', 'tv', 'laptop'), ('tie', 'person'), ('mouse', 'laptop', 'keyboard'), ('laptop', 'keyboard', 'mouse', 'chair', 'tv', 'keyboard'), ('dog',), ('dog',)]\n"
     ]
    }
   ],
   "source": [
    "odp = YOLOPrediction(\n",
    "                                    model_path='model/YOLO-COCO/yolov4.cfg',\n",
    "                                    model_weight_path='model/YOLO-COCO/yolov4.weights',\n",
    "                                    class_label=class_label['object_detection_label'] \n",
    "                                    )\n",
    "                                    \n",
    "prediction = odp.predict(X)\n",
    "print(odp.decode_predictions(prediction))"
   ]
  },
  {
   "cell_type": "code",
   "execution_count": 4,
   "metadata": {},
   "outputs": [
    {
     "output_type": "execute_result",
     "data": {
      "text/plain": [
       "[('mouse', 'cup', 'laptop', 'keyboard', 'tv', 'laptop'),\n",
       " ('tie', 'person'),\n",
       " ('mouse', 'laptop', 'keyboard'),\n",
       " ('laptop', 'keyboard', 'mouse', 'chair', 'tv', 'keyboard'),\n",
       " ('dog',),\n",
       " ('dog',)]"
      ]
     },
     "metadata": {},
     "execution_count": 4
    }
   ],
   "source": [
    "dataset = odp.decode_predictions(prediction)\r\n",
    "dataset"
   ]
  },
  {
   "cell_type": "code",
   "execution_count": 5,
   "metadata": {},
   "outputs": [],
   "source": [
    "from util.utility import round_df\n",
    "from association_analyzer import calculate_support, calculate_association"
   ]
  },
  {
   "cell_type": "code",
   "execution_count": 6,
   "metadata": {},
   "outputs": [
    {
     "output_type": "execute_result",
     "data": {
      "text/plain": [
       "     Object  Number of Object  Number of Basket  Support: Object  \\\n",
       "0     mouse                 3                 3           0.1765   \n",
       "1       cup                 1                 1           0.0588   \n",
       "2    laptop                 3                 4           0.1765   \n",
       "3        tv                 2                 2           0.1176   \n",
       "4  keyboard                 3                 4           0.1765   \n",
       "5       tie                 1                 1           0.0588   \n",
       "6    person                 1                 1           0.0588   \n",
       "7     chair                 1                 1           0.0588   \n",
       "8       dog                 2                 2           0.1176   \n",
       "\n",
       "   Support: Basket  \n",
       "0           0.5000  \n",
       "1           0.1667  \n",
       "2           0.6667  \n",
       "3           0.3333  \n",
       "4           0.6667  \n",
       "5           0.1667  \n",
       "6           0.1667  \n",
       "7           0.1667  \n",
       "8           0.3333  "
      ],
      "text/html": "<div>\n<style scoped>\n    .dataframe tbody tr th:only-of-type {\n        vertical-align: middle;\n    }\n\n    .dataframe tbody tr th {\n        vertical-align: top;\n    }\n\n    .dataframe thead th {\n        text-align: right;\n    }\n</style>\n<table border=\"1\" class=\"dataframe\">\n  <thead>\n    <tr style=\"text-align: right;\">\n      <th></th>\n      <th>Object</th>\n      <th>Number of Object</th>\n      <th>Number of Basket</th>\n      <th>Support: Object</th>\n      <th>Support: Basket</th>\n    </tr>\n  </thead>\n  <tbody>\n    <tr>\n      <th>0</th>\n      <td>mouse</td>\n      <td>3</td>\n      <td>3</td>\n      <td>0.1765</td>\n      <td>0.5000</td>\n    </tr>\n    <tr>\n      <th>1</th>\n      <td>cup</td>\n      <td>1</td>\n      <td>1</td>\n      <td>0.0588</td>\n      <td>0.1667</td>\n    </tr>\n    <tr>\n      <th>2</th>\n      <td>laptop</td>\n      <td>3</td>\n      <td>4</td>\n      <td>0.1765</td>\n      <td>0.6667</td>\n    </tr>\n    <tr>\n      <th>3</th>\n      <td>tv</td>\n      <td>2</td>\n      <td>2</td>\n      <td>0.1176</td>\n      <td>0.3333</td>\n    </tr>\n    <tr>\n      <th>4</th>\n      <td>keyboard</td>\n      <td>3</td>\n      <td>4</td>\n      <td>0.1765</td>\n      <td>0.6667</td>\n    </tr>\n    <tr>\n      <th>5</th>\n      <td>tie</td>\n      <td>1</td>\n      <td>1</td>\n      <td>0.0588</td>\n      <td>0.1667</td>\n    </tr>\n    <tr>\n      <th>6</th>\n      <td>person</td>\n      <td>1</td>\n      <td>1</td>\n      <td>0.0588</td>\n      <td>0.1667</td>\n    </tr>\n    <tr>\n      <th>7</th>\n      <td>chair</td>\n      <td>1</td>\n      <td>1</td>\n      <td>0.0588</td>\n      <td>0.1667</td>\n    </tr>\n    <tr>\n      <th>8</th>\n      <td>dog</td>\n      <td>2</td>\n      <td>2</td>\n      <td>0.1176</td>\n      <td>0.3333</td>\n    </tr>\n  </tbody>\n</table>\n</div>"
     },
     "metadata": {},
     "execution_count": 6
    }
   ],
   "source": [
    "df = calculate_support(dataset)\n",
    "round_df(df, decimals=4)"
   ]
  },
  {
   "cell_type": "code",
   "execution_count": 7,
   "metadata": {},
   "outputs": [],
   "source": [
    "frequent_itemsets, association_rules_df = calculate_association(dataset)"
   ]
  },
  {
   "cell_type": "code",
   "execution_count": 8,
   "metadata": {},
   "outputs": [
    {
     "output_type": "execute_result",
     "data": {
      "text/plain": [
       "     support                       itemsets\n",
       "0   0.333333                          (dog)\n",
       "1   0.500000                     (keyboard)\n",
       "2   0.500000                       (laptop)\n",
       "3   0.500000                        (mouse)\n",
       "4   0.333333                           (tv)\n",
       "5   0.500000             (laptop, keyboard)\n",
       "6   0.500000              (mouse, keyboard)\n",
       "7   0.333333                 (tv, keyboard)\n",
       "8   0.500000                (laptop, mouse)\n",
       "9   0.333333                   (laptop, tv)\n",
       "10  0.333333                    (tv, mouse)\n",
       "11  0.500000      (laptop, mouse, keyboard)\n",
       "12  0.333333         (laptop, tv, keyboard)\n",
       "13  0.333333          (tv, mouse, keyboard)\n",
       "14  0.333333            (laptop, tv, mouse)\n",
       "15  0.333333  (laptop, tv, mouse, keyboard)"
      ],
      "text/html": "<div>\n<style scoped>\n    .dataframe tbody tr th:only-of-type {\n        vertical-align: middle;\n    }\n\n    .dataframe tbody tr th {\n        vertical-align: top;\n    }\n\n    .dataframe thead th {\n        text-align: right;\n    }\n</style>\n<table border=\"1\" class=\"dataframe\">\n  <thead>\n    <tr style=\"text-align: right;\">\n      <th></th>\n      <th>support</th>\n      <th>itemsets</th>\n    </tr>\n  </thead>\n  <tbody>\n    <tr>\n      <th>0</th>\n      <td>0.333333</td>\n      <td>(dog)</td>\n    </tr>\n    <tr>\n      <th>1</th>\n      <td>0.500000</td>\n      <td>(keyboard)</td>\n    </tr>\n    <tr>\n      <th>2</th>\n      <td>0.500000</td>\n      <td>(laptop)</td>\n    </tr>\n    <tr>\n      <th>3</th>\n      <td>0.500000</td>\n      <td>(mouse)</td>\n    </tr>\n    <tr>\n      <th>4</th>\n      <td>0.333333</td>\n      <td>(tv)</td>\n    </tr>\n    <tr>\n      <th>5</th>\n      <td>0.500000</td>\n      <td>(laptop, keyboard)</td>\n    </tr>\n    <tr>\n      <th>6</th>\n      <td>0.500000</td>\n      <td>(mouse, keyboard)</td>\n    </tr>\n    <tr>\n      <th>7</th>\n      <td>0.333333</td>\n      <td>(tv, keyboard)</td>\n    </tr>\n    <tr>\n      <th>8</th>\n      <td>0.500000</td>\n      <td>(laptop, mouse)</td>\n    </tr>\n    <tr>\n      <th>9</th>\n      <td>0.333333</td>\n      <td>(laptop, tv)</td>\n    </tr>\n    <tr>\n      <th>10</th>\n      <td>0.333333</td>\n      <td>(tv, mouse)</td>\n    </tr>\n    <tr>\n      <th>11</th>\n      <td>0.500000</td>\n      <td>(laptop, mouse, keyboard)</td>\n    </tr>\n    <tr>\n      <th>12</th>\n      <td>0.333333</td>\n      <td>(laptop, tv, keyboard)</td>\n    </tr>\n    <tr>\n      <th>13</th>\n      <td>0.333333</td>\n      <td>(tv, mouse, keyboard)</td>\n    </tr>\n    <tr>\n      <th>14</th>\n      <td>0.333333</td>\n      <td>(laptop, tv, mouse)</td>\n    </tr>\n    <tr>\n      <th>15</th>\n      <td>0.333333</td>\n      <td>(laptop, tv, mouse, keyboard)</td>\n    </tr>\n  </tbody>\n</table>\n</div>"
     },
     "metadata": {},
     "execution_count": 8
    }
   ],
   "source": [
    "round_df(frequent_itemsets, decimals=4)"
   ]
  },
  {
   "cell_type": "code",
   "execution_count": 9,
   "metadata": {},
   "outputs": [
    {
     "output_type": "execute_result",
     "data": {
      "text/plain": [
       "               antecedents                consequents  antecedent support  \\\n",
       "0                 (laptop)                 (keyboard)              0.5000   \n",
       "1               (keyboard)                   (laptop)              0.5000   \n",
       "2                  (mouse)                 (keyboard)              0.5000   \n",
       "3               (keyboard)                    (mouse)              0.5000   \n",
       "4                     (tv)                 (keyboard)              0.3333   \n",
       "5                 (laptop)                    (mouse)              0.5000   \n",
       "6                  (mouse)                   (laptop)              0.5000   \n",
       "7                     (tv)                   (laptop)              0.3333   \n",
       "8                     (tv)                    (mouse)              0.3333   \n",
       "9          (laptop, mouse)                 (keyboard)              0.5000   \n",
       "10      (laptop, keyboard)                    (mouse)              0.5000   \n",
       "11       (mouse, keyboard)                   (laptop)              0.5000   \n",
       "12                (laptop)          (mouse, keyboard)              0.5000   \n",
       "13                 (mouse)         (laptop, keyboard)              0.5000   \n",
       "14              (keyboard)            (laptop, mouse)              0.5000   \n",
       "15            (laptop, tv)                 (keyboard)              0.3333   \n",
       "16          (tv, keyboard)                   (laptop)              0.3333   \n",
       "17                    (tv)         (laptop, keyboard)              0.3333   \n",
       "18             (tv, mouse)                 (keyboard)              0.3333   \n",
       "19          (tv, keyboard)                    (mouse)              0.3333   \n",
       "20                    (tv)          (mouse, keyboard)              0.3333   \n",
       "21            (laptop, tv)                    (mouse)              0.3333   \n",
       "22             (tv, mouse)                   (laptop)              0.3333   \n",
       "23                    (tv)            (laptop, mouse)              0.3333   \n",
       "24     (laptop, tv, mouse)                 (keyboard)              0.3333   \n",
       "25  (laptop, tv, keyboard)                    (mouse)              0.3333   \n",
       "26   (tv, mouse, keyboard)                   (laptop)              0.3333   \n",
       "27            (laptop, tv)          (mouse, keyboard)              0.3333   \n",
       "28             (tv, mouse)         (laptop, keyboard)              0.3333   \n",
       "29          (tv, keyboard)            (laptop, mouse)              0.3333   \n",
       "30                    (tv)  (laptop, mouse, keyboard)              0.3333   \n",
       "\n",
       "    consequent support  support  confidence  lift  leverage  conviction  \n",
       "0                  0.5   0.5000         1.0   2.0    0.2500         inf  \n",
       "1                  0.5   0.5000         1.0   2.0    0.2500         inf  \n",
       "2                  0.5   0.5000         1.0   2.0    0.2500         inf  \n",
       "3                  0.5   0.5000         1.0   2.0    0.2500         inf  \n",
       "4                  0.5   0.3333         1.0   2.0    0.1667         inf  \n",
       "5                  0.5   0.5000         1.0   2.0    0.2500         inf  \n",
       "6                  0.5   0.5000         1.0   2.0    0.2500         inf  \n",
       "7                  0.5   0.3333         1.0   2.0    0.1667         inf  \n",
       "8                  0.5   0.3333         1.0   2.0    0.1667         inf  \n",
       "9                  0.5   0.5000         1.0   2.0    0.2500         inf  \n",
       "10                 0.5   0.5000         1.0   2.0    0.2500         inf  \n",
       "11                 0.5   0.5000         1.0   2.0    0.2500         inf  \n",
       "12                 0.5   0.5000         1.0   2.0    0.2500         inf  \n",
       "13                 0.5   0.5000         1.0   2.0    0.2500         inf  \n",
       "14                 0.5   0.5000         1.0   2.0    0.2500         inf  \n",
       "15                 0.5   0.3333         1.0   2.0    0.1667         inf  \n",
       "16                 0.5   0.3333         1.0   2.0    0.1667         inf  \n",
       "17                 0.5   0.3333         1.0   2.0    0.1667         inf  \n",
       "18                 0.5   0.3333         1.0   2.0    0.1667         inf  \n",
       "19                 0.5   0.3333         1.0   2.0    0.1667         inf  \n",
       "20                 0.5   0.3333         1.0   2.0    0.1667         inf  \n",
       "21                 0.5   0.3333         1.0   2.0    0.1667         inf  \n",
       "22                 0.5   0.3333         1.0   2.0    0.1667         inf  \n",
       "23                 0.5   0.3333         1.0   2.0    0.1667         inf  \n",
       "24                 0.5   0.3333         1.0   2.0    0.1667         inf  \n",
       "25                 0.5   0.3333         1.0   2.0    0.1667         inf  \n",
       "26                 0.5   0.3333         1.0   2.0    0.1667         inf  \n",
       "27                 0.5   0.3333         1.0   2.0    0.1667         inf  \n",
       "28                 0.5   0.3333         1.0   2.0    0.1667         inf  \n",
       "29                 0.5   0.3333         1.0   2.0    0.1667         inf  \n",
       "30                 0.5   0.3333         1.0   2.0    0.1667         inf  "
      ],
      "text/html": "<div>\n<style scoped>\n    .dataframe tbody tr th:only-of-type {\n        vertical-align: middle;\n    }\n\n    .dataframe tbody tr th {\n        vertical-align: top;\n    }\n\n    .dataframe thead th {\n        text-align: right;\n    }\n</style>\n<table border=\"1\" class=\"dataframe\">\n  <thead>\n    <tr style=\"text-align: right;\">\n      <th></th>\n      <th>antecedents</th>\n      <th>consequents</th>\n      <th>antecedent support</th>\n      <th>consequent support</th>\n      <th>support</th>\n      <th>confidence</th>\n      <th>lift</th>\n      <th>leverage</th>\n      <th>conviction</th>\n    </tr>\n  </thead>\n  <tbody>\n    <tr>\n      <th>0</th>\n      <td>(laptop)</td>\n      <td>(keyboard)</td>\n      <td>0.5000</td>\n      <td>0.5</td>\n      <td>0.5000</td>\n      <td>1.0</td>\n      <td>2.0</td>\n      <td>0.2500</td>\n      <td>inf</td>\n    </tr>\n    <tr>\n      <th>1</th>\n      <td>(keyboard)</td>\n      <td>(laptop)</td>\n      <td>0.5000</td>\n      <td>0.5</td>\n      <td>0.5000</td>\n      <td>1.0</td>\n      <td>2.0</td>\n      <td>0.2500</td>\n      <td>inf</td>\n    </tr>\n    <tr>\n      <th>2</th>\n      <td>(mouse)</td>\n      <td>(keyboard)</td>\n      <td>0.5000</td>\n      <td>0.5</td>\n      <td>0.5000</td>\n      <td>1.0</td>\n      <td>2.0</td>\n      <td>0.2500</td>\n      <td>inf</td>\n    </tr>\n    <tr>\n      <th>3</th>\n      <td>(keyboard)</td>\n      <td>(mouse)</td>\n      <td>0.5000</td>\n      <td>0.5</td>\n      <td>0.5000</td>\n      <td>1.0</td>\n      <td>2.0</td>\n      <td>0.2500</td>\n      <td>inf</td>\n    </tr>\n    <tr>\n      <th>4</th>\n      <td>(tv)</td>\n      <td>(keyboard)</td>\n      <td>0.3333</td>\n      <td>0.5</td>\n      <td>0.3333</td>\n      <td>1.0</td>\n      <td>2.0</td>\n      <td>0.1667</td>\n      <td>inf</td>\n    </tr>\n    <tr>\n      <th>5</th>\n      <td>(laptop)</td>\n      <td>(mouse)</td>\n      <td>0.5000</td>\n      <td>0.5</td>\n      <td>0.5000</td>\n      <td>1.0</td>\n      <td>2.0</td>\n      <td>0.2500</td>\n      <td>inf</td>\n    </tr>\n    <tr>\n      <th>6</th>\n      <td>(mouse)</td>\n      <td>(laptop)</td>\n      <td>0.5000</td>\n      <td>0.5</td>\n      <td>0.5000</td>\n      <td>1.0</td>\n      <td>2.0</td>\n      <td>0.2500</td>\n      <td>inf</td>\n    </tr>\n    <tr>\n      <th>7</th>\n      <td>(tv)</td>\n      <td>(laptop)</td>\n      <td>0.3333</td>\n      <td>0.5</td>\n      <td>0.3333</td>\n      <td>1.0</td>\n      <td>2.0</td>\n      <td>0.1667</td>\n      <td>inf</td>\n    </tr>\n    <tr>\n      <th>8</th>\n      <td>(tv)</td>\n      <td>(mouse)</td>\n      <td>0.3333</td>\n      <td>0.5</td>\n      <td>0.3333</td>\n      <td>1.0</td>\n      <td>2.0</td>\n      <td>0.1667</td>\n      <td>inf</td>\n    </tr>\n    <tr>\n      <th>9</th>\n      <td>(laptop, mouse)</td>\n      <td>(keyboard)</td>\n      <td>0.5000</td>\n      <td>0.5</td>\n      <td>0.5000</td>\n      <td>1.0</td>\n      <td>2.0</td>\n      <td>0.2500</td>\n      <td>inf</td>\n    </tr>\n    <tr>\n      <th>10</th>\n      <td>(laptop, keyboard)</td>\n      <td>(mouse)</td>\n      <td>0.5000</td>\n      <td>0.5</td>\n      <td>0.5000</td>\n      <td>1.0</td>\n      <td>2.0</td>\n      <td>0.2500</td>\n      <td>inf</td>\n    </tr>\n    <tr>\n      <th>11</th>\n      <td>(mouse, keyboard)</td>\n      <td>(laptop)</td>\n      <td>0.5000</td>\n      <td>0.5</td>\n      <td>0.5000</td>\n      <td>1.0</td>\n      <td>2.0</td>\n      <td>0.2500</td>\n      <td>inf</td>\n    </tr>\n    <tr>\n      <th>12</th>\n      <td>(laptop)</td>\n      <td>(mouse, keyboard)</td>\n      <td>0.5000</td>\n      <td>0.5</td>\n      <td>0.5000</td>\n      <td>1.0</td>\n      <td>2.0</td>\n      <td>0.2500</td>\n      <td>inf</td>\n    </tr>\n    <tr>\n      <th>13</th>\n      <td>(mouse)</td>\n      <td>(laptop, keyboard)</td>\n      <td>0.5000</td>\n      <td>0.5</td>\n      <td>0.5000</td>\n      <td>1.0</td>\n      <td>2.0</td>\n      <td>0.2500</td>\n      <td>inf</td>\n    </tr>\n    <tr>\n      <th>14</th>\n      <td>(keyboard)</td>\n      <td>(laptop, mouse)</td>\n      <td>0.5000</td>\n      <td>0.5</td>\n      <td>0.5000</td>\n      <td>1.0</td>\n      <td>2.0</td>\n      <td>0.2500</td>\n      <td>inf</td>\n    </tr>\n    <tr>\n      <th>15</th>\n      <td>(laptop, tv)</td>\n      <td>(keyboard)</td>\n      <td>0.3333</td>\n      <td>0.5</td>\n      <td>0.3333</td>\n      <td>1.0</td>\n      <td>2.0</td>\n      <td>0.1667</td>\n      <td>inf</td>\n    </tr>\n    <tr>\n      <th>16</th>\n      <td>(tv, keyboard)</td>\n      <td>(laptop)</td>\n      <td>0.3333</td>\n      <td>0.5</td>\n      <td>0.3333</td>\n      <td>1.0</td>\n      <td>2.0</td>\n      <td>0.1667</td>\n      <td>inf</td>\n    </tr>\n    <tr>\n      <th>17</th>\n      <td>(tv)</td>\n      <td>(laptop, keyboard)</td>\n      <td>0.3333</td>\n      <td>0.5</td>\n      <td>0.3333</td>\n      <td>1.0</td>\n      <td>2.0</td>\n      <td>0.1667</td>\n      <td>inf</td>\n    </tr>\n    <tr>\n      <th>18</th>\n      <td>(tv, mouse)</td>\n      <td>(keyboard)</td>\n      <td>0.3333</td>\n      <td>0.5</td>\n      <td>0.3333</td>\n      <td>1.0</td>\n      <td>2.0</td>\n      <td>0.1667</td>\n      <td>inf</td>\n    </tr>\n    <tr>\n      <th>19</th>\n      <td>(tv, keyboard)</td>\n      <td>(mouse)</td>\n      <td>0.3333</td>\n      <td>0.5</td>\n      <td>0.3333</td>\n      <td>1.0</td>\n      <td>2.0</td>\n      <td>0.1667</td>\n      <td>inf</td>\n    </tr>\n    <tr>\n      <th>20</th>\n      <td>(tv)</td>\n      <td>(mouse, keyboard)</td>\n      <td>0.3333</td>\n      <td>0.5</td>\n      <td>0.3333</td>\n      <td>1.0</td>\n      <td>2.0</td>\n      <td>0.1667</td>\n      <td>inf</td>\n    </tr>\n    <tr>\n      <th>21</th>\n      <td>(laptop, tv)</td>\n      <td>(mouse)</td>\n      <td>0.3333</td>\n      <td>0.5</td>\n      <td>0.3333</td>\n      <td>1.0</td>\n      <td>2.0</td>\n      <td>0.1667</td>\n      <td>inf</td>\n    </tr>\n    <tr>\n      <th>22</th>\n      <td>(tv, mouse)</td>\n      <td>(laptop)</td>\n      <td>0.3333</td>\n      <td>0.5</td>\n      <td>0.3333</td>\n      <td>1.0</td>\n      <td>2.0</td>\n      <td>0.1667</td>\n      <td>inf</td>\n    </tr>\n    <tr>\n      <th>23</th>\n      <td>(tv)</td>\n      <td>(laptop, mouse)</td>\n      <td>0.3333</td>\n      <td>0.5</td>\n      <td>0.3333</td>\n      <td>1.0</td>\n      <td>2.0</td>\n      <td>0.1667</td>\n      <td>inf</td>\n    </tr>\n    <tr>\n      <th>24</th>\n      <td>(laptop, tv, mouse)</td>\n      <td>(keyboard)</td>\n      <td>0.3333</td>\n      <td>0.5</td>\n      <td>0.3333</td>\n      <td>1.0</td>\n      <td>2.0</td>\n      <td>0.1667</td>\n      <td>inf</td>\n    </tr>\n    <tr>\n      <th>25</th>\n      <td>(laptop, tv, keyboard)</td>\n      <td>(mouse)</td>\n      <td>0.3333</td>\n      <td>0.5</td>\n      <td>0.3333</td>\n      <td>1.0</td>\n      <td>2.0</td>\n      <td>0.1667</td>\n      <td>inf</td>\n    </tr>\n    <tr>\n      <th>26</th>\n      <td>(tv, mouse, keyboard)</td>\n      <td>(laptop)</td>\n      <td>0.3333</td>\n      <td>0.5</td>\n      <td>0.3333</td>\n      <td>1.0</td>\n      <td>2.0</td>\n      <td>0.1667</td>\n      <td>inf</td>\n    </tr>\n    <tr>\n      <th>27</th>\n      <td>(laptop, tv)</td>\n      <td>(mouse, keyboard)</td>\n      <td>0.3333</td>\n      <td>0.5</td>\n      <td>0.3333</td>\n      <td>1.0</td>\n      <td>2.0</td>\n      <td>0.1667</td>\n      <td>inf</td>\n    </tr>\n    <tr>\n      <th>28</th>\n      <td>(tv, mouse)</td>\n      <td>(laptop, keyboard)</td>\n      <td>0.3333</td>\n      <td>0.5</td>\n      <td>0.3333</td>\n      <td>1.0</td>\n      <td>2.0</td>\n      <td>0.1667</td>\n      <td>inf</td>\n    </tr>\n    <tr>\n      <th>29</th>\n      <td>(tv, keyboard)</td>\n      <td>(laptop, mouse)</td>\n      <td>0.3333</td>\n      <td>0.5</td>\n      <td>0.3333</td>\n      <td>1.0</td>\n      <td>2.0</td>\n      <td>0.1667</td>\n      <td>inf</td>\n    </tr>\n    <tr>\n      <th>30</th>\n      <td>(tv)</td>\n      <td>(laptop, mouse, keyboard)</td>\n      <td>0.3333</td>\n      <td>0.5</td>\n      <td>0.3333</td>\n      <td>1.0</td>\n      <td>2.0</td>\n      <td>0.1667</td>\n      <td>inf</td>\n    </tr>\n  </tbody>\n</table>\n</div>"
     },
     "metadata": {},
     "execution_count": 9
    }
   ],
   "source": [
    "round_df(association_rules_df, decimals=4)"
   ]
  }
 ],
 "metadata": {
  "kernelspec": {
   "display_name": "Python 3",
   "language": "python",
   "name": "python3"
  },
  "language_info": {
   "codemirror_mode": {
    "name": "ipython",
    "version": 3
   },
   "file_extension": ".py",
   "mimetype": "text/x-python",
   "name": "python",
   "nbconvert_exporter": "python",
   "pygments_lexer": "ipython3",
   "version": "3.8.5"
  }
 },
 "nbformat": 4,
 "nbformat_minor": 2
}