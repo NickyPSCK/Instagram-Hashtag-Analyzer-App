{
 "cells": [
  {
   "source": [
    "# Example of Class YOLOPrediction\n"
   ],
   "cell_type": "markdown",
   "metadata": {}
  },
  {
   "cell_type": "code",
   "execution_count": 1,
   "metadata": {},
   "outputs": [
    {
     "output_type": "execute_result",
     "data": {
      "text/plain": [
       "<config_loader.ConfigLoader at 0x1b37a026610>"
      ]
     },
     "metadata": {},
     "execution_count": 1
    }
   ],
   "source": [
    "from util.init_sys import InitSystem\n",
    "InitSystem().init()"
   ]
  },
  {
   "cell_type": "code",
   "execution_count": 2,
   "metadata": {},
   "outputs": [],
   "source": [
    "from predictor import YOLOPrediction"
   ]
  },
  {
   "cell_type": "code",
   "execution_count": 3,
   "metadata": {},
   "outputs": [],
   "source": [
    "import json\n",
    "with open('config/class.json', 'r') as f:\n",
    "    class_label = json.loads(f.read())"
   ]
  },
  {
   "cell_type": "code",
   "execution_count": 4,
   "metadata": {},
   "outputs": [],
   "source": [
    "odp = YOLOPrediction(\n",
    "                                    model_path='model/YOLO-COCO/yolov4.cfg',\n",
    "                                    model_weight_path='model/YOLO-COCO/yolov4.weights',\n",
    "                                    class_label=class_label['object_detection_label'] \n",
    "                                    )\n",
    "prediction, list_of_image_path = odp.predict_form_path('static/downloads/hashtag/demo/demo2/*.jpg')"
   ]
  },
  {
   "cell_type": "code",
   "execution_count": 5,
   "metadata": {},
   "outputs": [
    {
     "output_type": "stream",
     "name": "stdout",
     "text": [
      "[('mouse', 'laptop', 'keyboard', 'cup', 'tv', 'laptop', 'keyboard', 'mouse'), ('tie', 'person', 'donut'), (), ('mouse', 'keyboard', 'laptop', 'tv', 'chair'), ('dog',), ('dog',)]\n"
     ]
    }
   ],
   "source": [
    "print(odp.decode_predictions(prediction))"
   ]
  }
 ],
 "metadata": {
  "kernelspec": {
   "display_name": "Python 3",
   "language": "python",
   "name": "python3"
  },
  "language_info": {
   "codemirror_mode": {
    "name": "ipython",
    "version": 3
   },
   "file_extension": ".py",
   "mimetype": "text/x-python",
   "name": "python",
   "nbconvert_exporter": "python",
   "pygments_lexer": "ipython3",
   "version": "3.8.5"
  }
 },
 "nbformat": 4,
 "nbformat_minor": 2
}