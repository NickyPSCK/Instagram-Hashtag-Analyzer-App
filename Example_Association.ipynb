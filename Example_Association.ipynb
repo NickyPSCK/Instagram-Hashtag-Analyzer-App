{
 "cells": [
  {
   "cell_type": "markdown",
   "id": "abroad-springer",
   "metadata": {},
   "source": [
    "# Association Rules Generation from Frequent Itemsets"
   ]
  },
  {
   "cell_type": "markdown",
   "id": "royal-produce",
   "metadata": {},
   "source": [
    "Reference\n",
    "\n",
    "http://rasbt.github.io/mlxtend/user_guide/frequent_patterns/association_rules/"
   ]
  },
  {
   "cell_type": "code",
   "execution_count": 1,
   "metadata": {},
   "outputs": [],
   "source": [
    "from util.utility import round_df\n",
    "from association_analyzer import calculate_support, calculate_association"
   ]
  },
  {
   "cell_type": "code",
   "execution_count": 2,
   "metadata": {},
   "outputs": [],
   "source": [
    "dataset = [['Milk', 'Onion', 'Nutmeg', 'Kidney Beans', 'Eggs', 'Yogurt'],\n",
    "           ['Dill', 'Onion', 'Nutmeg', 'Kidney Beans', 'Eggs', 'Yogurt'],\n",
    "           ['Milk', 'Apple', 'Kidney Beans', 'Eggs'],\n",
    "           ['Milk', 'Unicorn', 'Corn', 'Kidney Beans', 'Yogurt'],\n",
    "           ['Corn', 'Onion', 'Onion', 'Kidney Beans', 'Ice cream', 'Eggs']]"
   ]
  },
  {
   "cell_type": "code",
   "execution_count": 3,
   "id": "logical-breach",
   "metadata": {},
   "outputs": [
    {
     "output_type": "execute_result",
     "data": {
      "text/plain": [
       "          Object  Number of Object  Number of Basket  Support: Object  \\\n",
       "0           Eggs                 4                 4           0.1538   \n",
       "1   Kidney Beans                 5                 5           0.1923   \n",
       "2         Nutmeg                 2                 2           0.0769   \n",
       "3           Milk                 3                 3           0.1154   \n",
       "4          Onion                 3                 4           0.1154   \n",
       "5         Yogurt                 3                 3           0.1154   \n",
       "6           Dill                 1                 1           0.0385   \n",
       "7          Apple                 1                 1           0.0385   \n",
       "8        Unicorn                 1                 1           0.0385   \n",
       "9           Corn                 2                 2           0.0769   \n",
       "10     Ice cream                 1                 1           0.0385   \n",
       "\n",
       "    Support: Basket  \n",
       "0               0.8  \n",
       "1               1.0  \n",
       "2               0.4  \n",
       "3               0.6  \n",
       "4               0.8  \n",
       "5               0.6  \n",
       "6               0.2  \n",
       "7               0.2  \n",
       "8               0.2  \n",
       "9               0.4  \n",
       "10              0.2  "
      ],
      "text/html": "<div>\n<style scoped>\n    .dataframe tbody tr th:only-of-type {\n        vertical-align: middle;\n    }\n\n    .dataframe tbody tr th {\n        vertical-align: top;\n    }\n\n    .dataframe thead th {\n        text-align: right;\n    }\n</style>\n<table border=\"1\" class=\"dataframe\">\n  <thead>\n    <tr style=\"text-align: right;\">\n      <th></th>\n      <th>Object</th>\n      <th>Number of Object</th>\n      <th>Number of Basket</th>\n      <th>Support: Object</th>\n      <th>Support: Basket</th>\n    </tr>\n  </thead>\n  <tbody>\n    <tr>\n      <th>0</th>\n      <td>Eggs</td>\n      <td>4</td>\n      <td>4</td>\n      <td>0.1538</td>\n      <td>0.8</td>\n    </tr>\n    <tr>\n      <th>1</th>\n      <td>Kidney Beans</td>\n      <td>5</td>\n      <td>5</td>\n      <td>0.1923</td>\n      <td>1.0</td>\n    </tr>\n    <tr>\n      <th>2</th>\n      <td>Nutmeg</td>\n      <td>2</td>\n      <td>2</td>\n      <td>0.0769</td>\n      <td>0.4</td>\n    </tr>\n    <tr>\n      <th>3</th>\n      <td>Milk</td>\n      <td>3</td>\n      <td>3</td>\n      <td>0.1154</td>\n      <td>0.6</td>\n    </tr>\n    <tr>\n      <th>4</th>\n      <td>Onion</td>\n      <td>3</td>\n      <td>4</td>\n      <td>0.1154</td>\n      <td>0.8</td>\n    </tr>\n    <tr>\n      <th>5</th>\n      <td>Yogurt</td>\n      <td>3</td>\n      <td>3</td>\n      <td>0.1154</td>\n      <td>0.6</td>\n    </tr>\n    <tr>\n      <th>6</th>\n      <td>Dill</td>\n      <td>1</td>\n      <td>1</td>\n      <td>0.0385</td>\n      <td>0.2</td>\n    </tr>\n    <tr>\n      <th>7</th>\n      <td>Apple</td>\n      <td>1</td>\n      <td>1</td>\n      <td>0.0385</td>\n      <td>0.2</td>\n    </tr>\n    <tr>\n      <th>8</th>\n      <td>Unicorn</td>\n      <td>1</td>\n      <td>1</td>\n      <td>0.0385</td>\n      <td>0.2</td>\n    </tr>\n    <tr>\n      <th>9</th>\n      <td>Corn</td>\n      <td>2</td>\n      <td>2</td>\n      <td>0.0769</td>\n      <td>0.4</td>\n    </tr>\n    <tr>\n      <th>10</th>\n      <td>Ice cream</td>\n      <td>1</td>\n      <td>1</td>\n      <td>0.0385</td>\n      <td>0.2</td>\n    </tr>\n  </tbody>\n</table>\n</div>"
     },
     "metadata": {},
     "execution_count": 3
    }
   ],
   "source": [
    "df = calculate_support(dataset)\n",
    "round_df(df, decimals=4)"
   ]
  },
  {
   "cell_type": "code",
   "execution_count": 4,
   "id": "chronic-webmaster",
   "metadata": {},
   "outputs": [],
   "source": [
    "frequent_itemsets, association_rules_df = calculate_association(dataset)"
   ]
  },
  {
   "cell_type": "code",
   "execution_count": 5,
   "id": "liberal-fence",
   "metadata": {},
   "outputs": [
    {
     "output_type": "execute_result",
     "data": {
      "text/plain": [
       "     support                                           itemsets\n",
       "0        0.2                                            (Apple)\n",
       "1        0.4                                             (Corn)\n",
       "2        0.2                                             (Dill)\n",
       "3        0.8                                             (Eggs)\n",
       "4        0.2                                        (Ice cream)\n",
       "..       ...                                                ...\n",
       "144      0.4        (Eggs, Kidney Beans, Nutmeg, Onion, Yogurt)\n",
       "145      0.2                (Eggs, Nutmeg, Milk, Onion, Yogurt)\n",
       "146      0.2        (Kidney Beans, Nutmeg, Milk, Onion, Yogurt)\n",
       "147      0.2  (Eggs, Kidney Beans, Nutmeg, Dill, Onion, Yogurt)\n",
       "148      0.2  (Eggs, Kidney Beans, Nutmeg, Milk, Onion, Yogurt)\n",
       "\n",
       "[149 rows x 2 columns]"
      ],
      "text/html": "<div>\n<style scoped>\n    .dataframe tbody tr th:only-of-type {\n        vertical-align: middle;\n    }\n\n    .dataframe tbody tr th {\n        vertical-align: top;\n    }\n\n    .dataframe thead th {\n        text-align: right;\n    }\n</style>\n<table border=\"1\" class=\"dataframe\">\n  <thead>\n    <tr style=\"text-align: right;\">\n      <th></th>\n      <th>support</th>\n      <th>itemsets</th>\n    </tr>\n  </thead>\n  <tbody>\n    <tr>\n      <th>0</th>\n      <td>0.2</td>\n      <td>(Apple)</td>\n    </tr>\n    <tr>\n      <th>1</th>\n      <td>0.4</td>\n      <td>(Corn)</td>\n    </tr>\n    <tr>\n      <th>2</th>\n      <td>0.2</td>\n      <td>(Dill)</td>\n    </tr>\n    <tr>\n      <th>3</th>\n      <td>0.8</td>\n      <td>(Eggs)</td>\n    </tr>\n    <tr>\n      <th>4</th>\n      <td>0.2</td>\n      <td>(Ice cream)</td>\n    </tr>\n    <tr>\n      <th>...</th>\n      <td>...</td>\n      <td>...</td>\n    </tr>\n    <tr>\n      <th>144</th>\n      <td>0.4</td>\n      <td>(Eggs, Kidney Beans, Nutmeg, Onion, Yogurt)</td>\n    </tr>\n    <tr>\n      <th>145</th>\n      <td>0.2</td>\n      <td>(Eggs, Nutmeg, Milk, Onion, Yogurt)</td>\n    </tr>\n    <tr>\n      <th>146</th>\n      <td>0.2</td>\n      <td>(Kidney Beans, Nutmeg, Milk, Onion, Yogurt)</td>\n    </tr>\n    <tr>\n      <th>147</th>\n      <td>0.2</td>\n      <td>(Eggs, Kidney Beans, Nutmeg, Dill, Onion, Yogurt)</td>\n    </tr>\n    <tr>\n      <th>148</th>\n      <td>0.2</td>\n      <td>(Eggs, Kidney Beans, Nutmeg, Milk, Onion, Yogurt)</td>\n    </tr>\n  </tbody>\n</table>\n<p>149 rows × 2 columns</p>\n</div>"
     },
     "metadata": {},
     "execution_count": 5
    }
   ],
   "source": [
    "round_df(frequent_itemsets, decimals=4)"
   ]
  },
  {
   "cell_type": "code",
   "execution_count": 6,
   "id": "vital-japanese",
   "metadata": {
    "scrolled": false
   },
   "outputs": [
    {
     "output_type": "execute_result",
     "data": {
      "text/plain": [
       "                antecedents                           consequents  \\\n",
       "0                   (Apple)                                (Eggs)   \n",
       "1                   (Apple)                        (Kidney Beans)   \n",
       "2                   (Apple)                                (Milk)   \n",
       "3               (Ice cream)                                (Corn)   \n",
       "4                    (Corn)                        (Kidney Beans)   \n",
       "..                      ...                                   ...   \n",
       "628   (Onion, Milk, Nutmeg)          (Eggs, Kidney Beans, Yogurt)   \n",
       "629  (Yogurt, Milk, Nutmeg)           (Eggs, Kidney Beans, Onion)   \n",
       "630   (Onion, Yogurt, Milk)          (Eggs, Kidney Beans, Nutmeg)   \n",
       "631          (Milk, Nutmeg)   (Eggs, Kidney Beans, Onion, Yogurt)   \n",
       "632           (Onion, Milk)  (Eggs, Kidney Beans, Yogurt, Nutmeg)   \n",
       "\n",
       "     antecedent support  consequent support  support  confidence    lift  \\\n",
       "0                   0.2                 0.8      0.2         1.0  1.2500   \n",
       "1                   0.2                 1.0      0.2         1.0  1.0000   \n",
       "2                   0.2                 0.6      0.2         1.0  1.6667   \n",
       "3                   0.2                 0.4      0.2         1.0  2.5000   \n",
       "4                   0.4                 1.0      0.4         1.0  1.0000   \n",
       "..                  ...                 ...      ...         ...     ...   \n",
       "628                 0.2                 0.4      0.2         1.0  2.5000   \n",
       "629                 0.2                 0.6      0.2         1.0  1.6667   \n",
       "630                 0.2                 0.4      0.2         1.0  2.5000   \n",
       "631                 0.2                 0.4      0.2         1.0  2.5000   \n",
       "632                 0.2                 0.4      0.2         1.0  2.5000   \n",
       "\n",
       "     leverage  conviction  \n",
       "0        0.04         inf  \n",
       "1        0.00         inf  \n",
       "2        0.08         inf  \n",
       "3        0.12         inf  \n",
       "4        0.00         inf  \n",
       "..        ...         ...  \n",
       "628      0.12         inf  \n",
       "629      0.08         inf  \n",
       "630      0.12         inf  \n",
       "631      0.12         inf  \n",
       "632      0.12         inf  \n",
       "\n",
       "[633 rows x 9 columns]"
      ],
      "text/html": "<div>\n<style scoped>\n    .dataframe tbody tr th:only-of-type {\n        vertical-align: middle;\n    }\n\n    .dataframe tbody tr th {\n        vertical-align: top;\n    }\n\n    .dataframe thead th {\n        text-align: right;\n    }\n</style>\n<table border=\"1\" class=\"dataframe\">\n  <thead>\n    <tr style=\"text-align: right;\">\n      <th></th>\n      <th>antecedents</th>\n      <th>consequents</th>\n      <th>antecedent support</th>\n      <th>consequent support</th>\n      <th>support</th>\n      <th>confidence</th>\n      <th>lift</th>\n      <th>leverage</th>\n      <th>conviction</th>\n    </tr>\n  </thead>\n  <tbody>\n    <tr>\n      <th>0</th>\n      <td>(Apple)</td>\n      <td>(Eggs)</td>\n      <td>0.2</td>\n      <td>0.8</td>\n      <td>0.2</td>\n      <td>1.0</td>\n      <td>1.2500</td>\n      <td>0.04</td>\n      <td>inf</td>\n    </tr>\n    <tr>\n      <th>1</th>\n      <td>(Apple)</td>\n      <td>(Kidney Beans)</td>\n      <td>0.2</td>\n      <td>1.0</td>\n      <td>0.2</td>\n      <td>1.0</td>\n      <td>1.0000</td>\n      <td>0.00</td>\n      <td>inf</td>\n    </tr>\n    <tr>\n      <th>2</th>\n      <td>(Apple)</td>\n      <td>(Milk)</td>\n      <td>0.2</td>\n      <td>0.6</td>\n      <td>0.2</td>\n      <td>1.0</td>\n      <td>1.6667</td>\n      <td>0.08</td>\n      <td>inf</td>\n    </tr>\n    <tr>\n      <th>3</th>\n      <td>(Ice cream)</td>\n      <td>(Corn)</td>\n      <td>0.2</td>\n      <td>0.4</td>\n      <td>0.2</td>\n      <td>1.0</td>\n      <td>2.5000</td>\n      <td>0.12</td>\n      <td>inf</td>\n    </tr>\n    <tr>\n      <th>4</th>\n      <td>(Corn)</td>\n      <td>(Kidney Beans)</td>\n      <td>0.4</td>\n      <td>1.0</td>\n      <td>0.4</td>\n      <td>1.0</td>\n      <td>1.0000</td>\n      <td>0.00</td>\n      <td>inf</td>\n    </tr>\n    <tr>\n      <th>...</th>\n      <td>...</td>\n      <td>...</td>\n      <td>...</td>\n      <td>...</td>\n      <td>...</td>\n      <td>...</td>\n      <td>...</td>\n      <td>...</td>\n      <td>...</td>\n    </tr>\n    <tr>\n      <th>628</th>\n      <td>(Onion, Milk, Nutmeg)</td>\n      <td>(Eggs, Kidney Beans, Yogurt)</td>\n      <td>0.2</td>\n      <td>0.4</td>\n      <td>0.2</td>\n      <td>1.0</td>\n      <td>2.5000</td>\n      <td>0.12</td>\n      <td>inf</td>\n    </tr>\n    <tr>\n      <th>629</th>\n      <td>(Yogurt, Milk, Nutmeg)</td>\n      <td>(Eggs, Kidney Beans, Onion)</td>\n      <td>0.2</td>\n      <td>0.6</td>\n      <td>0.2</td>\n      <td>1.0</td>\n      <td>1.6667</td>\n      <td>0.08</td>\n      <td>inf</td>\n    </tr>\n    <tr>\n      <th>630</th>\n      <td>(Onion, Yogurt, Milk)</td>\n      <td>(Eggs, Kidney Beans, Nutmeg)</td>\n      <td>0.2</td>\n      <td>0.4</td>\n      <td>0.2</td>\n      <td>1.0</td>\n      <td>2.5000</td>\n      <td>0.12</td>\n      <td>inf</td>\n    </tr>\n    <tr>\n      <th>631</th>\n      <td>(Milk, Nutmeg)</td>\n      <td>(Eggs, Kidney Beans, Onion, Yogurt)</td>\n      <td>0.2</td>\n      <td>0.4</td>\n      <td>0.2</td>\n      <td>1.0</td>\n      <td>2.5000</td>\n      <td>0.12</td>\n      <td>inf</td>\n    </tr>\n    <tr>\n      <th>632</th>\n      <td>(Onion, Milk)</td>\n      <td>(Eggs, Kidney Beans, Yogurt, Nutmeg)</td>\n      <td>0.2</td>\n      <td>0.4</td>\n      <td>0.2</td>\n      <td>1.0</td>\n      <td>2.5000</td>\n      <td>0.12</td>\n      <td>inf</td>\n    </tr>\n  </tbody>\n</table>\n<p>633 rows × 9 columns</p>\n</div>"
     },
     "metadata": {},
     "execution_count": 6
    }
   ],
   "source": [
    "round_df(association_rules_df, decimals=4)"
   ]
  }
 ],
 "metadata": {
  "kernelspec": {
   "display_name": "Python 3",
   "language": "python",
   "name": "python3"
  },
  "language_info": {
   "codemirror_mode": {
    "name": "ipython",
    "version": 3
   },
   "file_extension": ".py",
   "mimetype": "text/x-python",
   "name": "python",
   "nbconvert_exporter": "python",
   "pygments_lexer": "ipython3",
   "version": "3.8.5"
  }
 },
 "nbformat": 4,
 "nbformat_minor": 5
}