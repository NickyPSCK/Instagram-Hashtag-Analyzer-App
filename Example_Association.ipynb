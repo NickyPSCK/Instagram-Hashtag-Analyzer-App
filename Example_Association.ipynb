{
 "cells": [
  {
   "cell_type": "markdown",
   "id": "abroad-springer",
   "metadata": {},
   "source": [
    "# Association Rules Generation from Frequent Itemsets"
   ]
  },
  {
   "cell_type": "markdown",
   "id": "royal-produce",
   "metadata": {},
   "source": [
    "Reference\n",
    "\n",
    "http://rasbt.github.io/mlxtend/user_guide/frequent_patterns/association_rules/"
   ]
  },
  {
   "cell_type": "code",
   "execution_count": 1,
   "metadata": {},
   "outputs": [],
   "source": [
    "from util.utility import round_df\n",
    "from association_analyzer import calculate_support, calculate_association"
   ]
  },
  {
   "cell_type": "code",
   "execution_count": 2,
   "metadata": {},
   "outputs": [],
   "source": [
    "dataset = [['Milk', 'Onion', 'Nutmeg', 'Kidney Beans', 'Eggs', 'Yogurt'],\n",
    "           ['Dill', 'Onion', 'Nutmeg', 'Kidney Beans', 'Eggs', 'Yogurt'],\n",
    "           ['Milk', 'Apple', 'Kidney Beans', 'Eggs'],\n",
    "           ['Milk', 'Unicorn', 'Corn', 'Kidney Beans', 'Yogurt'],\n",
    "           ['Corn', 'Onion', 'Onion', 'Kidney Beans', 'Ice cream', 'Eggs']]\n",
    "# dataset = []"
   ]
  },
  {
   "cell_type": "code",
   "execution_count": 3,
   "id": "logical-breach",
   "metadata": {},
   "outputs": [
    {
     "output_type": "execute_result",
     "data": {
      "text/plain": [
       "          Object  Number of Object  Number of Basket  Support: Object  \\\n",
       "0         Nutmeg                 2                 2           0.0769   \n",
       "1           Eggs                 4                 4           0.1538   \n",
       "2           Milk                 3                 3           0.1154   \n",
       "3   Kidney Beans                 5                 5           0.1923   \n",
       "4         Yogurt                 3                 3           0.1154   \n",
       "5          Onion                 3                 4           0.1154   \n",
       "6           Dill                 1                 1           0.0385   \n",
       "7          Apple                 1                 1           0.0385   \n",
       "8        Unicorn                 1                 1           0.0385   \n",
       "9           Corn                 2                 2           0.0769   \n",
       "10     Ice cream                 1                 1           0.0385   \n",
       "\n",
       "    Support: Basket  \n",
       "0               0.4  \n",
       "1               0.8  \n",
       "2               0.6  \n",
       "3               1.0  \n",
       "4               0.6  \n",
       "5               0.8  \n",
       "6               0.2  \n",
       "7               0.2  \n",
       "8               0.2  \n",
       "9               0.4  \n",
       "10              0.2  "
      ],
      "text/html": "<div>\n<style scoped>\n    .dataframe tbody tr th:only-of-type {\n        vertical-align: middle;\n    }\n\n    .dataframe tbody tr th {\n        vertical-align: top;\n    }\n\n    .dataframe thead th {\n        text-align: right;\n    }\n</style>\n<table border=\"1\" class=\"dataframe\">\n  <thead>\n    <tr style=\"text-align: right;\">\n      <th></th>\n      <th>Object</th>\n      <th>Number of Object</th>\n      <th>Number of Basket</th>\n      <th>Support: Object</th>\n      <th>Support: Basket</th>\n    </tr>\n  </thead>\n  <tbody>\n    <tr>\n      <th>0</th>\n      <td>Nutmeg</td>\n      <td>2</td>\n      <td>2</td>\n      <td>0.0769</td>\n      <td>0.4</td>\n    </tr>\n    <tr>\n      <th>1</th>\n      <td>Eggs</td>\n      <td>4</td>\n      <td>4</td>\n      <td>0.1538</td>\n      <td>0.8</td>\n    </tr>\n    <tr>\n      <th>2</th>\n      <td>Milk</td>\n      <td>3</td>\n      <td>3</td>\n      <td>0.1154</td>\n      <td>0.6</td>\n    </tr>\n    <tr>\n      <th>3</th>\n      <td>Kidney Beans</td>\n      <td>5</td>\n      <td>5</td>\n      <td>0.1923</td>\n      <td>1.0</td>\n    </tr>\n    <tr>\n      <th>4</th>\n      <td>Yogurt</td>\n      <td>3</td>\n      <td>3</td>\n      <td>0.1154</td>\n      <td>0.6</td>\n    </tr>\n    <tr>\n      <th>5</th>\n      <td>Onion</td>\n      <td>3</td>\n      <td>4</td>\n      <td>0.1154</td>\n      <td>0.8</td>\n    </tr>\n    <tr>\n      <th>6</th>\n      <td>Dill</td>\n      <td>1</td>\n      <td>1</td>\n      <td>0.0385</td>\n      <td>0.2</td>\n    </tr>\n    <tr>\n      <th>7</th>\n      <td>Apple</td>\n      <td>1</td>\n      <td>1</td>\n      <td>0.0385</td>\n      <td>0.2</td>\n    </tr>\n    <tr>\n      <th>8</th>\n      <td>Unicorn</td>\n      <td>1</td>\n      <td>1</td>\n      <td>0.0385</td>\n      <td>0.2</td>\n    </tr>\n    <tr>\n      <th>9</th>\n      <td>Corn</td>\n      <td>2</td>\n      <td>2</td>\n      <td>0.0769</td>\n      <td>0.4</td>\n    </tr>\n    <tr>\n      <th>10</th>\n      <td>Ice cream</td>\n      <td>1</td>\n      <td>1</td>\n      <td>0.0385</td>\n      <td>0.2</td>\n    </tr>\n  </tbody>\n</table>\n</div>"
     },
     "metadata": {},
     "execution_count": 3
    }
   ],
   "source": [
    "df = calculate_support(dataset)\n",
    "round_df(df, decimals=4)"
   ]
  },
  {
   "cell_type": "code",
   "execution_count": 4,
   "id": "chronic-webmaster",
   "metadata": {},
   "outputs": [],
   "source": [
    "frequent_itemsets, association_rules_df = calculate_association(dataset)"
   ]
  },
  {
   "cell_type": "code",
   "execution_count": 5,
   "id": "liberal-fence",
   "metadata": {},
   "outputs": [
    {
     "output_type": "execute_result",
     "data": {
      "text/plain": [
       "    support                                     itemsets\n",
       "0       0.4                                       (Corn)\n",
       "1       0.8                                       (Eggs)\n",
       "2       1.0                               (Kidney Beans)\n",
       "3       0.6                                       (Milk)\n",
       "4       0.4                                     (Nutmeg)\n",
       "5       0.6                                      (Onion)\n",
       "6       0.6                                     (Yogurt)\n",
       "7       0.4                         (Corn, Kidney Beans)\n",
       "8       0.8                         (Eggs, Kidney Beans)\n",
       "9       0.4                                 (Eggs, Milk)\n",
       "10      0.4                               (Nutmeg, Eggs)\n",
       "11      0.6                                (Eggs, Onion)\n",
       "12      0.4                               (Eggs, Yogurt)\n",
       "13      0.6                         (Kidney Beans, Milk)\n",
       "14      0.4                       (Nutmeg, Kidney Beans)\n",
       "15      0.6                        (Kidney Beans, Onion)\n",
       "16      0.6                       (Kidney Beans, Yogurt)\n",
       "17      0.4                               (Yogurt, Milk)\n",
       "18      0.4                              (Nutmeg, Onion)\n",
       "19      0.4                             (Nutmeg, Yogurt)\n",
       "20      0.4                              (Yogurt, Onion)\n",
       "21      0.4                   (Eggs, Kidney Beans, Milk)\n",
       "22      0.4                 (Nutmeg, Eggs, Kidney Beans)\n",
       "23      0.6                  (Eggs, Kidney Beans, Onion)\n",
       "24      0.4                 (Eggs, Kidney Beans, Yogurt)\n",
       "25      0.4                        (Nutmeg, Eggs, Onion)\n",
       "26      0.4                       (Nutmeg, Eggs, Yogurt)\n",
       "27      0.4                        (Eggs, Yogurt, Onion)\n",
       "28      0.4                 (Kidney Beans, Yogurt, Milk)\n",
       "29      0.4                (Nutmeg, Kidney Beans, Onion)\n",
       "30      0.4               (Nutmeg, Kidney Beans, Yogurt)\n",
       "31      0.4                (Kidney Beans, Yogurt, Onion)\n",
       "32      0.4                      (Nutmeg, Yogurt, Onion)\n",
       "33      0.4          (Nutmeg, Eggs, Kidney Beans, Onion)\n",
       "34      0.4         (Nutmeg, Eggs, Kidney Beans, Yogurt)\n",
       "35      0.4          (Eggs, Kidney Beans, Yogurt, Onion)\n",
       "36      0.4                (Nutmeg, Eggs, Yogurt, Onion)\n",
       "37      0.4        (Nutmeg, Kidney Beans, Yogurt, Onion)\n",
       "38      0.4  (Nutmeg, Eggs, Kidney Beans, Yogurt, Onion)"
      ],
      "text/html": "<div>\n<style scoped>\n    .dataframe tbody tr th:only-of-type {\n        vertical-align: middle;\n    }\n\n    .dataframe tbody tr th {\n        vertical-align: top;\n    }\n\n    .dataframe thead th {\n        text-align: right;\n    }\n</style>\n<table border=\"1\" class=\"dataframe\">\n  <thead>\n    <tr style=\"text-align: right;\">\n      <th></th>\n      <th>support</th>\n      <th>itemsets</th>\n    </tr>\n  </thead>\n  <tbody>\n    <tr>\n      <th>0</th>\n      <td>0.4</td>\n      <td>(Corn)</td>\n    </tr>\n    <tr>\n      <th>1</th>\n      <td>0.8</td>\n      <td>(Eggs)</td>\n    </tr>\n    <tr>\n      <th>2</th>\n      <td>1.0</td>\n      <td>(Kidney Beans)</td>\n    </tr>\n    <tr>\n      <th>3</th>\n      <td>0.6</td>\n      <td>(Milk)</td>\n    </tr>\n    <tr>\n      <th>4</th>\n      <td>0.4</td>\n      <td>(Nutmeg)</td>\n    </tr>\n    <tr>\n      <th>5</th>\n      <td>0.6</td>\n      <td>(Onion)</td>\n    </tr>\n    <tr>\n      <th>6</th>\n      <td>0.6</td>\n      <td>(Yogurt)</td>\n    </tr>\n    <tr>\n      <th>7</th>\n      <td>0.4</td>\n      <td>(Corn, Kidney Beans)</td>\n    </tr>\n    <tr>\n      <th>8</th>\n      <td>0.8</td>\n      <td>(Eggs, Kidney Beans)</td>\n    </tr>\n    <tr>\n      <th>9</th>\n      <td>0.4</td>\n      <td>(Eggs, Milk)</td>\n    </tr>\n    <tr>\n      <th>10</th>\n      <td>0.4</td>\n      <td>(Nutmeg, Eggs)</td>\n    </tr>\n    <tr>\n      <th>11</th>\n      <td>0.6</td>\n      <td>(Eggs, Onion)</td>\n    </tr>\n    <tr>\n      <th>12</th>\n      <td>0.4</td>\n      <td>(Eggs, Yogurt)</td>\n    </tr>\n    <tr>\n      <th>13</th>\n      <td>0.6</td>\n      <td>(Kidney Beans, Milk)</td>\n    </tr>\n    <tr>\n      <th>14</th>\n      <td>0.4</td>\n      <td>(Nutmeg, Kidney Beans)</td>\n    </tr>\n    <tr>\n      <th>15</th>\n      <td>0.6</td>\n      <td>(Kidney Beans, Onion)</td>\n    </tr>\n    <tr>\n      <th>16</th>\n      <td>0.6</td>\n      <td>(Kidney Beans, Yogurt)</td>\n    </tr>\n    <tr>\n      <th>17</th>\n      <td>0.4</td>\n      <td>(Yogurt, Milk)</td>\n    </tr>\n    <tr>\n      <th>18</th>\n      <td>0.4</td>\n      <td>(Nutmeg, Onion)</td>\n    </tr>\n    <tr>\n      <th>19</th>\n      <td>0.4</td>\n      <td>(Nutmeg, Yogurt)</td>\n    </tr>\n    <tr>\n      <th>20</th>\n      <td>0.4</td>\n      <td>(Yogurt, Onion)</td>\n    </tr>\n    <tr>\n      <th>21</th>\n      <td>0.4</td>\n      <td>(Eggs, Kidney Beans, Milk)</td>\n    </tr>\n    <tr>\n      <th>22</th>\n      <td>0.4</td>\n      <td>(Nutmeg, Eggs, Kidney Beans)</td>\n    </tr>\n    <tr>\n      <th>23</th>\n      <td>0.6</td>\n      <td>(Eggs, Kidney Beans, Onion)</td>\n    </tr>\n    <tr>\n      <th>24</th>\n      <td>0.4</td>\n      <td>(Eggs, Kidney Beans, Yogurt)</td>\n    </tr>\n    <tr>\n      <th>25</th>\n      <td>0.4</td>\n      <td>(Nutmeg, Eggs, Onion)</td>\n    </tr>\n    <tr>\n      <th>26</th>\n      <td>0.4</td>\n      <td>(Nutmeg, Eggs, Yogurt)</td>\n    </tr>\n    <tr>\n      <th>27</th>\n      <td>0.4</td>\n      <td>(Eggs, Yogurt, Onion)</td>\n    </tr>\n    <tr>\n      <th>28</th>\n      <td>0.4</td>\n      <td>(Kidney Beans, Yogurt, Milk)</td>\n    </tr>\n    <tr>\n      <th>29</th>\n      <td>0.4</td>\n      <td>(Nutmeg, Kidney Beans, Onion)</td>\n    </tr>\n    <tr>\n      <th>30</th>\n      <td>0.4</td>\n      <td>(Nutmeg, Kidney Beans, Yogurt)</td>\n    </tr>\n    <tr>\n      <th>31</th>\n      <td>0.4</td>\n      <td>(Kidney Beans, Yogurt, Onion)</td>\n    </tr>\n    <tr>\n      <th>32</th>\n      <td>0.4</td>\n      <td>(Nutmeg, Yogurt, Onion)</td>\n    </tr>\n    <tr>\n      <th>33</th>\n      <td>0.4</td>\n      <td>(Nutmeg, Eggs, Kidney Beans, Onion)</td>\n    </tr>\n    <tr>\n      <th>34</th>\n      <td>0.4</td>\n      <td>(Nutmeg, Eggs, Kidney Beans, Yogurt)</td>\n    </tr>\n    <tr>\n      <th>35</th>\n      <td>0.4</td>\n      <td>(Eggs, Kidney Beans, Yogurt, Onion)</td>\n    </tr>\n    <tr>\n      <th>36</th>\n      <td>0.4</td>\n      <td>(Nutmeg, Eggs, Yogurt, Onion)</td>\n    </tr>\n    <tr>\n      <th>37</th>\n      <td>0.4</td>\n      <td>(Nutmeg, Kidney Beans, Yogurt, Onion)</td>\n    </tr>\n    <tr>\n      <th>38</th>\n      <td>0.4</td>\n      <td>(Nutmeg, Eggs, Kidney Beans, Yogurt, Onion)</td>\n    </tr>\n  </tbody>\n</table>\n</div>"
     },
     "metadata": {},
     "execution_count": 5
    }
   ],
   "source": [
    "round_df(frequent_itemsets, decimals=4)"
   ]
  },
  {
   "cell_type": "code",
   "execution_count": 6,
   "id": "vital-japanese",
   "metadata": {
    "scrolled": false
   },
   "outputs": [
    {
     "output_type": "execute_result",
     "data": {
      "text/plain": [
       "         antecedents                          consequents  antecedent support  \\\n",
       "0             (Corn)                       (Kidney Beans)                 0.4   \n",
       "1             (Eggs)                       (Kidney Beans)                 0.8   \n",
       "2           (Nutmeg)                               (Eggs)                 0.4   \n",
       "3            (Onion)                               (Eggs)                 0.6   \n",
       "4             (Milk)                       (Kidney Beans)                 0.6   \n",
       "..               ...                                  ...                 ...   \n",
       "95  (Nutmeg, Yogurt)          (Eggs, Kidney Beans, Onion)                 0.4   \n",
       "96   (Nutmeg, Onion)         (Eggs, Kidney Beans, Yogurt)                 0.4   \n",
       "97    (Eggs, Yogurt)        (Nutmeg, Kidney Beans, Onion)                 0.4   \n",
       "98   (Yogurt, Onion)         (Nutmeg, Eggs, Kidney Beans)                 0.4   \n",
       "99          (Nutmeg)  (Eggs, Kidney Beans, Yogurt, Onion)                 0.4   \n",
       "\n",
       "    consequent support  support  confidence    lift  leverage  conviction  \n",
       "0                  1.0      0.4         1.0  1.0000      0.00         inf  \n",
       "1                  1.0      0.8         1.0  1.0000      0.00         inf  \n",
       "2                  0.8      0.4         1.0  1.2500      0.08         inf  \n",
       "3                  0.8      0.6         1.0  1.2500      0.12         inf  \n",
       "4                  1.0      0.6         1.0  1.0000      0.00         inf  \n",
       "..                 ...      ...         ...     ...       ...         ...  \n",
       "95                 0.6      0.4         1.0  1.6667      0.16         inf  \n",
       "96                 0.4      0.4         1.0  2.5000      0.24         inf  \n",
       "97                 0.4      0.4         1.0  2.5000      0.24         inf  \n",
       "98                 0.4      0.4         1.0  2.5000      0.24         inf  \n",
       "99                 0.4      0.4         1.0  2.5000      0.24         inf  \n",
       "\n",
       "[100 rows x 9 columns]"
      ],
      "text/html": "<div>\n<style scoped>\n    .dataframe tbody tr th:only-of-type {\n        vertical-align: middle;\n    }\n\n    .dataframe tbody tr th {\n        vertical-align: top;\n    }\n\n    .dataframe thead th {\n        text-align: right;\n    }\n</style>\n<table border=\"1\" class=\"dataframe\">\n  <thead>\n    <tr style=\"text-align: right;\">\n      <th></th>\n      <th>antecedents</th>\n      <th>consequents</th>\n      <th>antecedent support</th>\n      <th>consequent support</th>\n      <th>support</th>\n      <th>confidence</th>\n      <th>lift</th>\n      <th>leverage</th>\n      <th>conviction</th>\n    </tr>\n  </thead>\n  <tbody>\n    <tr>\n      <th>0</th>\n      <td>(Corn)</td>\n      <td>(Kidney Beans)</td>\n      <td>0.4</td>\n      <td>1.0</td>\n      <td>0.4</td>\n      <td>1.0</td>\n      <td>1.0000</td>\n      <td>0.00</td>\n      <td>inf</td>\n    </tr>\n    <tr>\n      <th>1</th>\n      <td>(Eggs)</td>\n      <td>(Kidney Beans)</td>\n      <td>0.8</td>\n      <td>1.0</td>\n      <td>0.8</td>\n      <td>1.0</td>\n      <td>1.0000</td>\n      <td>0.00</td>\n      <td>inf</td>\n    </tr>\n    <tr>\n      <th>2</th>\n      <td>(Nutmeg)</td>\n      <td>(Eggs)</td>\n      <td>0.4</td>\n      <td>0.8</td>\n      <td>0.4</td>\n      <td>1.0</td>\n      <td>1.2500</td>\n      <td>0.08</td>\n      <td>inf</td>\n    </tr>\n    <tr>\n      <th>3</th>\n      <td>(Onion)</td>\n      <td>(Eggs)</td>\n      <td>0.6</td>\n      <td>0.8</td>\n      <td>0.6</td>\n      <td>1.0</td>\n      <td>1.2500</td>\n      <td>0.12</td>\n      <td>inf</td>\n    </tr>\n    <tr>\n      <th>4</th>\n      <td>(Milk)</td>\n      <td>(Kidney Beans)</td>\n      <td>0.6</td>\n      <td>1.0</td>\n      <td>0.6</td>\n      <td>1.0</td>\n      <td>1.0000</td>\n      <td>0.00</td>\n      <td>inf</td>\n    </tr>\n    <tr>\n      <th>...</th>\n      <td>...</td>\n      <td>...</td>\n      <td>...</td>\n      <td>...</td>\n      <td>...</td>\n      <td>...</td>\n      <td>...</td>\n      <td>...</td>\n      <td>...</td>\n    </tr>\n    <tr>\n      <th>95</th>\n      <td>(Nutmeg, Yogurt)</td>\n      <td>(Eggs, Kidney Beans, Onion)</td>\n      <td>0.4</td>\n      <td>0.6</td>\n      <td>0.4</td>\n      <td>1.0</td>\n      <td>1.6667</td>\n      <td>0.16</td>\n      <td>inf</td>\n    </tr>\n    <tr>\n      <th>96</th>\n      <td>(Nutmeg, Onion)</td>\n      <td>(Eggs, Kidney Beans, Yogurt)</td>\n      <td>0.4</td>\n      <td>0.4</td>\n      <td>0.4</td>\n      <td>1.0</td>\n      <td>2.5000</td>\n      <td>0.24</td>\n      <td>inf</td>\n    </tr>\n    <tr>\n      <th>97</th>\n      <td>(Eggs, Yogurt)</td>\n      <td>(Nutmeg, Kidney Beans, Onion)</td>\n      <td>0.4</td>\n      <td>0.4</td>\n      <td>0.4</td>\n      <td>1.0</td>\n      <td>2.5000</td>\n      <td>0.24</td>\n      <td>inf</td>\n    </tr>\n    <tr>\n      <th>98</th>\n      <td>(Yogurt, Onion)</td>\n      <td>(Nutmeg, Eggs, Kidney Beans)</td>\n      <td>0.4</td>\n      <td>0.4</td>\n      <td>0.4</td>\n      <td>1.0</td>\n      <td>2.5000</td>\n      <td>0.24</td>\n      <td>inf</td>\n    </tr>\n    <tr>\n      <th>99</th>\n      <td>(Nutmeg)</td>\n      <td>(Eggs, Kidney Beans, Yogurt, Onion)</td>\n      <td>0.4</td>\n      <td>0.4</td>\n      <td>0.4</td>\n      <td>1.0</td>\n      <td>2.5000</td>\n      <td>0.24</td>\n      <td>inf</td>\n    </tr>\n  </tbody>\n</table>\n<p>100 rows × 9 columns</p>\n</div>"
     },
     "metadata": {},
     "execution_count": 6
    }
   ],
   "source": [
    "round_df(association_rules_df, decimals=4)"
   ]
  }
 ],
 "metadata": {
  "kernelspec": {
   "display_name": "Python 3",
   "language": "python",
   "name": "python3"
  },
  "language_info": {
   "codemirror_mode": {
    "name": "ipython",
    "version": 3
   },
   "file_extension": ".py",
   "mimetype": "text/x-python",
   "name": "python",
   "nbconvert_exporter": "python",
   "pygments_lexer": "ipython3",
   "version": "3.8.5"
  }
 },
 "nbformat": 4,
 "nbformat_minor": 5
}