{
 "cells": [
  {
   "source": [
    "# Example of Class RatinaNetPrediction"
   ],
   "cell_type": "markdown",
   "metadata": {}
  },
  {
   "cell_type": "code",
   "execution_count": 1,
   "metadata": {},
   "outputs": [
    {
     "output_type": "execute_result",
     "data": {
      "text/plain": [
       "<config_loader.ConfigLoader at 0x1c3e74c87c0>"
      ]
     },
     "metadata": {},
     "execution_count": 1
    }
   ],
   "source": [
    "from util.init_sys import InitSystem\n",
    "InitSystem().init()"
   ]
  },
  {
   "cell_type": "code",
   "execution_count": 2,
   "metadata": {},
   "outputs": [],
   "source": [
    "import json\n",
    "with open('config/class.json', 'r') as f:\n",
    "    class_label = json.loads(f.read())"
   ]
  },
  {
   "cell_type": "code",
   "execution_count": 3,
   "metadata": {},
   "outputs": [],
   "source": [
    "from predictor import RatinaNetPrediction"
   ]
  },
  {
   "cell_type": "code",
   "execution_count": 4,
   "metadata": {},
   "outputs": [
    {
     "output_type": "stream",
     "name": "stdout",
     "text": [
      "WARNING:tensorflow:No training configuration found in the save file, so the model was *not* compiled. Compile it manually.\n",
      "[('laptop', 'tv', 'cup', 'laptop', 'mouse'), ('person', 'person', 'tie'), (), ('laptop',), ('cat',), ('dog',)]\n"
     ]
    }
   ],
   "source": [
    "odp = RatinaNetPrediction(\n",
    "                                    model_path='model/object_detection.h5',\n",
    "                                    class_label=class_label['object_detection_label'] \n",
    "                                    )\n",
    "prediction, list_of_image_path = odp.predict_form_path('static/downloads/hashtag/demo/demo2/*.jpg')\n",
    "print(odp.decode_predictions(prediction))"
   ]
  },
  {
   "cell_type": "code",
   "execution_count": 5,
   "metadata": {},
   "outputs": [
    {
     "output_type": "execute_result",
     "data": {
      "text/plain": [
       "[array([[[502, 275, 799, 573],\n",
       "         [ 73, 130, 572, 425],\n",
       "         [  0, 508, 112, 638],\n",
       "         ...,\n",
       "         [ -1,  -1,  -1,  -1],\n",
       "         [ -1,  -1,  -1,  -1],\n",
       "         [ -1,  -1,  -1,  -1]],\n",
       " \n",
       "        [[425,  18, 784, 787],\n",
       "         [ 39, 238, 476, 799],\n",
       "         [474, 422, 580, 795],\n",
       "         ...,\n",
       "         [383, 290, 494, 573],\n",
       "         [438, 170, 757, 395],\n",
       "         [460, 282, 528, 433]],\n",
       " \n",
       "        [[297,  39, 647, 646],\n",
       "         [305,  24, 639, 382],\n",
       "         [297,  23, 655, 773],\n",
       "         ...,\n",
       "         [ -1,  -1,  -1,  -1],\n",
       "         [ -1,  -1,  -1,  -1],\n",
       "         [ -1,  -1,  -1,  -1]],\n",
       " \n",
       "        [[114, 297, 343, 544],\n",
       "         [592, 403, 750, 701],\n",
       "         [191, 443, 329, 540],\n",
       "         ...,\n",
       "         [221, 444, 273, 499],\n",
       "         [461, 372, 514, 391],\n",
       "         [282, 202, 342, 384]],\n",
       " \n",
       "        [[  9, 199, 570, 791],\n",
       "         [ 33, 220, 561, 799],\n",
       "         [ 22, 241, 560, 799],\n",
       "         ...,\n",
       "         [ -1,  -1,  -1,  -1],\n",
       "         [ -1,  -1,  -1,  -1],\n",
       "         [ -1,  -1,  -1,  -1]],\n",
       " \n",
       "        [[ 23,  55, 783, 793],\n",
       "         [693, 243, 799, 467],\n",
       "         [583,  25, 622, 147],\n",
       "         ...,\n",
       "         [ -1,  -1,  -1,  -1],\n",
       "         [ -1,  -1,  -1,  -1],\n",
       "         [ -1,  -1,  -1,  -1]]]),\n",
       " array([[ 0.9386667 ,  0.7480694 ,  0.71831304, ..., -1.        ,\n",
       "         -1.        , -1.        ],\n",
       "        [ 0.8123083 ,  0.6774877 ,  0.60892   , ...,  0.06155428,\n",
       "          0.0615072 ,  0.06131044],\n",
       "        [ 0.40586287,  0.29920578,  0.22721922, ..., -1.        ,\n",
       "         -1.        , -1.        ],\n",
       "        [ 0.7122179 ,  0.5134657 ,  0.4400755 , ...,  0.05766064,\n",
       "          0.05763423,  0.05760026],\n",
       "        [ 0.8181482 ,  0.35626155,  0.23142666, ..., -1.        ,\n",
       "         -1.        , -1.        ],\n",
       "        [ 0.96637106,  0.1409227 ,  0.11846456, ..., -1.        ,\n",
       "         -1.        , -1.        ]], dtype=float32),\n",
       " array([[63, 62, 41, ..., -1, -1, -1],\n",
       "        [ 0,  0, 27, ..., 79, 56, 77],\n",
       "        [63, 62, 62, ..., -1, -1, -1],\n",
       "        [63, 76, 66, ..., 66, 71,  0],\n",
       "        [15, 16, 14, ..., -1, -1, -1],\n",
       "        [16, 77, 73, ..., -1, -1, -1]])]"
      ]
     },
     "metadata": {},
     "execution_count": 5
    }
   ],
   "source": [
    "prediction"
   ]
  }
 ],
 "metadata": {
  "kernelspec": {
   "display_name": "Python 3",
   "language": "python",
   "name": "python3"
  },
  "language_info": {
   "codemirror_mode": {
    "name": "ipython",
    "version": 3
   },
   "file_extension": ".py",
   "mimetype": "text/x-python",
   "name": "python",
   "nbconvert_exporter": "python",
   "pygments_lexer": "ipython3",
   "version": "3.8.5"
  }
 },
 "nbformat": 4,
 "nbformat_minor": 2
}