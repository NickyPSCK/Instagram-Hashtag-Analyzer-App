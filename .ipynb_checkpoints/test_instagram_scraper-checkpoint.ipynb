{
 "cells": [
  {
   "cell_type": "code",
   "execution_count": null,
   "metadata": {},
   "outputs": [
    {
     "name": "stdout",
     "output_type": "stream",
     "text": [
      "ad_dataset/20210226_141647_apple/2021-02-26_14-16-42_UTC.jpg [♡ ยินดีต้อนรับสู่อาณาจักรผ่อน…] json \n",
      "[مقارنة السماعات من حيث التصمي…] json \n",
      "ad_dataset/20210226_141647_apple/2021-02-26_14-16-37_UTC.jpg [#viral #attitude #apple #fash…] json \n"
     ]
    }
   ],
   "source": [
    "from config_loader import ConfigLoader\n",
    "from instagram_scraper import InstagramScraper\n",
    "from datetime import datetime, timezone\n",
    "\n",
    "cl = ConfigLoader()\n",
    "user = cl.get('login', 'user', data_type=str)\n",
    "password = cl.get('login', 'password', data_type=str)\n",
    "insta = InstagramScraper(user=user, password=password)\n",
    "\n",
    "prefix = datetime.now(timezone.utc).strftime(\"%Y%m%d_%H%M%S\")\n",
    "insta.download_from_hashtag(hashtag='apple', path='ad_dataset/', prefix=prefix, limit=5)"
   ]
  }
 ],
 "metadata": {
  "kernelspec": {
   "display_name": "Python 3",
   "language": "python",
   "name": "python3"
  },
  "language_info": {
   "codemirror_mode": {
    "name": "ipython",
    "version": 3
   },
   "file_extension": ".py",
   "mimetype": "text/x-python",
   "name": "python",
   "nbconvert_exporter": "python",
   "pygments_lexer": "ipython3",
   "version": "3.7.3"
  }
 },
 "nbformat": 4,
 "nbformat_minor": 5
}
